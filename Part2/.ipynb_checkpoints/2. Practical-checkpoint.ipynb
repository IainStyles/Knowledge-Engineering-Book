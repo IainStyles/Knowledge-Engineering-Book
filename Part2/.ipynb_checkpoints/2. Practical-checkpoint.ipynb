{
 "cells": [
  {
   "cell_type": "markdown",
   "metadata": {},
   "source": [
    "This section has been inspired by the work of Robert Haas on Biomedical Knowledge Graphs which can be found at \n",
    "https://github.com/robert-haas/awesome-biomedical-knowledge-graphs/tree/main"
   ]
  },
  {
   "cell_type": "markdown",
   "metadata": {},
   "source": [
    "The source of the data is the webpage on [Figshare](https://figshare.com/articles/dataset/HALD_a_human_aging_and_longevity_knowledge_graph_for_precision_gerontology_and_geroscience_analyses/22828196). This include versions in JSON and CSV. The CSV versions are structured for a particular package which we will not be using, so we will use the json packages which are more general.\n",
    "\n",
    "First we'll create a data directory."
   ]
  },
  {
   "cell_type": "code",
   "execution_count": 1,
   "metadata": {},
   "outputs": [],
   "source": [
    "import os\n",
    "datadir = \"HALD_Dataset\"\n",
    "if not os.path.exists(datadir):\n",
    "    os.mkdir('HALD_Dataset')"
   ]
  },
  {
   "cell_type": "markdown",
   "metadata": {},
   "source": [
    "Now we define the list of the files that we want to download. We'll define a *list* of *tuples*, with each tuple representing one of the files that we want to fetch, specifying three things:\n",
    "\n",
    "* The name that we want the file to be called.\n",
    "* The URL from where it will be downloaded.\n",
    "* The MD5 checksum which will allow us to verify the downloaded file's integrity."
   ]
  },
  {
   "cell_type": "code",
   "execution_count": 2,
   "metadata": {},
   "outputs": [],
   "source": [
    "# List of files to download\n",
    "filelist = [\n",
    "    (\"Entity_info.json\", \"https://figshare.com/ndownloader/files/43612509\", '1746cde24a1bac0460f1ccf646608cc9'),\n",
    "    (\"Literature_Info.json\", \"https://figshare.com/ndownloader/files/43612512\", \"10b78e8ec30f5b85f2a58d8fe24f056b\"),\n",
    "    (\"Longevity_Biomarkers.json\", \"https://figshare.com/ndownloader/files/43612497\", \"0dbd9c3f8474dc3cd744ed38af460d75\"),\n",
    "    (\"Relation_Info.json\", \"https://figshare.com/ndownloader/files/43612506\", \"0c1fa199269adc58f64ad4d5b9fd87b9\"),\n",
    "    (\"Aging_Biomarkers.json\", \"https://figshare.com/ndownloader/files/43612503\", \"abd0eb6cb7295ae500c5d676b7797324\")\n",
    "]"
   ]
  },
  {
   "cell_type": "markdown",
   "metadata": {},
   "source": [
    "Now we can download the files. For each file in `filelist` we will:\n",
    "\n",
    "* Download the file from the URL.\n",
    "* If the download request indicates that the download is unsuccessful, print an error.\n",
    "* If the download is successfull, verify the checksum and if that is correct, write the file to disk in `datadir`"
   ]
  },
  {
   "cell_type": "code",
   "execution_count": null,
   "metadata": {},
   "outputs": [],
   "source": [
    "import requests\n",
    "import hashlib\n",
    "\n",
    "for f in filelist:\n",
    "    response = requests.get(f[1])\n",
    "    file_Path = datadir + \"/\" + f[0]\n",
    "    if response.status_code != 200:\n",
    "        print('Failed to download file {f[0]} from {f[1]}')\n",
    "    else:\n",
    "        m = hashlib.md5()\n",
    "        m.update(response.content)\n",
    "        if m.hexdigest() == f[2]:\n",
    "            print(f\"SUCCESS: File {f[0]} downloaded from {f[1]} with correct checksum {f[2]}\")\n",
    "            with open(file_Path, 'wb') as file:\n",
    "                file.write(response.content)\n",
    "        else:\n",
    "            print(f\"ERROR: File {f[0]} downloaded from {f[1]} with incorrect checksum {m.hexdigest()} (should be {f[2]})\")            \n"
   ]
  },
  {
   "cell_type": "markdown",
   "metadata": {},
   "source": [
    "Let us inspect these files. The two key files here are those containing the *entities* (nodes) and the *edges* (relations)."
   ]
  },
  {
   "cell_type": "code",
   "execution_count": 3,
   "metadata": {},
   "outputs": [],
   "source": [
    "import json\n",
    "\n",
    "def load_json(fname):\n",
    "    with open(fname, 'rb') as file:\n",
    "        return json.load(file)\n",
    "\n",
    "nodes = load_json(f\"{datadir}/{filelist[0][0]}\")\n",
    "edges = load_json(f\"{datadir}/{filelist[3][0]}\")"
   ]
  },
  {
   "cell_type": "code",
   "execution_count": 4,
   "metadata": {},
   "outputs": [
    {
     "name": "stdout",
     "output_type": "stream",
     "text": [
      "12257\n"
     ]
    }
   ],
   "source": [
    "print(len(nodes))"
   ]
  }
 ],
 "metadata": {
  "kernelspec": {
   "display_name": "Python 3",
   "language": "python",
   "name": "python3"
  },
  "language_info": {
   "codemirror_mode": {
    "name": "ipython",
    "version": 3
   },
   "file_extension": ".py",
   "mimetype": "text/x-python",
   "name": "python",
   "nbconvert_exporter": "python",
   "pygments_lexer": "ipython3",
   "version": "3.9.6"
  }
 },
 "nbformat": 4,
 "nbformat_minor": 2
}
