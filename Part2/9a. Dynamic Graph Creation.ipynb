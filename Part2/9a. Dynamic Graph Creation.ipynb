{
 "cells": [
  {
   "cell_type": "markdown",
   "metadata": {},
   "source": [
    "# Example of dynamic network creation\n",
    "\n",
    "This notebook shows how to create a simple network first, using the standard techniques that we have already met, and then using a technique for dynamic class and object creation, binding classes and objects to dictionaries to enable iterative creatio of the class definitions and the object instantiations."
   ]
  },
  {
   "cell_type": "code",
   "execution_count": null,
   "metadata": {},
   "outputs": [],
   "source": [
    "from owlready2 import  *\n",
    "\n",
    "onto = get_ontology(\"http://www.dummy.info/new.owl\")"
   ]
  },
  {
   "cell_type": "code",
   "execution_count": null,
   "metadata": {},
   "outputs": [],
   "source": [
    "with onto:\n",
    "   \n",
    "\n",
    "    class e1(Thing): pass\n",
    "    class e2(Thing): pass\n",
    "    class e3(Thing): pass\n",
    "\n",
    "    class r1(ObjectProperty):\n",
    "        name = 'relation1'\n",
    "        domain = [e1,e2]\n",
    "        range = [e2,e3]\n",
    "\n",
    "    class r2(ObjectProperty):\n",
    "        name = 'relation2'\n",
    "        domain = [e2,e3]\n",
    "        range = [e1]\n",
    "\n",
    "    n1 = e2(name='node1')\n",
    "    n2 = e3(name='node2')\n",
    "    n3 = e1(name='node3')\n",
    "\n",
    "    n1.r1 = [n1,n2]\n",
    "    n2.r2 = [n3]\n",
    "    n3.r2 = [n2]\n",
    "\n",
    "    print(\"Standard way\")\n",
    "    print(f\"{n1.name} is linked to {[k.name for k in n1.r1]} by {r1.__name__}\")\n",
    "    print(f\"{n2.name} is linked to {[k.name for k in n2.r2]} by {r2.name}\")\n",
    "    print(f\"{n3.name} is linked to {[k.name for k in n3.r2]} by {r2.name}\")\n",
    "\n",
    "    ## Now we explore a different approach based on dynamic creation of classes. This approach is useful when we are creating a large network from an external source of data.\n",
    "\n",
    "    # Define the entity types\n",
    "    Entities = {\n",
    "        'ent1': types.new_class('Entity1', (Thing,)),\n",
    "        'ent2': types.new_class('Entity2', (Thing,)),\n",
    "        'ent3': types.new_class('Entity3', (Thing,)),\n",
    "    }\n",
    "\n",
    "    # Relations, defined here to show how to do it but we will not use them\n",
    "    Relations = dict()\n",
    "    Relations['r1'] = types.new_class('Relation1', (ObjectProperty,))\n",
    "    Relations['r1'].name = 'rel1'\n",
    "    Relations['r1'].domain = [Entities['ent1'], Entities['ent2']]\n",
    "    Relations['r1'].domain = [Entities['ent2'], Entities['ent3']]\n",
    "    \n",
    "    Relations['r2'] = types.new_class('Relation2', (ObjectProperty,))\n",
    "    Relations['r1'].name = 'rel2'\n",
    "    Relations['r2'].domain = [Entities['ent2'], Entities['ent3']]\n",
    "    Relations['r2'].domain = [Entities['ent1']]\n",
    "\n",
    "    #define the nodes in the graph\n",
    "    Nodes = {\n",
    "        'no1': Entities['ent2'](name='dnode1'),\n",
    "        'no2': Entities['ent3'](name='dnode2'),\n",
    "        'no3': Entities['ent1'](name='dnode3')\n",
    "    }\n",
    "\n",
    "\n",
    "\n",
    "    # Define the relation. We do not, here use the relations as defined above for technical reasons but instead bind to a new object property \n",
    "    Nodes['no1'].rel = [Nodes['no2']]\n",
    "    Nodes['no1'].rel.append(Nodes['no1'])\n",
    "    Nodes['no2'].rel = [Nodes['no3']]\n",
    "    Nodes['no3'].rel = [Nodes['no2']]\n",
    "    \n",
    "    print(\"\\nDynamic way\")\n",
    "    print(f\"{Nodes['no1'].name} is linked to {[k.name for k in Nodes['no1'].rel]}\")\n",
    "    print(f\"{Nodes['no2'].name} is linked to {[k.name for k in Nodes['no2'].rel]}\")\n",
    "    print(f\"{Nodes['no3'].name} is linked to {[k.name for k in Nodes['no3'].rel]}\")\n",
    "\n",
    "\n",
    "onto.save('links.rdf')"
   ]
  }
 ],
 "metadata": {
  "kernelspec": {
   "display_name": "Python 3",
   "language": "python",
   "name": "python3"
  },
  "language_info": {
   "codemirror_mode": {
    "name": "ipython",
    "version": 3
   },
   "file_extension": ".py",
   "mimetype": "text/x-python",
   "name": "python",
   "nbconvert_exporter": "python",
   "pygments_lexer": "ipython3",
   "version": "3.9.6"
  }
 },
 "nbformat": 4,
 "nbformat_minor": 2
}
