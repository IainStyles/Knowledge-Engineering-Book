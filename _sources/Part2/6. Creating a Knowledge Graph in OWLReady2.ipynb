{
 "cells": [
  {
   "cell_type": "markdown",
   "metadata": {},
   "source": []
  },
  {
   "cell_type": "markdown",
   "metadata": {},
   "source": [
    "# Exercise on Knowledge Graphs"
   ]
  },
  {
   "cell_type": "code",
   "execution_count": 1,
   "metadata": {},
   "outputs": [
    {
     "name": "stdout",
     "output_type": "stream",
     "text": [
      "Defaulting to user installation because normal site-packages is not writeable\n",
      "Requirement already satisfied: owlready2 in /Users/s3057867/Library/Python/3.9/lib/python/site-packages (0.47)\n"
     ]
    }
   ],
   "source": [
    "!pip install owlready2\n",
    "from owlready2 import *\n",
    "# owlready2.JAVA_EXE = \"C:\\\\path\\\\to\\\\java.exe\" #windows users\n"
   ]
  },
  {
   "cell_type": "markdown",
   "metadata": {},
   "source": [
    "We begin by importing an ontology. If we are extending an existing ontology then we would import this here. However, here we are creating an ontology from scratch, so we import a blank ontology."
   ]
  },
  {
   "cell_type": "code",
   "execution_count": 2,
   "metadata": {},
   "outputs": [],
   "source": [
    "onto = get_ontology(\"http://www.dummy.info/new.owl\")"
   ]
  },
  {
   "cell_type": "markdown",
   "metadata": {},
   "source": [
    "We will now create some *classes* (types) of entity and attach these to the ontology. One way of doing this is use `with` which \"opens\" the ontology object we have just created and creates our new entities within it. Each entity is created by creating a new class of type `onto.Thing`."
   ]
  },
  {
   "cell_type": "code",
   "execution_count": 3,
   "metadata": {},
   "outputs": [],
   "source": [
    "\n",
    "with onto: # This automatically attached the entities to the ontology\n",
    "    class QUBStaff(Thing):\n",
    "        pass\n",
    "\n",
    "    class QUBStudent(Thing):\n",
    "        pass\n",
    "\n",
    "    class Program(Thing):\n",
    "        pass\n",
    "\n",
    "    class Module(Thing):\n",
    "        pass"
   ]
  },
  {
   "cell_type": "markdown",
   "metadata": {},
   "source": [
    "Now we can attach some attributes (properties to each of the entities). For each attribute, we will need to specify which type of entity the property should be attached to, and what the type of the allowable values is:"
   ]
  },
  {
   "cell_type": "code",
   "execution_count": 4,
   "metadata": {},
   "outputs": [],
   "source": [
    "with onto:\n",
    "    class staff_id(DataProperty):\n",
    "        domain = [QUBStaff]\n",
    "        range = [int]\n",
    "\n",
    "    # Leave this one out initially to demonstrate reparenting\n",
    "    class staff_title(DataProperty):\n",
    "        domain = [QUBStaff]\n",
    "        range = [str]\n",
    "\n",
    "    class student_id(DataProperty):\n",
    "        domain = [QUBStudent]\n",
    "        range = [int]\n",
    "\n",
    "    class person_name(DataProperty):\n",
    "        domain = [QUBStaff,QUBStudent]\n",
    "        range = [str]\n",
    "\n",
    "    class ProgramTitle(DataProperty):\n",
    "        domain = [Program]\n",
    "        range = [str]\n",
    "\n",
    "    class ProgramID(DataProperty):\n",
    "        domain = [Module]\n",
    "        range = [int]\n",
    "\n",
    "    # Leave this one out initially to demonstrate reparenting\n",
    "    class ProgramLength(DataProperty):\n",
    "        domain = [Program]\n",
    "        range = [str]\n",
    "\n",
    "    class ModuleTitle(DataProperty):\n",
    "        domain = [Module]\n",
    "        range = [str]\n",
    "\n",
    "    class ModuleID(DataProperty):\n",
    "        domain = [Module]\n",
    "        range = [int]"
   ]
  },
  {
   "cell_type": "markdown",
   "metadata": {},
   "source": [
    "Now we specify some relations. These are specified as `ObjectProperty` and must tell us what type of `Thing` they can be between:"
   ]
  },
  {
   "cell_type": "code",
   "execution_count": 5,
   "metadata": {},
   "outputs": [],
   "source": [
    "with onto:\n",
    "    class teaches(ObjectProperty):\n",
    "        domain = [QUBStaff]\n",
    "        range = [Module]\n",
    "\n",
    "    class enrolled_on(ObjectProperty):\n",
    "        domain = [QUBStudent]\n",
    "        range = [Program]\n",
    "\n",
    "    class includes_module(ObjectProperty):\n",
    "        domain = [Program]\n",
    "        range = [Module]\n",
    "\n",
    "    class takes(ObjectProperty):\n",
    "        domain = [QUBStudent]\n",
    "        range = [Module]"
   ]
  },
  {
   "cell_type": "markdown",
   "metadata": {},
   "source": [
    "Let's save the ontology here"
   ]
  },
  {
   "cell_type": "code",
   "execution_count": 6,
   "metadata": {},
   "outputs": [],
   "source": [
    "onto.save('teaching.rdf')"
   ]
  },
  {
   "cell_type": "markdown",
   "metadata": {},
   "source": [
    "## Populating the Graph\n",
    "\n",
    "Now we populate the graph. We'll include:\n",
    "* Six modules\n",
    "* Two programs\n",
    "* Six members of academic staff\n",
    "* Two members of administrative staff\n",
    "* Five students"
   ]
  },
  {
   "cell_type": "markdown",
   "metadata": {},
   "source": [
    "Create the modules"
   ]
  },
  {
   "cell_type": "code",
   "execution_count": 7,
   "metadata": {},
   "outputs": [],
   "source": [
    "knowledgeengineering = Module(name='knowledgeengineering', ModuleTitle = [\"Knowledge Engineering\"], ModuleID = [8052])\n",
    "introtoai = Module(name='introtoai', ModuleTitle = [\"Introduction to AI\"], ModuleID = [8050])\n",
    "compvision = Module(name='compvision', ModuleTitle = [\"Computer Vision\"], ModuleID = [8053])\n",
    "nlp = Module(name='nlp', ModuleTitle = [\"Natural Language Processing\"], ModuleID = [8054])\n",
    "aiforhealth = Module(name='aiforhealth', ModuleTitle = [\"AI for Health\"], ModuleID = [8055])\n",
    "\n",
    "# can also do it this way\n",
    "machinelearning = Module(name='machinelearning')\n",
    "machinelearning.ModuleTitle = [\"MachineLearning\"]\n",
    "machinelearning.ModuleID = [8051]\n"
   ]
  },
  {
   "cell_type": "markdown",
   "metadata": {},
   "source": [
    "Now we add two programs"
   ]
  },
  {
   "cell_type": "code",
   "execution_count": 8,
   "metadata": {},
   "outputs": [],
   "source": [
    "mscaift = Program(name='mscaift', ProgramTitle = ['MSc AI Full-time'], ProgramID = [12345], ProgramLength = ['1 year'])\n",
    "mscaipt = Program(name='mscaipt', ProgramTitle = ['MSc AI Part-time'], ProgramID = [52345], ProgramLength = ['2 years'])\n"
   ]
  },
  {
   "cell_type": "markdown",
   "metadata": {},
   "source": [
    "Six academic staff and two administrators - we will create these just as QUB staff and let the equivalence relation do the work"
   ]
  },
  {
   "cell_type": "code",
   "execution_count": 9,
   "metadata": {},
   "outputs": [],
   "source": [
    "lb = QUBStaff(name='lb', person_name = [\"Lu Bai\"], staff_id = [456789], staff_title = ['Dr'])\n",
    "hw = QUBStaff(name='hw', person_name = [\"Hui Wang\"], staff_id = [945678], staff_title = ['Professor'])\n",
    "ibs = QUBStaff(name='ibs', person_name = [\"Iain Styles\"], staff_id = [894567], staff_title = ['Professor'])\n",
    "yh = QUBStaff(name='yh', person_name = [\"Yang Hua\"], staff_id = [789456], staff_title = ['Dr'])\n",
    "bd = QUBStaff(name='bd', person_name = [\"Barry Devereux\"], staff_id = [678945], staff_title = ['Dr'])\n",
    "rr = QUBStaff(name='rr', person_name = [\"Reza Rafiee\"], staff_id = [567894], staff_title = ['Dr'])\n",
    "ec = QUBStaff(name='ec', person_name = [\"Elaine Cranston\"], staff_id = [345678], staff_title = ['Mrs'])\n",
    "sk = QUBStaff(name='sk', person_name = [\"Sonia Katic\"], staff_id = [456783], staff_title = ['Ms'])"
   ]
  },
  {
   "cell_type": "markdown",
   "metadata": {},
   "source": [
    "Finally, some students"
   ]
  },
  {
   "cell_type": "code",
   "execution_count": 10,
   "metadata": {},
   "outputs": [],
   "source": [
    "at = QUBStudent(name='at', person_name = ['Alan Turing'], student_id = [234567])\n",
    "gh = QUBStudent(name='gh', person_name = ['Grace Hopper'], student_id = [723456])\n",
    "al = QUBStudent(name='al', person_name = ['Ada Lovelace'], student_id = [672345])\n",
    "mm = QUBStudent(name='mm', person_name = ['Marvin Minsky'], student_id = [567234])\n",
    "jm = QUBStudent(name='jm', person_name = ['John McCarthy'], student_id = [456723])"
   ]
  },
  {
   "cell_type": "markdown",
   "metadata": {},
   "source": [
    "Now we add the relations. First, which modules are on each program"
   ]
  },
  {
   "cell_type": "code",
   "execution_count": 11,
   "metadata": {},
   "outputs": [],
   "source": [
    "mscaift.includes_module = [introtoai, machinelearning, knowledgeengineering, compvision, nlp, aiforhealth]\n",
    "mscaift.includes_module = [introtoai, machinelearning, compvision]"
   ]
  },
  {
   "cell_type": "markdown",
   "metadata": {},
   "source": [
    "Now, which students are on each program"
   ]
  },
  {
   "cell_type": "code",
   "execution_count": 12,
   "metadata": {},
   "outputs": [],
   "source": [
    "at.enrolled_on = [mscaift]\n",
    "gh.enrolled_on = [mscaipt]\n",
    "al.enrolled_on = [mscaift]\n",
    "mm.enrolled_on = [mscaipt]\n",
    "jm.enrolled_on = [mscaift]"
   ]
  },
  {
   "cell_type": "markdown",
   "metadata": {},
   "source": [
    "Add students to modules"
   ]
  },
  {
   "cell_type": "code",
   "execution_count": 13,
   "metadata": {},
   "outputs": [],
   "source": [
    "at.takes = [introtoai, machinelearning, knowledgeengineering, compvision, nlp, aiforhealth]\n",
    "gh.takes = [introtoai, machinelearning, knowledgeengineering]\n",
    "al.takes = [introtoai, machinelearning, knowledgeengineering, compvision, nlp, aiforhealth]\n",
    "mm.takes = [introtoai, machinelearning, knowledgeengineering]\n",
    "jm.takes = [aiforhealth]"
   ]
  },
  {
   "cell_type": "markdown",
   "metadata": {},
   "source": [
    "Finally, who teaches what"
   ]
  },
  {
   "cell_type": "code",
   "execution_count": 14,
   "metadata": {},
   "outputs": [],
   "source": [
    "lb.teaches = [introtoai]\n",
    "hw.teaches = [machinelearning]\n",
    "ibs.teaches = [knowledgeengineering]\n",
    "yh.teaches = [compvision]\n",
    "bd.teaches = [nlp]\n",
    "rr.teaches = [aiforhealth]"
   ]
  },
  {
   "cell_type": "code",
   "execution_count": null,
   "metadata": {},
   "outputs": [],
   "source": [
    "onto.save('teaching.rdf')"
   ]
  },
  {
   "cell_type": "markdown",
   "metadata": {},
   "source": [
    "## Querying the graph\n",
    "\n",
    "Now we can construct some simple queries on the graph. The languages designed for this is called SPARQL which is very similar to SQL. Let us see how it works with a few simple examples"
   ]
  },
  {
   "cell_type": "markdown",
   "metadata": {},
   "source": [
    "Get all members of staff"
   ]
  },
  {
   "cell_type": "code",
   "execution_count": 20,
   "metadata": {},
   "outputs": [
    {
     "data": {
      "text/plain": [
       "[[new.lb],\n",
       " [new.hw],\n",
       " [new.ibs],\n",
       " [new.yh],\n",
       " [new.bd],\n",
       " [new.rr],\n",
       " [new.ec],\n",
       " [new.sk]]"
      ]
     },
     "execution_count": 20,
     "metadata": {},
     "output_type": "execute_result"
    }
   ],
   "source": [
    "list(default_world.sparql(\n",
    "    \"\"\"\n",
    "    PREFIX RDF: <http://www.dummy.info/new.owl#>\n",
    "    \n",
    "    SELECT ?x\n",
    "    WHERE{\n",
    "        ?x rdf:type RDF:QUBStaff\n",
    "    }\n",
    "    \"\"\"))"
   ]
  },
  {
   "cell_type": "markdown",
   "metadata": {},
   "source": [
    "Get all students"
   ]
  },
  {
   "cell_type": "code",
   "execution_count": null,
   "metadata": {},
   "outputs": [
    {
     "data": {
      "text/plain": [
       "[[new.at], [new.gh], [new.al], [new.mm], [new.jm]]"
      ]
     },
     "execution_count": 21,
     "metadata": {},
     "output_type": "execute_result"
    }
   ],
   "source": [
    "list(default_world.sparql(\n",
    "    \"\"\"\n",
    "    PREFIX RDF: <http://www.dummy.info/new.owl#>\n",
    "    \n",
    "    SELECT ?student\n",
    "    WHERE{\n",
    "        ?student rdf:type RDF:QUBStudent\n",
    "    }\n",
    "    \"\"\"))"
   ]
  },
  {
   "cell_type": "markdown",
   "metadata": {},
   "source": [
    "Get all modules and the staff who teach them"
   ]
  },
  {
   "cell_type": "code",
   "execution_count": 22,
   "metadata": {},
   "outputs": [
    {
     "data": {
      "text/plain": [
       "[[new.lb, new.introtoai],\n",
       " [new.hw, new.machinelearning],\n",
       " [new.ibs, new.knowledgeengineering],\n",
       " [new.yh, new.compvision],\n",
       " [new.bd, new.nlp],\n",
       " [new.rr, new.aiforhealth]]"
      ]
     },
     "execution_count": 22,
     "metadata": {},
     "output_type": "execute_result"
    }
   ],
   "source": [
    "list(default_world.sparql(\n",
    "    \"\"\"\n",
    "    PREFIX RDF: <http://www.dummy.info/new.owl#>\n",
    "    \n",
    "    SELECT ?staff ?module\n",
    "    WHERE{\n",
    "        ?staff rdf:type RDF:QUBStaff\n",
    "        ?module rdf:type RDF:Module\n",
    "        ?staff RDF:teaches ?module\n",
    "\n",
    "    }\n",
    "    \"\"\"))"
   ]
  },
  {
   "cell_type": "markdown",
   "metadata": {},
   "source": [
    "Get all students taught by each member of staff"
   ]
  },
  {
   "cell_type": "code",
   "execution_count": 23,
   "metadata": {},
   "outputs": [
    {
     "data": {
      "text/plain": [
       "[[new.lb, new.at],\n",
       " [new.lb, new.gh],\n",
       " [new.lb, new.al],\n",
       " [new.lb, new.mm],\n",
       " [new.hw, new.at],\n",
       " [new.hw, new.gh],\n",
       " [new.hw, new.al],\n",
       " [new.hw, new.mm],\n",
       " [new.ibs, new.at],\n",
       " [new.ibs, new.gh],\n",
       " [new.ibs, new.al],\n",
       " [new.ibs, new.mm],\n",
       " [new.yh, new.at],\n",
       " [new.yh, new.al],\n",
       " [new.bd, new.at],\n",
       " [new.bd, new.al],\n",
       " [new.rr, new.at],\n",
       " [new.rr, new.al],\n",
       " [new.rr, new.jm]]"
      ]
     },
     "execution_count": 23,
     "metadata": {},
     "output_type": "execute_result"
    }
   ],
   "source": [
    "list(default_world.sparql(\n",
    "    \"\"\"\n",
    "    PREFIX RDF: <http://www.dummy.info/new.owl#>\n",
    "    \n",
    "    SELECT ?staff ?student\n",
    "    WHERE{\n",
    "        ?staff rdf:type RDF:QUBStaff\n",
    "        ?student rdf:type RDF:QUBStudent\n",
    "        ?module rdf:type RDF:Module\n",
    "        ?staff RDF:teaches ?module\n",
    "        ?student RDF:takes ?module\n",
    "    }\n",
    "    \"\"\"))"
   ]
  }
 ],
 "metadata": {
  "kernelspec": {
   "display_name": "Python 3",
   "language": "python",
   "name": "python3"
  },
  "language_info": {
   "codemirror_mode": {
    "name": "ipython",
    "version": 3
   },
   "file_extension": ".py",
   "mimetype": "text/x-python",
   "name": "python",
   "nbconvert_exporter": "python",
   "pygments_lexer": "ipython3",
   "version": "3.9.6"
  }
 },
 "nbformat": 4,
 "nbformat_minor": 2
}
