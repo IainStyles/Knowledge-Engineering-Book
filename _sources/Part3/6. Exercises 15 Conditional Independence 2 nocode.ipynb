{
 "cells": [
  {
   "cell_type": "markdown",
   "metadata": {},
   "source": [
    "# Exercises 15: Conditional Independence 2\n",
    "\n",
    "Consider the following joint distribution of three binary variables $P(A,B,C)$:\n",
    "\n",
    "\n",
    "The three variables are either fully independent, or two of the variables are independent, conditional on the third.\n",
    "\n",
    "Can you determine which, and what the correct factorisation of the distribution is?"
   ]
  },
  {
   "cell_type": "code",
   "execution_count": 1,
   "metadata": {},
   "outputs": [],
   "source": [
    "import numpy as np\n",
    "\n",
    "JointPDF = np.array(\n",
    "    [\n",
    "        [\n",
    "            [0.096, 0.144],\n",
    "            [0.224, 0.336]\n",
    "        ],\n",
    "        [\n",
    "            [0.09, 0.09],\n",
    "            [0.01, 0.01],\n",
    "        ]\n",
    "\n",
    "    ]\n",
    ")"
   ]
  },
  {
   "cell_type": "code",
   "execution_count": 30,
   "metadata": {},
   "outputs": [
    {
     "name": "stdout",
     "output_type": "stream",
     "text": [
      "[[[0.096 0.144]\n",
      "  [0.224 0.336]]\n",
      "\n",
      " [[0.09  0.09 ]\n",
      "  [0.01  0.01 ]]]\n"
     ]
    }
   ],
   "source": [
    "print(JointPDF)"
   ]
  },
  {
   "cell_type": "code",
   "execution_count": 2,
   "metadata": {},
   "outputs": [
    {
     "name": "stdout",
     "output_type": "stream",
     "text": [
      "[0.8 0.2]\n",
      "[0.42 0.58]\n",
      "[0.42 0.58]\n"
     ]
    }
   ],
   "source": [
    "# Check independence\n",
    "\n",
    "P_A = JointPDF.sum(axis=(1,2))\n",
    "P_B = JointPDF.sum(axis=(0,2))\n",
    "P_C = JointPDF.sum(axis=(0,1))\n",
    "\n",
    "print(P_A)\n",
    "print(P_B)\n",
    "print(P_C)"
   ]
  },
  {
   "cell_type": "code",
   "execution_count": 4,
   "metadata": {},
   "outputs": [
    {
     "name": "stdout",
     "output_type": "stream",
     "text": [
      "[[[0.14112 0.19488]\n",
      "  [0.19488 0.26912]]\n",
      "\n",
      " [[0.03528 0.04872]\n",
      "  [0.04872 0.06728]]]\n"
     ]
    }
   ],
   "source": [
    "import itertools\n",
    "iterator = itertools.product((0,1),repeat=3)\n",
    "P = np.zeros([2,2,2])\n",
    "for i in iterator:\n",
    "    P[i[0],i[1],i[2]] = P_A[i[0]] *  P_B[i[1]] * P_C[i[2]]\n",
    "print(P)"
   ]
  },
  {
   "cell_type": "code",
   "execution_count": 5,
   "metadata": {},
   "outputs": [
    {
     "name": "stdout",
     "output_type": "stream",
     "text": [
      "P(A,B) = \n",
      "[[0.24 0.56]\n",
      " [0.18 0.02]]\n",
      "P(A,C) = \n",
      "[[0.32 0.48]\n",
      " [0.1  0.1 ]]\n",
      "P(B,C) = \n",
      "[[0.186 0.234]\n",
      " [0.234 0.346]]\n"
     ]
    }
   ],
   "source": [
    "# Not independent, compute three possible joint distributions\n",
    "\n",
    "P_AB = JointPDF.sum(axis=2)\n",
    "P_AC = JointPDF.sum(axis=1)\n",
    "P_BC = JointPDF.sum(axis=0)\n",
    "\n",
    "print(f\"P(A,B) = \\n{P_AB}\")\n",
    "print(f\"P(A,C) = \\n{P_AC}\")\n",
    "print(f\"P(B,C) = \\n{P_BC}\")"
   ]
  },
  {
   "cell_type": "code",
   "execution_count": 12,
   "metadata": {},
   "outputs": [
    {
     "name": "stdout",
     "output_type": "stream",
     "text": [
      "P(A|B) = \n",
      "[[0.57142857 0.96551724]\n",
      " [0.42857143 0.03448276]]\n",
      "\n",
      "P(B|A) = \n",
      "[[0.3 0.9]\n",
      " [0.7 0.1]]\n",
      "\n",
      "P(A|C) = \n",
      "[[0.76190476 0.82758621]\n",
      " [0.23809524 0.17241379]]\n",
      "\n",
      "P(C|A) = \n",
      "[[0.4 0.5]\n",
      " [0.6 0.5]]\n",
      "\n",
      "P(B|C) = \n",
      "[[0.44285714 0.40344828]\n",
      " [0.55714286 0.59655172]]\n",
      "\n",
      "P(C|B) = \n",
      "[[0.44285714 0.40344828]\n",
      " [0.55714286 0.59655172]]\n",
      "\n"
     ]
    }
   ],
   "source": [
    "# Compute the conditionals\n",
    "P_A_B = P_AB/P_B\n",
    "print(f\"P(A|B) = \\n{P_A_B}\\n\")\n",
    "P_B_A = P_AB.T/P_A\n",
    "print(f\"P(B|A) = \\n{P_B_A}\\n\")\n",
    "P_A_C = P_AC/P_C\n",
    "print(f\"P(A|C) = \\n{P_A_C}\\n\")\n",
    "P_C_A = P_AC.T/P_A\n",
    "print(f\"P(C|A) = \\n{P_C_A}\\n\")\n",
    "\n",
    "P_B_C = P_BC/P_C\n",
    "print(f\"P(B|C) = \\n{P_B_C}\\n\")\n",
    "P_C_B = P_BC.T/P_B\n",
    "print(f\"P(C|B) = \\n{P_C_B}\\n\")"
   ]
  },
  {
   "cell_type": "markdown",
   "metadata": {},
   "source": [
    "We now have all the distributions. There are three possible combinations\n",
    "\n",
    "a) $P(A,B,C) = P(A\\vert C)P(B\\vert C)P(C)$  \n",
    "b) $P(A,B,C) = P(A\\vert B)P(C\\vert B)P(B)$  \n",
    "c) $P(A,B,C) = P(C\\vert A)P(B\\vert A)P(A)$  "
   ]
  },
  {
   "cell_type": "code",
   "execution_count": 13,
   "metadata": {},
   "outputs": [
    {
     "name": "stdout",
     "output_type": "stream",
     "text": [
      "[[[0.14171429 0.19365517]\n",
      "  [0.17828571 0.28634483]]\n",
      "\n",
      " [[0.04428571 0.04034483]\n",
      "  [0.05571429 0.05965517]]]\n"
     ]
    }
   ],
   "source": [
    "# Option a\n",
    "iterator = itertools.product((0,1),repeat=3)\n",
    "P = np.zeros([2,2,2])\n",
    "for i in iterator:\n",
    "    P[i[0],i[1],i[2]] = P_A_C[i[0],i[2]] *  P_B_C[i[1],i[2]] * P_C[i[2]]\n",
    "print(P)"
   ]
  },
  {
   "cell_type": "code",
   "execution_count": 14,
   "metadata": {},
   "outputs": [
    {
     "name": "stdout",
     "output_type": "stream",
     "text": [
      "[[[0.10628571 0.13371429]\n",
      "  [0.22593103 0.33406897]]\n",
      "\n",
      " [[0.07971429 0.10028571]\n",
      "  [0.00806897 0.01193103]]]\n"
     ]
    }
   ],
   "source": [
    "# Option b\n",
    "iterator = itertools.product((0,1),repeat=3)\n",
    "P = np.zeros([2,2,2])\n",
    "for i in iterator:\n",
    "    P[i[0],i[1],i[2]] = P_A_B[i[0],i[1]] *  P_C_B[i[2],i[1]] * P_B[i[1]]\n",
    "print(P)"
   ]
  },
  {
   "cell_type": "code",
   "execution_count": 15,
   "metadata": {},
   "outputs": [
    {
     "name": "stdout",
     "output_type": "stream",
     "text": [
      "[[[0.096 0.144]\n",
      "  [0.224 0.336]]\n",
      "\n",
      " [[0.09  0.09 ]\n",
      "  [0.01  0.01 ]]]\n"
     ]
    }
   ],
   "source": [
    "# Option c\n",
    "iterator = itertools.product((0,1),repeat=3)\n",
    "P = np.zeros([2,2,2])\n",
    "for i in iterator:\n",
    "    P[i[0],i[1],i[2]] = P_C_A[i[2],i[0]] *  P_B_A[i[1],i[0]] * P_A[i[0]]\n",
    "print(P)"
   ]
  },
  {
   "cell_type": "code",
   "execution_count": null,
   "metadata": {},
   "outputs": [],
   "source": []
  }
 ],
 "metadata": {
  "kernelspec": {
   "display_name": "Python 3 (ipykernel)",
   "language": "python",
   "name": "python3"
  },
  "language_info": {
   "codemirror_mode": {
    "name": "ipython",
    "version": 3
   },
   "file_extension": ".py",
   "mimetype": "text/x-python",
   "name": "python",
   "nbconvert_exporter": "python",
   "pygments_lexer": "ipython3",
   "version": "3.9.6"
  }
 },
 "nbformat": 4,
 "nbformat_minor": 4
}
