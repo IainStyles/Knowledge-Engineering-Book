{
 "cells": [
  {
   "cell_type": "markdown",
   "metadata": {},
   "source": [
    "# Exercise 18 - Approximate Inference\n",
    "\n",
    "In someone's garden they have a sprinkler that waters that grass when the weather is dry. \n",
    "\n",
    "* The sprinkler is less likely to turn on when it rains\n",
    "* The grass gets wet when it rains or when the sprinker is on.\n",
    "\n",
    "Given variables $W$ (grass is wet), $S$ (sprinkler is on), and $R$ (it is raining) we can construct the following Bayesian network)\n",
    "\n",
    "$P(S,R,W) = P(W\\vert S,R)P(S\\vert R)P(R)$\n",
    "\n",
    "The conditional probabilities are:\n",
    "\n",
    "* $P(R) = 0.6$, $P(\\lnot R) = 0.4$\n",
    "* $P(S\\vert R) = 0.05$, $P(\\lnot S\\vert R) = 0.95$, $P(S\\vert \\lnot R) = 0.8$, $P(\\lnot S\\vert \\lnot R) = 0.2$\n",
    "* $P(W\\vert S\\land R) = 0.95$, $P(\\lnot W\\vert S\\land R) = 0.05$\n",
    "* $P(W\\vert S\\land \\lnot R) = 0.70$, $P(\\lnot W\\vert S\\land \\lnot R) = 0.30$\n",
    "* $P(W\\vert \\lnot S\\land R) = 0.80$, $P(\\lnot W\\vert \\lnot S\\land R) = 0.20$\n",
    "* $P(W\\vert \\lnot S\\land \\lnot R) = 0.01$, $P(\\lnot W\\vert \\lnot S\\land \\lnot R) = 0.99$\n",
    "\n",
    "Use discrete sampling and rejection sampling to compute the following quantities. Verify your answers by explicit calculation.\n",
    "\n",
    "1. $P(W)$\n",
    "2. $P(R\\vert W$)\n",
    "3. $P(S\\vert W$)\n",
    "\n",
    "\n"
   ]
  },
  {
   "cell_type": "markdown",
   "metadata": {},
   "source": [
    "## Solutions\n",
    "\n",
    "First we define the distributions given in the problem."
   ]
  },
  {
   "cell_type": "code",
   "execution_count": null,
   "metadata": {},
   "outputs": [],
   "source": [
    "import numpy as np\n",
    "P_R = np.array([0.4, 0.6])\n",
    "P_S_R = np.array([[0.2,0.95],[0.8,0.05]])\n",
    "P_W_SR = np.zeros([2,2,2])\n",
    "P_W_SR[0,0,0] = 0.99\n",
    "P_W_SR[0,0,1] = 0.2\n",
    "P_W_SR[0,1,0] = 0.3\n",
    "P_W_SR[0,1,1] = 0.05\n",
    "P_W_SR[1,0,0] = 0.01\n",
    "P_W_SR[1,0,1] = 0.8\n",
    "P_W_SR[1,1,0] = 0.7\n",
    "P_W_SR[1,1,1] = 0.95\n"
   ]
  },
  {
   "cell_type": "markdown",
   "metadata": {},
   "source": [
    "Now we sample $N$ times"
   ]
  },
  {
   "cell_type": "code",
   "execution_count": null,
   "metadata": {},
   "outputs": [],
   "source": [
    "N = 50000\n",
    "Trace = np.zeros([N,3])\n",
    "for i in range(N):\n",
    "    # Sample from R\n",
    "    R = np.random.binomial(1,P_R[1])\n",
    "    # Sample from P(S|R)\n",
    "    S = np.random.binomial(1,P_S_R[1,R])\n",
    "    # Sample from P(W|S,R)\n",
    "    W = np.random.binomial(1,P_W_SR[1,S,R])\n",
    "    Trace[i:] = np.array([R,S,W])"
   ]
  },
  {
   "cell_type": "markdown",
   "metadata": {},
   "source": [
    "Now to compute other distributions from the trace\n",
    "\n",
    "First, we compute $P(W)$ by counting the fraction of trace entries for which $W=1$. "
   ]
  },
  {
   "cell_type": "code",
   "execution_count": null,
   "metadata": {},
   "outputs": [],
   "source": [
    "P_w = Trace[np.where(Trace[:,2]==1)].shape[0]/N\n",
    "print(f\"P(w) = {P_w}\")"
   ]
  },
  {
   "cell_type": "markdown",
   "metadata": {},
   "source": [
    "Now $P(R\\vert W)$. We get all trace where $W=1$ and then find the propertion of those for which $R=1$."
   ]
  },
  {
   "cell_type": "code",
   "execution_count": null,
   "metadata": {},
   "outputs": [],
   "source": [
    "WTrue = Trace[np.where(Trace[:,2]==1)]\n",
    "P_r_w = WTrue[np.where(WTrue[:,0]==1)].shape[0]/WTrue.shape[0]\n",
    "\n",
    "print(f\"P(r|w) = {P_r_w}\")"
   ]
  },
  {
   "cell_type": "markdown",
   "metadata": {},
   "source": [
    "Finally $P(S\\vert W)$:"
   ]
  },
  {
   "cell_type": "code",
   "execution_count": null,
   "metadata": {},
   "outputs": [],
   "source": [
    "WTrue = Trace[np.where(Trace[:,2]==1)]\n",
    "P_s_w = WTrue[np.where(WTrue[:,1]==1)].shape[0]/WTrue.shape[0]\n",
    "\n",
    "print(f\"P(s|w) = {P_s_w}\")"
   ]
  }
 ],
 "metadata": {
  "kernelspec": {
   "display_name": "Python 3",
   "language": "python",
   "name": "python3"
  },
  "language_info": {
   "codemirror_mode": {
    "name": "ipython",
    "version": 3
   },
   "file_extension": ".py",
   "mimetype": "text/x-python",
   "name": "python",
   "nbconvert_exporter": "python",
   "pygments_lexer": "ipython3",
   "version": "3.8.2"
  }
 },
 "nbformat": 4,
 "nbformat_minor": 2
}
