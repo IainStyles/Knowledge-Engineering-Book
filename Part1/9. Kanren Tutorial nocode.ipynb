{
 "cells": [
  {
   "cell_type": "markdown",
   "id": "89720d78-1197-433a-87fe-e074d2738c65",
   "metadata": {},
   "source": [
    "# Logic Programming in Python\n",
    "\n",
    "We have been working through a number of examples of logic problems by hand. Such exercises can be fun and rewarding, and are certainly useful for developing our understanding. However, it is clearly not an approach that scales well and we would like to use the computer to solve logic problems.\n",
    "\n",
    "The history of solving logic problems with the computer has a long and rich history. Noting that the earliest attempts to create AI systems were rooted in logic, and especially in **symbol manipulation**, we can look back on the history of computing and see major advances that were motivated by this problem. For example, the LISP programming language was specifically designed for symbol manipulation and introduced many innovations in programming languages including garbage collection, support for recursion, first-class functions, and proper conditional expressions not requiring a `goto`. It has had major influence on both AI and on programming language design. Prolog embodies the notions and concepts that we are studying here even more explicitly.\n",
    "\n",
    "But we are not using LISP or Prolog; we are using Python, and Python does not have any in-built symbolic manipulation or logical inference capabilities (it does include simple logical operators but these are of limited utility for our purposes. We must therefore use a library.\n",
    "\n",
    "I have not found a library that I am particularly satisfied with. The best I have found is `kanren`, and that is what we shall use. It is not the most intuitive of packages, and the documentation has room for improvement though, so we shall have to develop our understanding slowly.\n",
    "\n",
    "Our first task is to install kanren. The version of kanren we shall use here is 0.2.3 and this can be found on [PyPI](https://pypi.org/project/kanren/). Kanren does not seem to be available in the Anaconda distribution, unfortunately but it is available via Pip. A possible alternative is `minikanren` which is available in Anaconda; however, I was not able to get this to work.\n",
    "\n",
    "Let's first install the package. Before beginning, you may wish to create a virtual environment for this module which will create a separate environment to keep it cleanly separated from other modules and thus avoid potential library version conflicts.\n",
    "\n",
    "* Create a folder for the course\n",
    "* Open a terminal, navigate to the folder, and enter the command\n",
    "```\n",
    "python3 -m venv ./myenv\n",
    "```\n",
    "This creates a new folder `myenv` (you can call it what you want) that will store a local python installation.\n",
    "* Activate the local installation with `myenv\\bin/activate.bat` (Windows) or `source myenv/bin/activate` (Mac/Linux).\n",
    "* Any libraries that you install whilst an environment is activated will be installed into the environment only, and not into the global environment.\n",
    "* When you are finished, you can deactivate the environment with `deactivate`.\n",
    "\n",
    "Now you have an environment for the module, we can install libraries into it. For now, we only need the `kanren` module"
   ]
  },
  {
   "cell_type": "code",
   "execution_count": 1,
   "id": "fc35b452-853c-4841-9870-49c446e16f80",
   "metadata": {},
   "outputs": [],
   "source": [
    "# Placeholder for code"
   ]
  },
  {
   "cell_type": "markdown",
   "id": "2f4d1da3-1182-44dc-8ecd-a17baf4f0fd7",
   "metadata": {},
   "source": [
    "## Solving basic logic problems in Kanren\n",
    "\n",
    "One of the most basic notions in kanren is the **logic variable**. These can be created very easily. The following cell imports the command for creating a logic variable and create a new logic variable called `x`."
   ]
  },
  {
   "cell_type": "code",
   "execution_count": 2,
   "id": "ffb125e6-e14d-4334-8570-41b9d26a0643",
   "metadata": {},
   "outputs": [],
   "source": [
    "# Placeholder for code"
   ]
  },
  {
   "cell_type": "markdown",
   "id": "fb915b85-d6d4-4f96-9d29-0e68475977c6",
   "metadata": {},
   "source": [
    "This code doesn't do anything tangible, but it does set up the machinery that we need to solve problems. Here is one of the very simplest problems we can solve using logic programming:\n",
    "* Find one number $x$ such that $x==5$."
   ]
  },
  {
   "cell_type": "code",
   "execution_count": 3,
   "id": "0cef5bc1-9315-4df3-ac3c-47b1c08f5656",
   "metadata": {},
   "outputs": [],
   "source": [
    "# Placeholder for code"
   ]
  },
  {
   "cell_type": "markdown",
   "id": "7a8a3be4-4c82-43d4-a438-386b44dde245",
   "metadata": {},
   "source": [
    "In Kanren, no computations are done until the `run` function is called. `run` takes three or more arguments:\n",
    "* The number of results to return (0: all of them), in this example there is only one result.\n",
    "* The logic variable for which we are trying to solve (`x` in this case)\n",
    "* One or more **goals**. `eq` is an example of a *goal constructor*.\n",
    "\n",
    "Here is a more complex example that uses two logic variables and two goals. Can you understand what this code does and how it does it?"
   ]
  },
  {
   "cell_type": "code",
   "execution_count": 4,
   "id": "9d077278-a135-4f44-8f00-c0f16d1cef11",
   "metadata": {},
   "outputs": [],
   "source": [
    "# Placeholder for code"
   ]
  },
  {
   "cell_type": "markdown",
   "id": "073b7b92-66aa-44c7-b102-576414f5a6ff",
   "metadata": {},
   "source": [
    "Another common goal constructor is `membero` which looks to see whether an item belongs to some collection. For example, the following example returns one (1) member `x` from the collection `mylist`:"
   ]
  },
  {
   "cell_type": "code",
   "execution_count": 5,
   "id": "5db6191b-3dcd-419a-b708-62f3308646d1",
   "metadata": {},
   "outputs": [],
   "source": [
    "# Placeholder for code"
   ]
  },
  {
   "cell_type": "markdown",
   "id": "8d70429b-21e0-4255-bc70-a148b694df0b",
   "metadata": {},
   "source": [
    "We can modify this easily to return two members of the collection:"
   ]
  },
  {
   "cell_type": "code",
   "execution_count": 6,
   "id": "dfb5fa30-b003-4906-97b0-2de1671bbcb0",
   "metadata": {},
   "outputs": [],
   "source": [
    "# Placeholder for code"
   ]
  },
  {
   "cell_type": "markdown",
   "id": "af8b1764-c3d3-4f28-a78f-b4fcb993f7d1",
   "metadata": {},
   "source": [
    "or three members of the collection:"
   ]
  },
  {
   "cell_type": "code",
   "execution_count": 7,
   "id": "63fc4a10-d939-4e4b-99b6-028471059d62",
   "metadata": {},
   "outputs": [],
   "source": [
    "# Placeholder for code"
   ]
  },
  {
   "cell_type": "markdown",
   "id": "e3b8411c-b069-4cf7-bffd-0d00ebb345ed",
   "metadata": {},
   "source": [
    "or **all** members of the collection"
   ]
  },
  {
   "cell_type": "code",
   "execution_count": 8,
   "id": "f028af67-031d-4b1d-910a-2e87a5cffd42",
   "metadata": {},
   "outputs": [],
   "source": [
    "# Placeholder for code"
   ]
  },
  {
   "cell_type": "markdown",
   "id": "4a33f508-0f6f-4f7e-8a17-3fab30a1cbfd",
   "metadata": {},
   "source": [
    "## Relationships in Kanren\n",
    "\n",
    "Kanren supports the definition of *relations* between things, and inference over those relations. "
   ]
  },
  {
   "cell_type": "code",
   "execution_count": 9,
   "id": "e42b8488-bbd0-45a1-8d1c-dd579fb68c63",
   "metadata": {},
   "outputs": [],
   "source": [
    "# Placeholder for code"
   ]
  },
  {
   "cell_type": "markdown",
   "id": "263a9c80-262d-4529-95cd-9cfbdf4b6dbe",
   "metadata": {},
   "source": [
    "In terms of the logic operators we have been studying, a `Relation` in Kanren is essentially a material implication. A Kanren relation `bigger(\"Elephant\", \"Horse\")` is roughly equivalent to \n",
    "`if Elephant(x) then x is bigger than Horse` and `if Horse(x) then Elephant is bigger than x`"
   ]
  },
  {
   "cell_type": "code",
   "execution_count": 10,
   "id": "288766a2-6a2b-4ea6-8687-adaa73fb30e1",
   "metadata": {},
   "outputs": [],
   "source": [
    "# Placeholder for code"
   ]
  },
  {
   "cell_type": "code",
   "execution_count": 11,
   "id": "df615e3c-5350-4b36-b08e-ffc83704166c",
   "metadata": {},
   "outputs": [],
   "source": [
    "# Placeholder for code"
   ]
  },
  {
   "cell_type": "markdown",
   "id": "718346fc-6781-43b1-a61f-f289c9b83888",
   "metadata": {},
   "source": [
    "However, the rules aren't chained together so when we ask for animals bigger than a dog:"
   ]
  },
  {
   "cell_type": "code",
   "execution_count": 12,
   "id": "24632d2f-a075-4899-acd3-9170dcb7d413",
   "metadata": {},
   "outputs": [],
   "source": [
    "# Placeholder for code"
   ]
  },
  {
   "cell_type": "markdown",
   "id": "796a97a4-250a-4b15-85a8-770c82b1b38a",
   "metadata": {},
   "source": [
    "we only get \"Horse\". However, as with the earlier examples, we can build compound queries:"
   ]
  },
  {
   "cell_type": "code",
   "execution_count": 13,
   "id": "f31ea522-ab65-4e26-bf4e-e80d382b142d",
   "metadata": {},
   "outputs": [],
   "source": [
    "# Placeholder for code"
   ]
  },
  {
   "cell_type": "code",
   "execution_count": 14,
   "id": "91033577-8030-4efd-ae40-3365e90e8744",
   "metadata": {},
   "outputs": [],
   "source": [
    "# Placeholder for code"
   ]
  },
  {
   "cell_type": "markdown",
   "id": "0aa8ef78-918e-4255-b0fc-f6ad8ef2f5f4",
   "metadata": {},
   "source": [
    "This would allow us to write a recursive query that found all animals bigger than a dog:"
   ]
  },
  {
   "cell_type": "markdown",
   "id": "2d1c448f-4835-4ac6-8f5d-6e72d895906c",
   "metadata": {},
   "source": [
    "## Other types of Goal Constructor\n",
    "There are several other type of goal constructor available\n",
    "* `lall` means that all specified goals have to be True (logical AND)\n",
    "* `lany` means that any of the specified goals have to be True (logical OR)\n",
    "\n",
    "So to get an animal that is bigger that a Hipppotamus or bigger than a Horse:"
   ]
  },
  {
   "cell_type": "code",
   "execution_count": 15,
   "id": "8f0d323c-1ab9-4788-b66e-d8536f92223a",
   "metadata": {},
   "outputs": [],
   "source": [
    "# Placeholder for code"
   ]
  },
  {
   "cell_type": "markdown",
   "id": "5515e7ef-20f4-4749-95cd-43f5cd262b28",
   "metadata": {},
   "source": [
    "An animal that is bigger than an Horse and bigger than a Hippopotamus:"
   ]
  },
  {
   "cell_type": "code",
   "execution_count": 16,
   "id": "78f89767-787d-40f7-9ab2-0c41c4f54ec1",
   "metadata": {},
   "outputs": [],
   "source": [
    "# Placeholder for code"
   ]
  },
  {
   "cell_type": "markdown",
   "id": "c5af9830-3e38-410c-acbd-59803afb2807",
   "metadata": {},
   "source": [
    "Finally, if we wanted to find and animal that is bigger than a horse and smaller than elephant, or smaller than a horse we can use `conde`, which provides logical `AND-OR`."
   ]
  },
  {
   "cell_type": "code",
   "execution_count": 17,
   "id": "184fee52-7c26-4e23-a283-2642081e41d0",
   "metadata": {},
   "outputs": [],
   "source": [
    "# Placeholder for code"
   ]
  },
  {
   "cell_type": "markdown",
   "id": "b900be13-0909-4442-b2df-bb3d99ee67b0",
   "metadata": {},
   "source": [
    "The `help` for `conde` is quite useful here:"
   ]
  },
  {
   "cell_type": "code",
   "execution_count": 18,
   "id": "25798dbd-4b08-4bb0-a0ec-2218e57a8285",
   "metadata": {},
   "outputs": [],
   "source": [
    "# Placeholder for code"
   ]
  },
  {
   "cell_type": "markdown",
   "id": "4df9c1bc",
   "metadata": {},
   "source": [
    "## Worked Example\n",
    "\n",
    "Let us now try to use Kanren to solve a Logic problem. We will use one that we have seen before.\n",
    "\n",
    "Ahmed, Chen, and Niamh are three friends. They went for dinner together one evening. They decided that they wanted to try all of the items on the menu so they all chose a different main course and a different dessert. The menu options for the main course were Pizza, Daal, and Falafel. For dessert, the choices were Apple Pie, Cheesecake, and Ice Cream. Given the five statements below, can you work out who ordered what?\n",
    "\n",
    "1. The person who had the Pizza did not have the Apple Pie.\n",
    "1. Niamh had the Daal.\n",
    "1. Ahmed did not have Cheesecake.\n",
    "1. Chen had the Apple Pie.\n",
    "1. The person who had the Ice Cream did not have the Falafel.\n",
    "\n",
    "It isn't immediately obvious how to formulate this so let's begin by making some observations.\n",
    "* We need all of these to be True so it seems likely that our goal will be constructed using `lall`.\n",
    "* We have to be able to deal with negations, but **Kanren does not support direct negation** (there are good technical reasons for this). We may need to reformulate the problem to account for this.\n",
    "\n",
    "Where do we even start? It isn't obvious, so let's define a skeleton that we can work with. We'll create a logical variable called `diners` that we will solve for, and a set of `rules`, all of which must be True"
   ]
  },
  {
   "cell_type": "code",
   "execution_count": 19,
   "id": "33dfb03c",
   "metadata": {},
   "outputs": [],
   "source": [
    "# Placeholder for code"
   ]
  },
  {
   "cell_type": "markdown",
   "id": "00a2167f",
   "metadata": {},
   "source": [
    "This will turn out to be all that we need - except for the actual rules themselves. The rules need to define all of our knowledge of the solution. The logic solver will find sets of statements for which all of our rules hold.\n",
    "\n",
    "First, we know that each solution needs to contain logic three variables (name, dinner, dessert). We need to tell the solver this."
   ]
  },
  {
   "cell_type": "code",
   "execution_count": 20,
   "id": "995fe482",
   "metadata": {},
   "outputs": [],
   "source": [
    "# Placeholder for code"
   ]
  },
  {
   "cell_type": "markdown",
   "id": "488dbb33",
   "metadata": {},
   "source": [
    "Notice how this is formatted: the function and its arguments are passed separately. This is because we do not want the `eq` function to be evaluated at the point at which it is defined, Kanren's internals will combine them at the appropriate time.\n",
    "\n",
    "Let's now add one of the easier clues: \"Niamh had the Daal\"."
   ]
  },
  {
   "cell_type": "code",
   "execution_count": 21,
   "id": "df3589b6",
   "metadata": {},
   "outputs": [],
   "source": [
    "# Placeholder for code"
   ]
  },
  {
   "cell_type": "markdown",
   "id": "69f5f376",
   "metadata": {},
   "source": [
    "This line states that an entry in which Niamh had the Daal must be present in the solution. We see that this is indeed the case, but note that kanren has not yet been able to properly construct a solution because we have not yet specified the problem adequately.\n",
    "\n",
    "Another easy clue is \"Chen had the Apple Pie\"."
   ]
  },
  {
   "cell_type": "code",
   "execution_count": 22,
   "id": "835bee8f",
   "metadata": {},
   "outputs": [],
   "source": [
    "# Placeholder for code"
   ]
  },
  {
   "cell_type": "markdown",
   "id": "c394811d",
   "metadata": {},
   "source": [
    "Let's look now at one of the more complex clues which we cannot express quite so easily: \"Ahmed did not have Cheesecake\". Kanren does not have a `not` operator/goal constructor and so we need to formulate this differently. We can do this by noticing that this rule means that Ahmed must have had a dessert that was not Cheesecake, which means it must have been either Apple Pie or Ice Cream. We can express this using the `lany` goal constructor:"
   ]
  },
  {
   "cell_type": "code",
   "execution_count": 23,
   "id": "315c3ff9",
   "metadata": {},
   "outputs": [],
   "source": [
    "# Placeholder for code"
   ]
  },
  {
   "cell_type": "markdown",
   "id": "244e7a3e",
   "metadata": {},
   "source": [
    "We see now that we have a solution of the correct form but with some repetitions because we still have not completely specified the problem.\n",
    "\n",
    "The other two clues can be expressed in the same way following reframing:\n",
    "* \"The person who had the Pizza did not have the Apple Pie\" becomes \"The person who had Pizza had Ice Cream or Cheesecake\".\n",
    "* \"The person who had the Ice Cream did not have the Falafel\" becomes \" The person who had Ice Cream had Daal or Pizza\".\n"
   ]
  },
  {
   "cell_type": "code",
   "execution_count": 24,
   "id": "c396428c",
   "metadata": {},
   "outputs": [],
   "source": [
    "# Placeholder for code"
   ]
  },
  {
   "cell_type": "markdown",
   "id": "b58ff1d6",
   "metadata": {},
   "source": [
    "We now have an almost complete (albeit repetitive solution), but there is still a gap: what did Niamh have for dessert? Look back at how you solved this problem by hand. How did you deduce that Niamh had the Cheesecake for dessert? We used the constraint that everyone had to have ordered something, and having eliminated all of the other possibilities we deduced that this was the only remaining possibility.\n",
    "\n",
    "We have not yet encoded that constraint into the rules. Let us do so now. The way we will do this is by adding constaints that every person, main course, and dessert must appear."
   ]
  },
  {
   "cell_type": "code",
   "execution_count": 25,
   "id": "fa73fb6a",
   "metadata": {},
   "outputs": [],
   "source": [
    "# Placeholder for code"
   ]
  },
  {
   "cell_type": "markdown",
   "id": "e4819ce1",
   "metadata": {},
   "source": [
    "This now uniquely solves the problem: the solutions are identical but just permuted.\n",
    "\n",
    "Kanren can be used for solving any general logic problem, but one often has to put considerable thought into how to formulate the problem appropriately. Let's practice this."
   ]
  }
 ],
 "metadata": {
  "kernelspec": {
   "display_name": "Python 3",
   "language": "python",
   "name": "python3"
  },
  "language_info": {
   "codemirror_mode": {
    "name": "ipython",
    "version": 3
   },
   "file_extension": ".py",
   "mimetype": "text/x-python",
   "name": "python",
   "nbconvert_exporter": "python",
   "pygments_lexer": "ipython3",
   "version": "3.9.6"
  }
 },
 "nbformat": 4,
 "nbformat_minor": 5
}
