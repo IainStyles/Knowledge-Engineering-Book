{
 "cells": [
  {
   "cell_type": "markdown",
   "id": "89720d78-1197-433a-87fe-e074d2738c65",
   "metadata": {},
   "source": [
    "# Automating Natural Deduction\n",
    "\n",
    "We have been working through a number of examples of logic problems by hand. Such exercises can be fun and rewarding, and are certainly useful for developing our understanding. However, it is clearly not an approach that scales well and we would like to use the computer to solve logic problems.\n",
    "\n",
    "The history of solving logic problems with the computer has a long and rich history. Noting that the earliest attempts to create AI systems were rooted in logic, and especially in **symbol manipulation**, we can look back on the history of computing and see major advances that were motivated by this problem. For example, the LISP programming language was specifically designed for symbol manipulation and introduced many innovations in programming languages including garbage collection, support for recursion, first-class functions, and proper conditional expressions not requiring a `goto`. It has had major influence on both AI and on programming language design. Prolog embodies the notions and concepts that we are studying here even more explicitly.\n",
    "\n",
    "But we are not using LISP or Prolog; we are using Python, and Python does not have any in-built symbolic manipulation or logical inference capabilities (it does include simple logical operators but these are of limited utility for our purposes. We must therefore use a library.\n",
    "\n",
    "I have not found a library that I am particularly satisfied with. The best I have found is `kanren`, and that is what we shall use. It is not the most intuitive of packages though, so we shall have to develop our understanding slowly.\n",
    "\n",
    "Our first task is to install kanren. The version of kanren we shall use here is 0.2.3 and this can be found on [PyPI](https://pypi.org/project/kanren/). Kanren does not seem to be available in the Anaconda distribution, unfortunately but it is available via Pip. A possible alternative is `minikanren` which is available in Anaconda; however, I was not able to get this to work."
   ]
  },
  {
   "cell_type": "code",
   "execution_count": 2,
   "id": "fc35b452-853c-4841-9870-49c446e16f80",
   "metadata": {},
   "outputs": [
    {
     "name": "stdout",
     "output_type": "stream",
     "text": [
      "Requirement already satisfied: kanren in ./env/lib/python3.9/site-packages (0.2.3)\n",
      "Requirement already satisfied: toolz in ./env/lib/python3.9/site-packages (from kanren) (0.12.1)\n",
      "Requirement already satisfied: multipledispatch in ./env/lib/python3.9/site-packages (from kanren) (1.0.0)\n",
      "Requirement already satisfied: unification in ./env/lib/python3.9/site-packages (from kanren) (0.2.2)\n"
     ]
    }
   ],
   "source": [
    "!pip3 install kanren"
   ]
  },
  {
   "cell_type": "code",
   "execution_count": null,
   "id": "ffb125e6-e14d-4334-8570-41b9d26a0643",
   "metadata": {},
   "outputs": [],
   "source": []
  }
 ],
 "metadata": {
  "kernelspec": {
   "display_name": "Python 3 (ipykernel)",
   "language": "python",
   "name": "python3"
  },
  "language_info": {
   "codemirror_mode": {
    "name": "ipython",
    "version": 3
   },
   "file_extension": ".py",
   "mimetype": "text/x-python",
   "name": "python",
   "nbconvert_exporter": "python",
   "pygments_lexer": "ipython3",
   "version": "3.9.6"
  }
 },
 "nbformat": 4,
 "nbformat_minor": 5
}
