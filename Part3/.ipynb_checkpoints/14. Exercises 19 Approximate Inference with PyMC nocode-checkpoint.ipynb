{
 "cells": [
  {
   "cell_type": "markdown",
   "metadata": {},
   "source": [
    "# Exercise 22 - Approximate Inference with PyMC\n",
    "\n",
    "In someone's garden they have a sprinkler that waters that grass when the weather is dry. \n",
    "\n",
    "* The sprinkler is less likely to turn on when it rains\n",
    "* The grass gets wet when it rains or when the sprinker is on.\n",
    "\n",
    "Given variables $W$ (grass is wet), $S$ (sprinkler is on), and $R$ (it is raining) we can construct the following Bayesian network)\n",
    "\n",
    "$P(S,R,W) = P(W\\vert R,S)P(S\\vert R)P(R)$\n",
    "\n",
    "The conditional probabilities are:\n",
    "\n",
    "* $P(R) = 0.6$, $P(\\lnot R) = 0.4$\n",
    "* $P(S\\vert R) = 0.05$, $P(\\lnot S\\vert R) = 0.95$, $P(S\\vert \\lnot R) = 0.8$, $P(\\lnot S\\vert \\lnot R) = 0.2$\n",
    "* $P(W\\vert S,R)=0.95$, $P(\\lnot W\\vert S,R)=0.05$, $P(W\\vert S,\\lnot R)=0.3$, $P(\\lnot W\\vert S,\\lnot R)=0.7$, $P(W\\vert \\lnot S,R)=0.75$, $P(\\lnot W\\vert \\lnot S,R)=0.25$, $P(W\\vert \\lnot S,\\lnot R)=0.35$, $P(\\lnot W\\vert \\lnot S,\\lnot R)=0.65$\n",
    "\n",
    "* $P(W\\vert S\\land R) = 0.95$, $P(\\lnot W\\vert S\\land R) = 0.05$\n",
    "* $P(W\\vert S\\land \\lnot R) = 0.70$, $P(\\lnot W\\vert S\\land \\lnot R) = 0.30$\n",
    "* $P(W\\vert \\lnot S\\land R) = 0.80$, $P(\\lnot W\\vert \\lnot S\\land R) = 0.20$\n",
    "* $P(W\\vert \\lnot S\\land \\lnot R) = 0.01$, $P(\\lnot W\\vert \\lnot S\\land \\lnot R) = 0.99$\n",
    "\n",
    "Use discrete sampling and rejection sampling to compute the following quantities. Verify your answers by explicit calculation.\n",
    "\n",
    "1. $P(W)$\n",
    "2. $P(R\\vert W$)\n",
    "3. $P(S\\vert W$)\n",
    "\n",
    "\n"
   ]
  }
 ],
 "metadata": {
  "kernelspec": {
   "display_name": "Python 3",
   "language": "python",
   "name": "python3"
  },
  "language_info": {
   "codemirror_mode": {
    "name": "ipython",
    "version": 3
   },
   "file_extension": ".py",
   "mimetype": "text/x-python",
   "name": "python",
   "nbconvert_exporter": "python",
   "pygments_lexer": "ipython3",
   "version": "3.8.2"
  }
 },
 "nbformat": 4,
 "nbformat_minor": 2
}
