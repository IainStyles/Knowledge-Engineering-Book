{
 "cells": [
  {
   "cell_type": "markdown",
   "metadata": {},
   "source": [
    "# Exercise 17 - Exact Inference\n",
    "\n",
    "Given the factorised distribution from the lecture $P(G,M,F,P) = P(P\\vert M)P(F\\vert M)P(M)P(G)$, compute the following distributions. Verify your calculations against the joint distribution.\n",
    "\n",
    "1. $P(F)$\n",
    "2. $P(F,M)$\n",
    "3. $P(M\\vert F)$"
   ]
  },
  {
   "cell_type": "code",
   "execution_count": null,
   "metadata": {},
   "outputs": [],
   "source": [
    "# Placeholder"
   ]
  }
 ],
 "metadata": {
  "kernelspec": {
   "display_name": "Python 3",
   "language": "python",
   "name": "python3"
  },
  "language_info": {
   "codemirror_mode": {
    "name": "ipython",
    "version": 3
   },
   "file_extension": ".py",
   "mimetype": "text/x-python",
   "name": "python",
   "nbconvert_exporter": "python",
   "pygments_lexer": "ipython3",
   "version": "3.8.2"
  }
 },
 "nbformat": 4,
 "nbformat_minor": 2
}
