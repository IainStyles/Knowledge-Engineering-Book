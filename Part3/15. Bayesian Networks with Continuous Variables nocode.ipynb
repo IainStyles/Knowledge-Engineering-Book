{
 "cells": [
  {
   "cell_type": "markdown",
   "metadata": {},
   "source": [
    "# Bayesian Networks with Continuous Variables\n",
    "\n",
    "Our examples of Bayesian networks have so far been limited to networks of variables that are finite-valued, or discrete. It is very common for problems of interest to contain random variables that are not discrete, but are continuous, and are thus described not by a table of probabilities but by a probability density function, or PDF.\n",
    "\n",
    "This creates a technical issue for us: we know very well how to multiply probability tables together, although this can become a formidable exercise in combinatorics. With continuous PDFs, we do not, in general know how to do this very easily (and sometime it is not possible at all. Approximate sampling is the only way we have of being able to calculate distributions.\n",
    "\n",
    "In continuous Bayesian networks, we want to deduce the probability distribution of some continuous random variable (or variables) that depends on some other random variables, just as we are in the discrete case. In the discrete case, we work with conditional distributions and we do the same in the continuous case. Consider the following very simple example:\n",
    "\n",
    "* A random variable $Y$ is known to be sampled from a normal distribution the mean of which is twice some other quantity $X$ and which has standard deviation $\\sigma_Y$.\n",
    "* $X$ is itself a random variable and is sampled from a normal distribution with mean $\\mu_X$ and standard deviation $\\sigma_X.\n",
    "\n",
    "Using the notation $\\mathcal{N})(Z\\vert \\mu,\\sigma)$ to denote a normally distributed random variable of mean $\\mu$ and variance $\\sigma^2$, we can write:\n",
    "\n",
    "* The PDF of $X$ is therefore $P(X) = \\mathcal{N}(X\\vert \\mu_X,\\sigma_X)$\n",
    "* The PDF of $Y$ is conditioned on $X$ and $P(Y\\vert X, \\sigma_Y)=\\mathcal{N}(Y\\vert 2X,\\sigma_Y)$\n",
    "\n",
    "The question is, how does the distribution of $X$ affect the distribution of $Y$? We do not yet have tools to answer this. Let us explore.\n",
    "\n",
    "PyMC supports continuous random variables. Let us build a model.\n"
   ]
  },
  {
   "cell_type": "code",
   "execution_count": null,
   "metadata": {},
   "outputs": [],
   "source": [
    "# Placeholder"
   ]
  },
  {
   "cell_type": "code",
   "execution_count": null,
   "metadata": {},
   "outputs": [],
   "source": [
    "# Placeholder"
   ]
  },
  {
   "cell_type": "markdown",
   "metadata": {},
   "source": [
    "## Making Decisions with Bayesian Networks\n",
    "\n",
    "You are the manager of a store that sells coats and umbrellas. Your sales data indicates that people's buying habits have a pattern:\n",
    "\n",
    "* They buy an umbrella when the weekly rainfall exceeds 10 (arbitrary units).\n",
    "* The but a coat when the weekly rainfall exceeds 5 a.u. or the weekly temperature drops below 12 a.u.\n",
    "\n",
    "You would to predict the likelihood of an individual buying coats or umbrellas by season to have better control of your stock numbers so you decide to build a Bayesian network based on historic weather data to help you do this. The data tells your the following.\n",
    "\n",
    "* There are four Seasons, each of equal length.\n",
    "* The amount of weekly rainfall and the daily temperature depend on the seasons.\n",
    "* It is assumed that temperature and rainfall are normally distributed and that the parameters take the following values:\n",
    "\n",
    "|     | Spring | Summer | Autumn | Winter |\n",
    "|:---:|:---:|:---:|:---:|:---:|\n",
    "| $\\mu_R$    | 12.0 | 10.0 | 15.0 | 20.0 |\n",
    "| $\\sigma_R$ | 4.0 | 2.0 | 5.0 | 3.0 |\n",
    "| $\\mu_T$    | 15.0 | 20.0 | 10.0 | 5.0 |\n",
    "| $\\sigma_T$ | 3.0 | 5.0 | 5.0 | 3.0 |\n",
    "\n"
   ]
  },
  {
   "cell_type": "code",
   "execution_count": null,
   "metadata": {},
   "outputs": [],
   "source": [
    "# Placeholder"
   ]
  },
  {
   "cell_type": "code",
   "execution_count": null,
   "metadata": {},
   "outputs": [],
   "source": [
    "# Placeholder"
   ]
  },
  {
   "cell_type": "code",
   "execution_count": null,
   "metadata": {},
   "outputs": [],
   "source": [
    "# Placeholder"
   ]
  }
 ],
 "metadata": {
  "kernelspec": {
   "display_name": "KnowledgeEngineering",
   "language": "python",
   "name": "python3"
  },
  "language_info": {
   "codemirror_mode": {
    "name": "ipython",
    "version": 3
   },
   "file_extension": ".py",
   "mimetype": "text/x-python",
   "name": "python",
   "nbconvert_exporter": "python",
   "pygments_lexer": "ipython3",
   "version": "3.12.7"
  }
 },
 "nbformat": 4,
 "nbformat_minor": 4
}
