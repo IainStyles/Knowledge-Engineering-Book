{
 "cells": [
  {
   "cell_type": "markdown",
   "metadata": {},
   "source": [
    "# Exercise 13: Basic Probability\n",
    "\n",
    "Given the joint probability distribution `JointPDF[x][y][z]` of a binary variable $X$,  a three-valued variable $Y$, and a binary variable $Z$ perform the following computations:"
   ]
  },
  {
   "cell_type": "code",
   "execution_count": 15,
   "metadata": {},
   "outputs": [],
   "source": [
    "import numpy as np\n",
    "JointPDF = np.array(\n",
    "    [\n",
    "        [\n",
    "            [0.1, 0.05],\n",
    "            [0.11, 0.12],\n",
    "            [0.07,0.03]\n",
    "        ],\n",
    "        [\n",
    "            [0.06, 0.16],\n",
    "            [0.01, 0.08],\n",
    "            [0.19,0.02]\n",
    "        ]\n",
    "     ]\n",
    "     )"
   ]
  },
  {
   "cell_type": "markdown",
   "metadata": {},
   "source": [
    "1. Verify that `JointPDF` is normalised."
   ]
  },
  {
   "cell_type": "code",
   "execution_count": 13,
   "metadata": {},
   "outputs": [
    {
     "data": {
      "text/plain": [
       "1.0"
      ]
     },
     "execution_count": 13,
     "metadata": {},
     "output_type": "execute_result"
    }
   ],
   "source": [
    "JointPDF.sum(axis=(0,1,2))"
   ]
  },
  {
   "cell_type": "markdown",
   "metadata": {},
   "source": [
    "2. Compute $P(X)$, $P(Y)$ and $P(Z)$"
   ]
  },
  {
   "cell_type": "code",
   "execution_count": 16,
   "metadata": {},
   "outputs": [
    {
     "name": "stdout",
     "output_type": "stream",
     "text": [
      "[0.48 0.52]\n",
      "[0.37 0.32 0.31]\n",
      "[0.54 0.46]\n"
     ]
    }
   ],
   "source": [
    "# Sum over the other axes\n",
    "PX = JointPDF.sum(axis=(1,2))\n",
    "PY = JointPDF.sum(axis=(0,2))\n",
    "PZ = JointPDF.sum(axis=(0,1))\n",
    "\n",
    "print(PX)\n",
    "print(PY)\n",
    "print(PZ)"
   ]
  },
  {
   "cell_type": "markdown",
   "metadata": {},
   "source": [
    "3. Compute $P(X,Y)$, $P(Y,Z)$, $P(X,Z)$"
   ]
  },
  {
   "cell_type": "code",
   "execution_count": 18,
   "metadata": {},
   "outputs": [
    {
     "name": "stdout",
     "output_type": "stream",
     "text": [
      "[[0.15 0.23 0.1 ]\n",
      " [0.22 0.09 0.21]]\n",
      "[[0.28 0.2 ]\n",
      " [0.26 0.26]]\n",
      "[[0.16 0.21]\n",
      " [0.12 0.2 ]\n",
      " [0.26 0.05]]\n"
     ]
    }
   ],
   "source": [
    "PXY = JointPDF.sum(axis=2)\n",
    "PXZ = JointPDF.sum(axis=1)\n",
    "PYZ = JointPDF.sum(axis=0)\n",
    "print(PXY)\n",
    "print(PXZ)\n",
    "print(PYZ)"
   ]
  },
  {
   "cell_type": "markdown",
   "metadata": {},
   "source": [
    "4. Compute $P(X\\vert Y)"
   ]
  },
  {
   "cell_type": "code",
   "execution_count": 35,
   "metadata": {},
   "outputs": [
    {
     "name": "stdout",
     "output_type": "stream",
     "text": [
      "[0.40540541 0.59459459]\n",
      "[0.71875 0.28125]\n",
      "[0.32258065 0.67741935]\n"
     ]
    }
   ],
   "source": [
    "\n",
    "PX_y0 = PXY[:,0]/PXY[:,0].sum()\n",
    "PX_y1 = PXY[:,1]/PXY[:,1].sum()\n",
    "PX_y2 = PXY[:,2]/PXY[:,2].sum()\n",
    "\n",
    "\n",
    "print(PX_y0)\n",
    "print(PX_y1)\n",
    "print(PX_y2)"
   ]
  }
 ],
 "metadata": {
  "kernelspec": {
   "display_name": "Python 3",
   "language": "python",
   "name": "python3"
  },
  "language_info": {
   "codemirror_mode": {
    "name": "ipython",
    "version": 3
   },
   "file_extension": ".py",
   "mimetype": "text/x-python",
   "name": "python",
   "nbconvert_exporter": "python",
   "pygments_lexer": "ipython3",
   "version": "3.8.2"
  }
 },
 "nbformat": 4,
 "nbformat_minor": 2
}
