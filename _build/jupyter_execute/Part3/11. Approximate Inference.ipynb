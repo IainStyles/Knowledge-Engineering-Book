{
 "cells": [
  {
   "cell_type": "markdown",
   "metadata": {},
   "source": [
    "# Approximate Inference\n",
    "\n",
    "We have recently demonstrated that exact inference is rather non-trivial. It's conceptually straightforward, but practically difficult and very expensive, scaling very badly with the number of variables. It also **fails completely** for continuous variables where the calculations involved are essentially intractable. For these reasons it very rare to use this approach in practice. So what do we do instead? The dominant class of algorithm for inference on Bayesian networks is based on *sampling* and we will now study two approaches to sampling. The first is the *direct sampling* method which is straightforward but inefficient. The second is *Markov Chain sampling* and specifically *Gibbs sampling*. This is the dominant method in the practical application of Bayesian networks.\n",
    "\n",
    "## Direct Sampling\n",
    "\n",
    "Imagine we have a coin and we want to know its distribution of heads vs tails if we toss it. How can we do this? We cannot determine the distribution easily from first principle, although we typically make some assumptions about the symmetry of the coin to conclude that $P(H)=P(T)=0.5$. How could we verify that our assumptions were correct though?\n",
    "\n",
    "There is a very simple answer to this. We *sample* the distribution by tossing the coin a large number of times ($N$) and counting how many times each of the two outcomes occurs ($N_H, N_T$). We then estimate the distribution as $P(H)=N_H/N$ and $P(T)=N_T/N$. If the number of heads is roughly equal to the number of tails then we have approximately verified that that coin is fair and that $P(H)=P(T)$. We can simulate a fair coin using the Binomial Distribution with $p=0.5$"
   ]
  },
  {
   "cell_type": "code",
   "execution_count": 2,
   "metadata": {},
   "outputs": [
    {
     "name": "stdout",
     "output_type": "stream",
     "text": [
      "P(H)=0.504  P(T)=0.496\n"
     ]
    }
   ],
   "source": [
    "import numpy as np\n",
    "ntosses = 1000\n",
    "nheads = np.random.binomial(ntosses,0.5)\n",
    "print(f\"P(H)={nheads/ntosses}  P(T)={1-nheads/ntosses}\")"
   ]
  },
  {
   "cell_type": "markdown",
   "metadata": {},
   "source": [
    "Sampling can provide very accurate estimate of a distribution provided sufficiently many samples are taken. Here's another example of a Monte Carlo Pi estimator\n"
   ]
  },
  {
   "cell_type": "code",
   "execution_count": 11,
   "metadata": {},
   "outputs": [
    {
     "name": "stdout",
     "output_type": "stream",
     "text": [
      "3.14167924\n"
     ]
    }
   ],
   "source": [
    "npts = 100000000\n",
    "x = np.random.uniform(-1., 1., size=(npts,2))\n",
    "in_circle = x[np.where(x[:,0]*x[:,0]+x[:,1]*x[:,1] <= 1)]\n",
    "est_pi = 4*in_circle.shape[0]/npts\n",
    "print(est_pi)"
   ]
  },
  {
   "cell_type": "markdown",
   "metadata": {},
   "source": [
    "\n",
    "How do we apply this idea to Bayesian networks, where we have a chain of conditional distributions? Let's illustrate via an example.\n",
    "\n",
    "Consider our \n",
    "\n",
    "\n",
    "* Draw one sample from $P(G) = (0.4,0.6). Answer is (say) False.\n",
    "* Draw one sample from $P(M) = (0.75,0.25). Answer is (say) True.\n",
    "* Draw one sample from $P(F\\vert m) = (0.8,0.2)$. Answer is True.\n",
    "* Draw one sample from $P(P\\vert m) = (0.55,0.45)$. Answer is False.\n",
    "\n",
    "We have now drawn one sample from the joint distribution and obtained (False,True,True,False). Given a large number of such samples, we can compute anything we want. Let's try it out. We will code this up very explicitly which will be slightly inefficient but we want to maintain transparency whilst we are learning."
   ]
  },
  {
   "cell_type": "code",
   "execution_count": 3,
   "metadata": {},
   "outputs": [],
   "source": [
    "# It will help us to have the distributions. We will set these such that index 0 corresponds to False and 1 to True\n",
    "P_G = np.array([0.6,0.4])\n",
    "P_M = np.array([0.25,0.75])\n",
    "P_F_M = np.array([[0.8,0.4],[0.2,0.6]])\n",
    "P_P_M = np.array([[0.55,0.45],[0.45,0.55]])"
   ]
  },
  {
   "cell_type": "code",
   "execution_count": 35,
   "metadata": {},
   "outputs": [
    {
     "name": "stdout",
     "output_type": "stream",
     "text": [
      "[[0. 1. 1. 0.]\n",
      " [0. 1. 0. 0.]\n",
      " [1. 1. 0. 0.]\n",
      " ...\n",
      " [1. 0. 1. 0.]\n",
      " [1. 1. 1. 0.]\n",
      " [0. 1. 0. 0.]]\n"
     ]
    }
   ],
   "source": [
    "N = 50000\n",
    "Trace = np.zeros([N,4])\n",
    "for i in range(N):\n",
    "    # Draw one sample from P(G)\n",
    "    G = np.random.binomial(1,P_G[1])\n",
    "    # Draw one sample from P(M)\n",
    "    M = np.random.binomial(1,P_M[1])\n",
    "    # Draw one sample from P(F|M)\n",
    "    F = np.random.binomial(1,P_F_M[1,M])\n",
    "    # Draw one sample from P(P|M)\n",
    "    P = np.random.binomial(1,P_P_M[1,M])\n",
    "    Trace[i:] = np.array([G,M,F,P])\n",
    "\n",
    "print(Trace)"
   ]
  },
  {
   "cell_type": "markdown",
   "metadata": {},
   "source": [
    "Let's do some basic stats on the Trace"
   ]
  },
  {
   "cell_type": "code",
   "execution_count": 36,
   "metadata": {},
   "outputs": [
    {
     "name": "stdout",
     "output_type": "stream",
     "text": [
      "P_G = 0.40244 (expected 0.4)\n",
      "P_M = 0.74812 (expected 0.75)\n",
      "P_F = 0.49832 (expected 0.5)\n",
      "P_P = 0.52584 (expected 0.525)\n"
     ]
    }
   ],
   "source": [
    "print(f\"P_G = {Trace[:,0].sum()/N} (expected 0.4)\")\n",
    "print(f\"P_M = {Trace[:,1].sum()/N} (expected 0.75)\")\n",
    "print(f\"P_F = {Trace[:,2].sum()/N} (expected 0.5)\")\n",
    "print(f\"P_P = {Trace[:,3].sum()/N} (expected 0.525)\")"
   ]
  },
  {
   "cell_type": "markdown",
   "metadata": {},
   "source": [
    "Pretty good! Can we now estimate some other quantities? For example, how about estimating $P(M\\vert F)$?\n",
    "\n",
    "First of all, we can do this by hand via Bayes' theorem: $P(M\\vert F) = (F\\vert M)P(F)$. We know all these quantities so we can calculate $P(m\\vert f) = P(f\\vert m)P(m)/p(f) = 0.6\\times 0.75/0.5 = 0.9$.\n",
    "\n",
    "How do we get this from the trace?\n",
    "\n",
    "To find $P(p\\vert f)$ we need to\n",
    "* Find the rows in the Trace where the condition $f$ is True.\n",
    "* Then compute the proportion of those rows for which $p$ is True."
   ]
  },
  {
   "cell_type": "code",
   "execution_count": 79,
   "metadata": {},
   "outputs": [
    {
     "name": "stdout",
     "output_type": "stream",
     "text": [
      "P(m|f) = 0.9007013069811922 (0.9 expected)\n"
     ]
    }
   ],
   "source": [
    "# Find the rows where F is True\n",
    "FTrue = Trace[np.where(Trace[:,2]==1)]\n",
    "# Add up column 1 and divide by the number of samples where F is True\n",
    "Pm = FTrue[:,1].sum()/FTrue.shape[0]\n",
    "print(f\"P(m|f) = {Pm} (0.9 expected)\")\n"
   ]
  },
  {
   "cell_type": "markdown",
   "metadata": {},
   "source": [
    "This is an example of **rejection sampling**. We have thrown away all of the rows in the Trace for which $F$ was false. We may consider this to be a waste; however, if we want to ask general question of the distribution, the full trace in which all variables are drawn allows us to do so.\n",
    "\n",
    "Rejection sampling is very general and it can be shown that the standard deviation in the error in each probability is proportional to $1/\\sqrt{N}$. However, if we have specific questions we want to answer and are time or compute-limited, then we may wish for something more efficient. This will be our next topic.\n"
   ]
  },
  {
   "cell_type": "markdown",
   "metadata": {},
   "source": [
    "# Importance Sampling\n",
    "\n",
    "In importance sampling, we generate only those values which we need. This only works on conditioning variables."
   ]
  },
  {
   "cell_type": "code",
   "execution_count": 4,
   "metadata": {},
   "outputs": [],
   "source": [
    "N = 10000\n",
    "Trace = np.zeros([N,4])\n",
    "for i in range(N):\n",
    "    # Draw one sample from P(G)\n",
    "    G = np.random.binomial(1,P_G[1])\n",
    "    # Draw one sample from P(M)\n",
    "    #M = np.random.binomial(1,P_M[1])\n",
    "    M = 1\n",
    "    # Draw one sample from P(F|M)\n",
    "    F = np.random.binomial(1,P_F_M[1,M])\n",
    "    # Draw one sample from P(P|M)\n",
    "    P = np.random.binomial(1,P_P_M[1,M])\n",
    "    Trace[i:] = np.array([G,M,F,P])\n"
   ]
  },
  {
   "cell_type": "code",
   "execution_count": 5,
   "metadata": {},
   "outputs": [
    {
     "name": "stdout",
     "output_type": "stream",
     "text": [
      "P_G = 0.4024\n",
      "P_M = 1.0\n",
      "P_F_M = 0.6002\n",
      "P_P_M = 0.548\n"
     ]
    }
   ],
   "source": [
    "print(f\"P_G = {Trace[:,0].sum()/N}\")\n",
    "print(f\"P_M = {Trace[:,1].sum()/N}\")\n",
    "print(f\"P_F_M = {Trace[:,2].sum()/N}\")\n",
    "print(f\"P_P_M = {Trace[:,3].sum()/N}\")\n",
    "\n"
   ]
  },
  {
   "cell_type": "markdown",
   "metadata": {},
   "source": [
    "# Likelihood Reweighting\n",
    "\n",
    "First look at conditioning on M"
   ]
  },
  {
   "cell_type": "code",
   "execution_count": 6,
   "metadata": {},
   "outputs": [],
   "source": [
    "N = 10000\n",
    "Trace = np.zeros([N,5])\n",
    "for i in range(N):\n",
    "    w = 1.0\n",
    "    # Draw one sample from P(G)\n",
    "    G = np.random.binomial(1,P_G[1])\n",
    "    # Draw one sample from P(M)\n",
    "    #M = np.random.binomial(1,P_M[1])\n",
    "    M = 1\n",
    "    w *= P_M[M]\n",
    "    # Draw one sample from P(F|M)\n",
    "    F = np.random.binomial(1,P_F_M[1,M])\n",
    "    # Draw one sample from P(P|M)\n",
    "    P = np.random.binomial(1,P_P_M[1,M])\n",
    "    Trace[i:] = np.array([G,M,F,P,w])"
   ]
  },
  {
   "cell_type": "code",
   "execution_count": null,
   "metadata": {},
   "outputs": [],
   "source": []
  },
  {
   "cell_type": "code",
   "execution_count": 7,
   "metadata": {},
   "outputs": [
    {
     "name": "stdout",
     "output_type": "stream",
     "text": [
      "[[0.   1.   1.   1.   0.75]\n",
      " [1.   1.   0.   0.   0.75]\n",
      " [1.   1.   1.   0.   0.75]\n",
      " ...\n",
      " [0.   1.   1.   0.   0.75]\n",
      " [0.   1.   1.   1.   0.75]\n",
      " [1.   1.   1.   0.   0.75]]\n"
     ]
    }
   ],
   "source": [
    "print(Trace)"
   ]
  },
  {
   "cell_type": "code",
   "execution_count": 10,
   "metadata": {},
   "outputs": [
    {
     "name": "stdout",
     "output_type": "stream",
     "text": [
      "P_G = 0.4013\n",
      "P_M = 1.0\n",
      "P_F_M = 0.601\n",
      "P_P_M = 0.5571\n"
     ]
    }
   ],
   "source": [
    "print(f\"P_G = {np.multiply(Trace[:,0],Trace[:,4]).sum()/Trace[:,4].sum()}\")\n",
    "print(f\"P_M = {np.multiply(Trace[:,1],Trace[:,4]).sum()/Trace[:,4].sum()}\")\n",
    "print(f\"P_F_M = {np.multiply(Trace[:,2],Trace[:,4]).sum()/Trace[:,4].sum()}\")\n",
    "print(f\"P_P_M = {np.multiply(Trace[:,3],Trace[:,4]).sum()/Trace[:,4].sum()}\")\n",
    "\n"
   ]
  },
  {
   "cell_type": "code",
   "execution_count": null,
   "metadata": {},
   "outputs": [],
   "source": []
  },
  {
   "cell_type": "markdown",
   "metadata": {},
   "source": [
    "A second example - this time conditioning on those people who are programmers. "
   ]
  },
  {
   "cell_type": "code",
   "execution_count": 11,
   "metadata": {},
   "outputs": [],
   "source": [
    "N = 10000\n",
    "Trace = np.zeros([N,5])\n",
    "for i in range(N):\n",
    "    w = 1.0\n",
    "    # Draw one sample from P(G)\n",
    "    #G = np.random.binomial(1,P_G[1])\n",
    "    G = 0\n",
    "    w *= P_G[G]\n",
    "    # Draw one sample from P(M)\n",
    "    M = np.random.binomial(1,P_M[1])\n",
    "    # Draw one sample from P(F|M)\n",
    "    F = np.random.binomial(1,P_F_M[1,M])\n",
    "    # Draw one sample from P(P|M)\n",
    "    #P = np.random.binomial(1,P_P_M[1,M])\n",
    "    P = 1\n",
    "    w *= P_P_M[P,M]\n",
    "    Trace[i:] = np.array([G,M,F,P,w])"
   ]
  },
  {
   "cell_type": "code",
   "execution_count": null,
   "metadata": {},
   "outputs": [],
   "source": []
  },
  {
   "cell_type": "code",
   "execution_count": 12,
   "metadata": {},
   "outputs": [
    {
     "name": "stdout",
     "output_type": "stream",
     "text": [
      "P_G = 0.0\n",
      "P_M = 0.7842771130249218\n",
      "P_F_M = 0.517024235957625\n",
      "P_P_M = 1.0\n"
     ]
    }
   ],
   "source": [
    "print(f\"P_G = {np.multiply(Trace[:,0],Trace[:,4]).sum()/Trace[:,4].sum()}\")\n",
    "print(f\"P_M = {np.multiply(Trace[:,1],Trace[:,4]).sum()/Trace[:,4].sum()}\")\n",
    "print(f\"P_F_M = {np.multiply(Trace[:,2],Trace[:,4]).sum()/Trace[:,4].sum()}\")\n",
    "print(f\"P_P_M = {np.multiply(Trace[:,3],Trace[:,4]).sum()/Trace[:,4].sum()}\")\n",
    "\n"
   ]
  },
  {
   "cell_type": "code",
   "execution_count": null,
   "metadata": {},
   "outputs": [],
   "source": []
  }
 ],
 "metadata": {
  "kernelspec": {
   "display_name": "Python 3 (ipykernel)",
   "language": "python",
   "name": "python3"
  },
  "language_info": {
   "codemirror_mode": {
    "name": "ipython",
    "version": 3
   },
   "file_extension": ".py",
   "mimetype": "text/x-python",
   "name": "python",
   "nbconvert_exporter": "python",
   "pygments_lexer": "ipython3",
   "version": "3.12.7"
  }
 },
 "nbformat": 4,
 "nbformat_minor": 4
}