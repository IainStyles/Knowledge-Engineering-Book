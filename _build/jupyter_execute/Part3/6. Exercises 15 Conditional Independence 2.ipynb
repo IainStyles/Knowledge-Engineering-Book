{
 "cells": [
  {
   "cell_type": "markdown",
   "metadata": {},
   "source": [
    "# Exercises 15: Conditional Independence 2\n",
    "\n",
    "Consider the following joint distribution of three binary variables $P(A,B,C)$:\n",
    "\n",
    "\n",
    "The three variables are either fully independent, or two of the variables are independent, conditional on the third.\n",
    "\n",
    "Can you determine which, and what the correct factorisation of the distribution is?"
   ]
  },
  {
   "cell_type": "code",
   "execution_count": 27,
   "metadata": {},
   "outputs": [],
   "source": [
    "import numpy as np\n",
    "\n",
    "JointPDF = np.array(\n",
    "    [\n",
    "        [\n",
    "            [0.096, 0.144],\n",
    "            [0.224, 0.336]\n",
    "        ],\n",
    "        [\n",
    "            [0.09, 0.09],\n",
    "            [0.01, 0.01],\n",
    "        ]\n",
    "\n",
    "    ]\n",
    ")"
   ]
  },
  {
   "cell_type": "code",
   "execution_count": 30,
   "metadata": {},
   "outputs": [
    {
     "name": "stdout",
     "output_type": "stream",
     "text": [
      "[[[0.096 0.144]\n",
      "  [0.224 0.336]]\n",
      "\n",
      " [[0.09  0.09 ]\n",
      "  [0.01  0.01 ]]]\n"
     ]
    }
   ],
   "source": [
    "print(JointPDF)"
   ]
  },
  {
   "cell_type": "code",
   "execution_count": 28,
   "metadata": {},
   "outputs": [
    {
     "name": "stdout",
     "output_type": "stream",
     "text": [
      "[0.8 0.2]\n",
      "[0.42 0.58]\n",
      "[0.42 0.58]\n"
     ]
    }
   ],
   "source": [
    "# Calculate some distributions\n",
    "\n",
    "PA = JointPDF.sum(axis=(1,2))\n",
    "PB = JointPDF.sum(axis=(0,2))\n",
    "PC = JointPDF.sum(axis=(0,1))\n",
    "print(PA)\n",
    "print(PB)\n",
    "print(PC)"
   ]
  },
  {
   "cell_type": "markdown",
   "metadata": {},
   "source": []
  },
  {
   "cell_type": "code",
   "execution_count": 40,
   "metadata": {},
   "outputs": [
    {
     "name": "stdout",
     "output_type": "stream",
     "text": [
      "(0, 0, 0)\n",
      "(0, 0, 1)\n",
      "(0, 1, 0)\n",
      "(0, 1, 1)\n",
      "(1, 0, 0)\n",
      "(1, 0, 1)\n",
      "(1, 1, 0)\n",
      "(1, 1, 1)\n",
      "Independent PDF:\n",
      "[[[0.14112 0.19488]\n",
      "  [0.19488 0.26912]]\n",
      "\n",
      " [[0.03528 0.04872]\n",
      "  [0.04872 0.06728]]]\n",
      "Independent PDF:\n",
      "[[[0.14112 0.19488]\n",
      "  [0.19488 0.26912]]\n",
      "\n",
      " [[0.14112 0.19488]\n",
      "  [0.04872 0.06728]]]\n"
     ]
    }
   ],
   "source": [
    "# Are they independent?\n",
    "import itertools\n",
    "iterator = itertools.product((0,1),repeat=3)\n",
    "IndependentPDF = np.zeros([2,2,2])\n",
    "for i in iterator:\n",
    "    print(i)\n",
    "    IndependentPDF[i[0],i[1],i[2]] = PA[i[0]] *  PB[i[1]] * PC[i[2]]\n",
    "\n",
    "print(f\"Independent PDF:\\n{IndependentPDF}\")\n",
    "\n",
    "\n",
    "# Alternative explicit calculation\n",
    "IndependentPDF = np.zeros([2,2,2])\n",
    "IndependentPDF[0,0,0] = PA[0]*PB[0]*PC[0]\n",
    "IndependentPDF[0,0,1] = PA[0]*PB[0]*PC[1]\n",
    "IndependentPDF[0,1,0] = PA[0]*PB[1]*PC[0]\n",
    "IndependentPDF[0,1,1] = PA[0]*PB[1]*PC[1]\n",
    "IndependentPDF[1,0,0] = PA[0]*PB[0]*PC[0]\n",
    "IndependentPDF[1,0,1] = PA[0]*PB[0]*PC[1]\n",
    "IndependentPDF[1,1,0] = PA[1]*PB[1]*PC[0]\n",
    "IndependentPDF[1,1,1] = PA[1]*PB[1]*PC[1]\n",
    "\n",
    "print(f\"Independent PDF:\\n{IndependentPDF}\")\n"
   ]
  },
  {
   "cell_type": "code",
   "execution_count": 62,
   "metadata": {},
   "outputs": [
    {
     "name": "stdout",
     "output_type": "stream",
     "text": [
      "P(A,B)=\n",
      "[[0.24 0.56]\n",
      " [0.18 0.02]]\n",
      "\n",
      "P(A,C)=\n",
      "[[0.32 0.48]\n",
      " [0.1  0.1 ]]\n",
      "\n",
      "P(B,C)=\n",
      "[[0.186 0.234]\n",
      " [0.234 0.346]]\n",
      "\n",
      "P(A|B)=\n",
      "[[0.57142857 0.96551724]\n",
      " [0.42857143 0.03448276]]\n",
      "\n",
      "P(B|A)=\n",
      "[[0.3 0.9]\n",
      " [0.7 0.1]]\n",
      "\n",
      "P(A|C)=\n",
      "[[0.76190476 0.82758621]\n",
      " [0.23809524 0.17241379]]\n",
      "\n",
      "P(C|A)=\n",
      "[[0.4 0.5]\n",
      " [0.6 0.5]]\n",
      "\n",
      "P(B|C)=\n",
      "[[0.44285714 0.40344828]\n",
      " [0.55714286 0.59655172]]\n",
      "\n",
      "P(C|B)=\n",
      "[[0.44285714 0.40344828]\n",
      " [0.55714286 0.59655172]]\n",
      "\n"
     ]
    }
   ],
   "source": [
    "# Now, compute some conditionals\n",
    "# First the three possible joint distributions\n",
    "P_AB = JointPDF.sum(axis=2)\n",
    "P_AC = JointPDF.sum(axis=1)\n",
    "P_BC = JointPDF.sum(axis=0)\n",
    "\n",
    "print(f\"P(A,B)=\\n{P_AB}\\n\")\n",
    "print(f\"P(A,C)=\\n{P_AC}\\n\")\n",
    "print(f\"P(B,C)=\\n{P_BC}\\n\")\n",
    "\n",
    "# Now the conditionals. Row index the distributed variable, columns the conditioning variable\n",
    "\n",
    "\n",
    "P_A_B = P_AB/PB\n",
    "print(f\"P(A|B)=\\n{P_A_B}\\n\")\n",
    "P_B_A = P_AB.T/PA\n",
    "print(f\"P(B|A)=\\n{P_B_A}\\n\")\n",
    "\n",
    "P_A_C = P_AC/PC\n",
    "print(f\"P(A|C)=\\n{P_A_C}\\n\")\n",
    "P_C_A = P_AC.T/PA\n",
    "print(f\"P(C|A)=\\n{P_C_A}\\n\")\n",
    "\n",
    "P_B_C = P_BC.T/PB\n",
    "print(f\"P(B|C)=\\n{P_B_C}\\n\")\n",
    "P_C_B = P_BC/PC\n",
    "print(f\"P(C|B)=\\n{P_C_B}\\n\")\n"
   ]
  },
  {
   "cell_type": "markdown",
   "metadata": {},
   "source": [
    "We now have all the distributions. There are three possible combinations\n",
    "\n",
    "a) $P(A,B,C) = P(A\\vert C)P(B\\vert C)P(C)$  \n",
    "b) $P(A,B,C) = P(A\\vert B)P(C\\vert B)P(B)$  \n",
    "c) $P(A,B,C) = P(C\\vert A)P(B\\vert A)P(A)$  "
   ]
  },
  {
   "cell_type": "code",
   "execution_count": 65,
   "metadata": {},
   "outputs": [
    {
     "name": "stdout",
     "output_type": "stream",
     "text": [
      "P(A|C)P(B|C)P(C):\n",
      "[[[0.14171429 0.19365517]\n",
      "  [0.17828571 0.28634483]]\n",
      "\n",
      " [[0.04428571 0.04034483]\n",
      "  [0.05571429 0.05965517]]]\n"
     ]
    }
   ],
   "source": [
    "# P(A\\vert C)P(B\\vert C)P(C)\n",
    "iterator = itertools.product((0,1),repeat=3)\n",
    "PDF = np.zeros([2,2,2])\n",
    "for i in iterator:\n",
    "    PDF[i[0],i[1],i[2]] = P_A_C[i[0],i[2]] *  P_B_C[i[1],i[2]] * PC[i[2]]\n",
    "\n",
    "print(f\"P(A|C)P(B|C)P(C):\\n{PDF}\")"
   ]
  },
  {
   "cell_type": "code",
   "execution_count": 66,
   "metadata": {},
   "outputs": [
    {
     "name": "stdout",
     "output_type": "stream",
     "text": [
      "P(A|B)P(C|B)P(B):\n",
      "[[[0.10628571 0.13371429]\n",
      "  [0.22593103 0.33406897]]\n",
      "\n",
      " [[0.07971429 0.10028571]\n",
      "  [0.00806897 0.01193103]]]\n"
     ]
    }
   ],
   "source": [
    "# P(A\\vert B)P(C\\vert B)P(B)\n",
    "iterator = itertools.product((0,1),repeat=3)\n",
    "PDF = np.zeros([2,2,2])\n",
    "for i in iterator:\n",
    "    PDF[i[0],i[1],i[2]] = P_A_B[i[0],i[1]] *  P_C_B[i[2],i[1]] * PB[i[1]]\n",
    "\n",
    "print(f\"P(A|B)P(C|B)P(B):\\n{PDF}\")"
   ]
  },
  {
   "cell_type": "code",
   "execution_count": 68,
   "metadata": {},
   "outputs": [
    {
     "name": "stdout",
     "output_type": "stream",
     "text": [
      "P(A|C)P(B|C)P(C):\n",
      "[[[0.096 0.144]\n",
      "  [0.224 0.336]]\n",
      "\n",
      " [[0.09  0.09 ]\n",
      "  [0.01  0.01 ]]]\n"
     ]
    }
   ],
   "source": [
    "# P(B\\vert A)P(C\\vert A)P(A)\n",
    "iterator = itertools.product((0,1),repeat=3)\n",
    "PDF = np.zeros([2,2,2])\n",
    "for i in iterator:\n",
    "    PDF[i[0],i[1],i[2]] = P_B_A[i[1],i[0]] *  P_C_A[i[2],i[0]] * PA[i[0]]\n",
    "\n",
    "print(f\"P(A|C)P(B|C)P(C):\\n{PDF}\")"
   ]
  },
  {
   "cell_type": "markdown",
   "metadata": {},
   "source": [
    "This final factorisation matches the JointPDF and so is the correct solution: the Joint PDF was generated using the code in the cell below and the following PDFs:\n",
    "\n",
    "| $P(A)$ | $P(\\lnot A)$ |\n",
    "|:------:|:-------------|\n",
    "| 0.8    | 0.2          |\n",
    "\n",
    "\n",
    "|           | $P(B\\vert A)$ | $P(\\lnot B\\vert A)$ |\n",
    "|----------:|:-------------:|:--------------------|\n",
    "| $A$       | 0.3           | 0.7                 |\n",
    "| $\\lnot A$ | 0.9           | 0.1                 |\n",
    "\n",
    "\n",
    "|           | $P(C\\vert A)$ | $P(\\lnot C\\vert A)$ |\n",
    "|----------:|:-------------:|:--------------------|\n",
    "| $A$       | 0.4           | 0.6                 |\n",
    "| $\\lnot A$ | 0.5           | 0.5                 |"
   ]
  },
  {
   "cell_type": "code",
   "execution_count": 22,
   "metadata": {},
   "outputs": [
    {
     "name": "stdout",
     "output_type": "stream",
     "text": [
      "[[[0.096 0.144]\n",
      "  [0.224 0.336]]\n",
      "\n",
      " [[0.09  0.09 ]\n",
      "  [0.01  0.01 ]]]\n",
      "1.0\n"
     ]
    }
   ],
   "source": [
    "import numpy as np\n",
    "P_A = np.array([0.8,0.2])\n",
    "P_C_A = np.array([[0.4,0.5],[0.6,0.5]])\n",
    "P_B_A = np.array([[0.3,0.9],[0.7,0.1]])\n",
    "\n",
    "\n",
    "\n",
    "JointPDF = np.zeros([2,2,2])\n",
    "JointPDF[0,0,0] = P_A[0] * P_B_A[0,0] * P_C_A[0,0]\n",
    "JointPDF[0,0,1] = P_A[0] * P_B_A[0,0] * P_C_A[1,0]\n",
    "JointPDF[0,1,0] = P_A[0] * P_B_A[1,0] * P_C_A[0,0]\n",
    "JointPDF[0,1,1] = P_A[0] * P_B_A[1,0] * P_C_A[1,0]\n",
    "JointPDF[1,0,0] = P_A[1] * P_B_A[0,1] * P_C_A[0,1]\n",
    "JointPDF[1,0,1] = P_A[1] * P_B_A[0,1] * P_C_A[1,1]\n",
    "JointPDF[1,1,0] = P_A[1] * P_B_A[1,1] * P_C_A[0,1]\n",
    "JointPDF[1,1,1] = P_A[1] * P_B_A[1,1] * P_C_A[1,1]\n",
    "\n",
    "print(JointPDF)\n",
    "print(JointPDF.sum())"
   ]
  }
 ],
 "metadata": {
  "kernelspec": {
   "display_name": "Python 3",
   "language": "python",
   "name": "python3"
  },
  "language_info": {
   "codemirror_mode": {
    "name": "ipython",
    "version": 3
   },
   "file_extension": ".py",
   "mimetype": "text/x-python",
   "name": "python",
   "nbconvert_exporter": "python",
   "pygments_lexer": "ipython3",
   "version": "3.9.6"
  }
 },
 "nbformat": 4,
 "nbformat_minor": 2
}