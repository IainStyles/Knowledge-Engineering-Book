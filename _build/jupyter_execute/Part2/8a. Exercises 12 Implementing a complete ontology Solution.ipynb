{
 "cells": [
  {
   "cell_type": "markdown",
   "id": "0e76ea45",
   "metadata": {},
   "source": [
    "# Exercises 12: Solution to Implementing a Complete Ontology"
   ]
  },
  {
   "cell_type": "code",
   "execution_count": 1,
   "id": "1d28a77f-caca-41b5-8742-f848dae0c0e1",
   "metadata": {},
   "outputs": [],
   "source": [
    "from owlready2 import *\n",
    "onto = get_ontology(\"http://www.dummy.info/new.owl\")"
   ]
  },
  {
   "cell_type": "markdown",
   "id": "d1545cca-67e0-46c4-85e7-0605e33f316f",
   "metadata": {},
   "source": [
    "Define the entities"
   ]
  },
  {
   "cell_type": "code",
   "execution_count": 2,
   "id": "2caac60d-1298-4f47-8c60-e0c569c801cf",
   "metadata": {},
   "outputs": [],
   "source": [
    "with onto:\n",
    "    \n",
    "    class Disease(Thing):\n",
    "        pass\n",
    "\n",
    "    class Treatment(Thing):\n",
    "        pass\n",
    "\n",
    "    class Symptom(Thing):\n",
    "        pass"
   ]
  },
  {
   "cell_type": "markdown",
   "id": "87889bef-c461-484d-aa02-3d34e6700bd2",
   "metadata": {},
   "source": [
    "Define the relations"
   ]
  },
  {
   "cell_type": "code",
   "execution_count": 3,
   "id": "52375ba2-ab73-4a77-9bdb-cf9ff34da26e",
   "metadata": {},
   "outputs": [],
   "source": [
    "with onto:\n",
    "\n",
    "    class has_symptom(ObjectProperty):\n",
    "        domain = [Disease]\n",
    "        range = [Symptom]\n",
    "\n",
    "    class should_not_take(ObjectProperty):\n",
    "        domain = [Disease, Symptom, Treatment]\n",
    "        range = [Treatment]\n",
    "\n",
    "    class should_not_be_taken_by(ObjectProperty):\n",
    "        domain = [Treatment]\n",
    "        range = [Disease, Symptom, Treatment]\n",
    "        inverse_property = should_not_take\n",
    "        \n",
    "    class not_symptom_of(ObjectProperty):\n",
    "        domain = [Symptom]\n",
    "        range = [Disease]\n",
    "\n",
    "    class treats(ObjectProperty):\n",
    "        domain = [Treatment]\n",
    "        range = [Symptom]\n"
   ]
  },
  {
   "cell_type": "markdown",
   "id": "cd318b84-f2ca-48e8-9f18-198777059678",
   "metadata": {},
   "source": [
    "Add some data"
   ]
  },
  {
   "cell_type": "code",
   "execution_count": 4,
   "id": "7b0a383a-6da2-422b-84db-f4de8c767cc0",
   "metadata": {},
   "outputs": [],
   "source": [
    "acid = Disease(name='Acidulitis')\n",
    "brac = Disease(name='Brachioma')\n",
    "cali = Disease(name='Calicosis')\n",
    "dive = Disease(name='Divertigo')\n",
    "ecno = Disease(name='Ecnomia')"
   ]
  },
  {
   "cell_type": "code",
   "execution_count": 5,
   "id": "683c9550-4100-4841-951d-83dca9088bdd",
   "metadata": {},
   "outputs": [],
   "source": [
    "feve = Symptom(name='Fever')\n",
    "glan = Symptom(name='Glandular swelling')\n",
    "head = Symptom(name='Headache')\n",
    "itch = Symptom(name='Itching')\n",
    "jaun = Symptom(name='Jaundice')"
   ]
  },
  {
   "cell_type": "code",
   "execution_count": 6,
   "id": "affc0de9-3b88-4378-bd8d-b8d4ce1d396c",
   "metadata": {},
   "outputs": [],
   "source": [
    "kalo = Treatment(name='Kaloxin')\n",
    "lora = Treatment(name='Lorapix')\n",
    "mani = Treatment(name='Manigel')\n",
    "nimb = Treatment(name='Nimbalex')\n",
    "opti = Treatment(name='Optinox')"
   ]
  },
  {
   "cell_type": "markdown",
   "id": "cb3e98a6-0d81-46e1-8f28-94a760b41584",
   "metadata": {},
   "source": [
    "Define the relations"
   ]
  },
  {
   "cell_type": "code",
   "execution_count": 7,
   "id": "a5374085-b223-4360-88b1-60eddf228ca1",
   "metadata": {},
   "outputs": [],
   "source": [
    "#* The symptoms of Acidulitis are Headache and/or Itching, without Glandular Swelling.\n",
    "acid.has_symptom = [head,itch]\n",
    "glan.not_symptom_of = [acid]\n",
    "#* One of Brachioma's symptoms is Fever.\n",
    "brac.has_symptom = [feve]\n",
    "#* The symptoms of Divertigo are Glandular Swelling with either Itching and/or Jaundice.\n",
    "dive.has_symptom = [glan, itch, jaun]\n",
    "#* Patients with Calicosis should not take Optinox.\n",
    "cali.should_not_take = [opti]\n",
    "#* The symptoms of Ecnomia's are Fever with Glandular Swelling and/or Jaundice.\n",
    "ecno.has_symptom = [feve, glan, jaun]\n",
    "#* Itching is a symptom of either Divertigo or Ecnomia.\n",
    "dive.has_symptom = [itch]\n",
    "ecno.has_symptom = [itch]\n",
    "itch.not_symptom_of = [acid, brac, cali]\n",
    "#* Kaloxin should not be used if Fever is a symptom.\n",
    "feve.should_not_take = [kalo]\n",
    "#* Lorapix should not be used if Jaundice is a symptom.\n",
    "jaun.should_not_take = [lora]\n",
    "#* Manigel and Optinox should never be used together.\n",
    "mani.should_not_take = [opti]\n",
    "#* Headaches can be treated with either Lorapix or Nimbalex.\n",
    "lora.treats = [head]\n",
    "nimb.treats = [head]\n",
    "#* Headache is not a symptom of Ecnomia.\n",
    "head.not_symptom_of = [ecno]\n",
    "#* Kaloxin and Nimbalex should never be used together.\n",
    "kalo.should_not_take = [nimb]\n"
   ]
  },
  {
   "cell_type": "markdown",
   "id": "b9528411-d176-4fa3-98ae-8dc661afd1f3",
   "metadata": {},
   "source": [
    "Now for a query. What medicines treat each disease?"
   ]
  },
  {
   "cell_type": "code",
   "execution_count": 8,
   "id": "5c52d695-2141-4fdc-8a97-533e8559e6f6",
   "metadata": {},
   "outputs": [
    {
     "data": {
      "text/plain": [
       "[[new.Lorapix, new.Acidulitis], [new.Nimbalex, new.Acidulitis]]"
      ]
     },
     "execution_count": 8,
     "metadata": {},
     "output_type": "execute_result"
    }
   ],
   "source": [
    "list(default_world.sparql(\n",
    "    \"\"\"\n",
    "    PREFIX ONTO: <http://www.dummy.info/new.owl#>\n",
    "    SELECT ?t ?d\n",
    "    WHERE{\n",
    "        ?d ONTO:has_symptom ?s\n",
    "        ?t ONTO:treats ?s\n",
    "    }\n",
    "    \"\"\"\n",
    "))"
   ]
  }
 ],
 "metadata": {
  "kernelspec": {
   "display_name": "Python 3",
   "language": "python",
   "name": "python3"
  },
  "language_info": {
   "codemirror_mode": {
    "name": "ipython",
    "version": 3
   },
   "file_extension": ".py",
   "mimetype": "text/x-python",
   "name": "python",
   "nbconvert_exporter": "python",
   "pygments_lexer": "ipython3",
   "version": "3.9.6"
  }
 },
 "nbformat": 4,
 "nbformat_minor": 5
}