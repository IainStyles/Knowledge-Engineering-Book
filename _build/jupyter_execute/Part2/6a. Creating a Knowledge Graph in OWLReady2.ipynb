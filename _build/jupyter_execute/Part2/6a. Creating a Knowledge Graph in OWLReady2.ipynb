{
 "cells": [
  {
   "cell_type": "markdown",
   "metadata": {},
   "source": []
  },
  {
   "cell_type": "markdown",
   "metadata": {},
   "source": [
    "# Practical Solution: Creating a Knowledge Graph in OWLReady2"
   ]
  },
  {
   "cell_type": "code",
   "execution_count": 1,
   "metadata": {},
   "outputs": [
    {
     "name": "stdout",
     "output_type": "stream",
     "text": [
      "Defaulting to user installation because normal site-packages is not writeable\n",
      "Requirement already satisfied: owlready2 in /Users/s3057867/Library/Python/3.9/lib/python/site-packages (0.47)\n"
     ]
    }
   ],
   "source": [
    "!pip install owlready2\n",
    "from owlready2 import *\n",
    "# owlready2.JAVA_EXE = \"C:\\\\path\\\\to\\\\java.exe\" #windows users\n"
   ]
  },
  {
   "cell_type": "markdown",
   "metadata": {},
   "source": [
    "We begin by importing an ontology. If we are extending an existing ontology then we would import this here. However, here we are creating an ontology from scratch, so we import a blank ontology."
   ]
  },
  {
   "cell_type": "code",
   "execution_count": 2,
   "metadata": {},
   "outputs": [],
   "source": [
    "onto = get_ontology(\"http://www.dummy.info/new.owl\")"
   ]
  },
  {
   "cell_type": "markdown",
   "metadata": {},
   "source": [
    "We will now create some *classes* (types) of entity and attach these to the ontology. One way of doing this is use `with` which \"opens\" the ontology object we have just created and creates our new entities within it. Each entity is created by creating a new class of type `onto.Thing`."
   ]
  },
  {
   "cell_type": "code",
   "execution_count": 3,
   "metadata": {},
   "outputs": [],
   "source": [
    "\n",
    "with onto: # This automatically attached the entities to the ontology\n",
    "    class QUBStaff(Thing):\n",
    "        pass\n",
    "\n",
    "    class QUBStudent(Thing):\n",
    "        pass\n",
    "\n",
    "    class Program(Thing):\n",
    "        pass\n",
    "\n",
    "    class Module(Thing):\n",
    "        pass"
   ]
  },
  {
   "cell_type": "markdown",
   "metadata": {},
   "source": [
    "Now we can attach some attributes (properties to each of the entities). For each attribute, we will need to specify which type of entity the property should be attached to, and what the type of the allowable values is:"
   ]
  },
  {
   "cell_type": "code",
   "execution_count": 4,
   "metadata": {},
   "outputs": [],
   "source": [
    "with onto:\n",
    "    class staff_id(DataProperty):\n",
    "        domain = [QUBStaff]\n",
    "        range = [int]\n",
    "\n",
    "    # Leave this one out initially to demonstrate reparenting\n",
    "    class staff_title(DataProperty):\n",
    "        domain = [QUBStaff]\n",
    "        range = [str]\n",
    "\n",
    "    class student_id(DataProperty):\n",
    "        domain = [QUBStudent]\n",
    "        range = [int]\n",
    "\n",
    "    class person_name(DataProperty):\n",
    "        domain = [QUBStaff,QUBStudent]\n",
    "        range = [str]\n",
    "\n",
    "    # Alternative way\n",
    "    class ProgramTitle(Program >> str):\n",
    "        pass\n",
    "\n",
    "    class ProgramID(DataProperty):\n",
    "        domain = [Module]\n",
    "        range = [int]\n",
    "\n",
    "    # Leave this one out initially to demonstrate reparenting\n",
    "    class ProgramLength(DataProperty):\n",
    "        domain = [Program]\n",
    "        range = [str]\n",
    "\n",
    "    class ModuleTitle(DataProperty):\n",
    "        domain = [Module]\n",
    "        range = [str]\n",
    "\n",
    "    class ModuleID(DataProperty):\n",
    "        domain = [Module]\n",
    "        range = [int]"
   ]
  },
  {
   "cell_type": "markdown",
   "metadata": {},
   "source": [
    "Now we specify some relations. These are specified as `ObjectProperty` and must tell us what type of `Thing` they can be between:"
   ]
  },
  {
   "cell_type": "code",
   "execution_count": 5,
   "metadata": {},
   "outputs": [],
   "source": [
    "with onto:\n",
    "    class teaches(ObjectProperty):\n",
    "        domain = [QUBStaff]\n",
    "        range = [Module]\n",
    "\n",
    "    class enrolled_on(ObjectProperty):\n",
    "        domain = [QUBStudent]\n",
    "        range = [Program]\n",
    "\n",
    "    class includes_module(ObjectProperty):\n",
    "        domain = [Program]\n",
    "        range = [Module]\n",
    "\n",
    "    class takes(ObjectProperty):\n",
    "        domain = [QUBStudent]\n",
    "        range = [Module]"
   ]
  },
  {
   "cell_type": "markdown",
   "metadata": {},
   "source": [
    "Let's save the ontology here"
   ]
  },
  {
   "cell_type": "code",
   "execution_count": 6,
   "metadata": {},
   "outputs": [],
   "source": [
    "onto.save('teaching.rdf')"
   ]
  },
  {
   "cell_type": "markdown",
   "metadata": {},
   "source": [
    "## Populating the Graph\n",
    "\n",
    "Now we populate the graph. We'll include:\n",
    "* Six modules\n",
    "* Two programs\n",
    "* Six members of academic staff\n",
    "* Two members of administrative staff\n",
    "* Five students"
   ]
  },
  {
   "cell_type": "markdown",
   "metadata": {},
   "source": [
    "Create the modules"
   ]
  },
  {
   "cell_type": "code",
   "execution_count": 7,
   "metadata": {},
   "outputs": [],
   "source": [
    "knowledgeengineering = Module(name='knowledgeengineering', ModuleTitle = [\"Knowledge Engineering\"], ModuleID = [8052])\n",
    "introtoai = Module(name='introtoai', ModuleTitle = [\"Introduction to AI\"], ModuleID = [8050])\n",
    "compvision = Module(name='compvision', ModuleTitle = [\"Computer Vision\"], ModuleID = [8053])\n",
    "nlp = Module(name='nlp', ModuleTitle = [\"Natural Language Processing\"], ModuleID = [8054])\n",
    "aiforhealth = Module(name='aiforhealth', ModuleTitle = [\"AI for Health\"], ModuleID = [8055])\n",
    "\n",
    "# can also do it this way\n",
    "machinelearning = Module(name='machinelearning')\n",
    "machinelearning.ModuleTitle = [\"MachineLearning\"]\n",
    "machinelearning.ModuleID = [8051]\n"
   ]
  },
  {
   "cell_type": "markdown",
   "metadata": {},
   "source": [
    "Now we add two programs"
   ]
  },
  {
   "cell_type": "code",
   "execution_count": 8,
   "metadata": {},
   "outputs": [],
   "source": [
    "mscaift = Program(name='mscaift', ProgramTitle = ['MSc AI Full-time'], ProgramID = [12345], ProgramLength = ['1 year'])\n",
    "mscaipt = Program(name='mscaipt', ProgramTitle = ['MSc AI Part-time'], ProgramID = [52345], ProgramLength = ['2 years'])\n"
   ]
  },
  {
   "cell_type": "markdown",
   "metadata": {},
   "source": [
    "Six academic staff and two administrators - we will create these just as QUB staff and let the equivalence relation do the work"
   ]
  },
  {
   "cell_type": "code",
   "execution_count": 9,
   "metadata": {},
   "outputs": [],
   "source": [
    "lb = QUBStaff(name='lb', person_name = [\"Lu Bai\"], staff_id = [456789], staff_title = ['Dr'])\n",
    "hw = QUBStaff(name='hw', person_name = [\"Hui Wang\"], staff_id = [945678], staff_title = ['Professor'])\n",
    "ibs = QUBStaff(name='ibs', person_name = [\"Iain Styles\"], staff_id = [894567], staff_title = ['Professor'])\n",
    "yh = QUBStaff(name='yh', person_name = [\"Yang Hua\"], staff_id = [789456], staff_title = ['Dr'])\n",
    "bd = QUBStaff(name='bd', person_name = [\"Barry Devereux\"], staff_id = [678945], staff_title = ['Dr'])\n",
    "rr = QUBStaff(name='rr', person_name = [\"Reza Rafiee\"], staff_id = [567894], staff_title = ['Dr'])\n",
    "ec = QUBStaff(name='ec', person_name = [\"Elaine Cranston\"], staff_id = [345678], staff_title = ['Mrs'])\n",
    "sk = QUBStaff(name='sk', person_name = [\"Sonia Katic\"], staff_id = [456783], staff_title = ['Ms'])"
   ]
  },
  {
   "cell_type": "markdown",
   "metadata": {},
   "source": [
    "Finally, some students"
   ]
  },
  {
   "cell_type": "code",
   "execution_count": 10,
   "metadata": {},
   "outputs": [],
   "source": [
    "at = QUBStudent(name='at', person_name = ['Alan Turing'], student_id = [234567])\n",
    "gh = QUBStudent(name='gh', person_name = ['Grace Hopper'], student_id = [723456])\n",
    "al = QUBStudent(name='al', person_name = ['Ada Lovelace'], student_id = [672345])\n",
    "mm = QUBStudent(name='mm', person_name = ['Marvin Minsky'], student_id = [567234])\n",
    "jm = QUBStudent(name='jm', person_name = ['John McCarthy'], student_id = [456723])"
   ]
  },
  {
   "cell_type": "markdown",
   "metadata": {},
   "source": [
    "Now we add the relations. First, which modules are on each program"
   ]
  },
  {
   "cell_type": "code",
   "execution_count": 11,
   "metadata": {},
   "outputs": [],
   "source": [
    "mscaift.includes_module = [introtoai, machinelearning, knowledgeengineering, compvision, nlp, aiforhealth]\n",
    "mscaift.includes_module = [introtoai, machinelearning, compvision]"
   ]
  },
  {
   "cell_type": "markdown",
   "metadata": {},
   "source": [
    "Now, which students are on each program"
   ]
  },
  {
   "cell_type": "code",
   "execution_count": 12,
   "metadata": {},
   "outputs": [],
   "source": [
    "at.enrolled_on = [mscaift]\n",
    "gh.enrolled_on = [mscaipt]\n",
    "al.enrolled_on = [mscaift]\n",
    "mm.enrolled_on = [mscaipt]\n",
    "jm.enrolled_on = [mscaift]"
   ]
  },
  {
   "cell_type": "markdown",
   "metadata": {},
   "source": [
    "Add students to modules"
   ]
  },
  {
   "cell_type": "code",
   "execution_count": 13,
   "metadata": {},
   "outputs": [],
   "source": [
    "at.takes = [introtoai, machinelearning, knowledgeengineering, compvision, nlp, aiforhealth]\n",
    "gh.takes = [introtoai, machinelearning, knowledgeengineering]\n",
    "al.takes = [introtoai, machinelearning, knowledgeengineering, compvision, nlp, aiforhealth]\n",
    "mm.takes = [introtoai, machinelearning, knowledgeengineering]\n",
    "jm.takes = [aiforhealth]"
   ]
  },
  {
   "cell_type": "markdown",
   "metadata": {},
   "source": [
    "Finally, who teaches what"
   ]
  },
  {
   "cell_type": "code",
   "execution_count": 14,
   "metadata": {},
   "outputs": [],
   "source": [
    "lb.teaches = [introtoai]\n",
    "hw.teaches = [machinelearning]\n",
    "ibs.teaches = [knowledgeengineering]\n",
    "yh.teaches = [compvision]\n",
    "bd.teaches = [nlp]\n",
    "rr.teaches = [aiforhealth]"
   ]
  },
  {
   "cell_type": "code",
   "execution_count": 15,
   "metadata": {},
   "outputs": [],
   "source": [
    "onto.save('teaching.rdf')"
   ]
  },
  {
   "cell_type": "markdown",
   "metadata": {},
   "source": [
    "## Querying the graph\n",
    "\n",
    "Now we can construct some simple queries on the graph. "
   ]
  },
  {
   "cell_type": "code",
   "execution_count": 16,
   "metadata": {},
   "outputs": [
    {
     "name": "stdout",
     "output_type": "stream",
     "text": [
      "Iain Styles teaches Knowledge Engineering\n"
     ]
    }
   ],
   "source": [
    "print(f\"{ibs.person_name[0]} teaches {ibs.teaches[0].ModuleTitle[0]}\")"
   ]
  },
  {
   "cell_type": "markdown",
   "metadata": {},
   "source": [
    "This rapidly becomes inflexible: we want to query classes of object, and this will become very cumbersome. Fortunately there is a mechanism for this. The language designed for this is called SPARQL which is very similar to SQL. Let us see how it works with a few simple examples.\n",
    "\n",
    "Here is a very simple query that returns everything in the dataset"
   ]
  },
  {
   "cell_type": "code",
   "execution_count": 17,
   "metadata": {},
   "outputs": [
    {
     "data": {
      "text/plain": [
       "[[.anonymous, 6, owl.Ontology],\n",
       " [www.dummy.info.new.owl, 6, owl.Ontology],\n",
       " [new.QUBStaff, 6, 11],\n",
       " [new.QUBStaff, 9, owl.Thing],\n",
       " [new.QUBStudent, 6, 11],\n",
       " [new.QUBStudent, 9, owl.Thing],\n",
       " [new.Program, 6, 11],\n",
       " [new.Program, 9, owl.Thing],\n",
       " [new.Module, 6, 11],\n",
       " [new.Module, 9, owl.Thing],\n",
       " [new.staff_id, 6, owl.DatatypeProperty],\n",
       " [new.staff_id, 7, new.QUBStaff],\n",
       " [new.staff_id, 8, int],\n",
       " [new.staff_title, 6, owl.DatatypeProperty],\n",
       " [new.staff_title, 7, new.QUBStaff],\n",
       " [new.staff_title, 8, str],\n",
       " [new.student_id, 6, owl.DatatypeProperty],\n",
       " [new.student_id, 7, new.QUBStudent],\n",
       " [new.student_id, 8, int],\n",
       " [new.person_name, 6, owl.DatatypeProperty],\n",
       " [new.person_name, 7, new.QUBStudent],\n",
       " [new.person_name, 7, new.QUBStaff],\n",
       " [new.person_name, 8, str],\n",
       " [new.ProgramTitle, 6, owl.DatatypeProperty],\n",
       " [new.ProgramTitle, 7, new.Program],\n",
       " [new.ProgramTitle, 8, str],\n",
       " [new.ProgramID, 6, owl.DatatypeProperty],\n",
       " [new.ProgramID, 7, new.Module],\n",
       " [new.ProgramID, 8, int],\n",
       " [new.ProgramLength, 6, owl.DatatypeProperty],\n",
       " [new.ProgramLength, 7, new.Program],\n",
       " [new.ProgramLength, 8, str],\n",
       " [new.ModuleTitle, 6, owl.DatatypeProperty],\n",
       " [new.ModuleTitle, 7, new.Module],\n",
       " [new.ModuleTitle, 8, str],\n",
       " [new.ModuleID, 6, owl.DatatypeProperty],\n",
       " [new.ModuleID, 7, new.Module],\n",
       " [new.ModuleID, 8, int],\n",
       " [new.teaches, 6, owl.ObjectProperty],\n",
       " [new.teaches, 7, new.QUBStaff],\n",
       " [new.teaches, 8, new.Module],\n",
       " [new.enrolled_on, 6, owl.ObjectProperty],\n",
       " [new.enrolled_on, 7, new.QUBStudent],\n",
       " [new.enrolled_on, 8, new.Program],\n",
       " [new.includes_module, 6, owl.ObjectProperty],\n",
       " [new.includes_module, 7, new.Program],\n",
       " [new.includes_module, 8, new.Module],\n",
       " [new.takes, 6, owl.ObjectProperty],\n",
       " [new.takes, 7, new.QUBStudent],\n",
       " [new.takes, 8, new.Module],\n",
       " [new.knowledgeengineering, 6, owl.NamedIndividual],\n",
       " [new.knowledgeengineering, 6, new.Module],\n",
       " [new.introtoai, 6, owl.NamedIndividual],\n",
       " [new.introtoai, 6, new.Module],\n",
       " [new.compvision, 6, owl.NamedIndividual],\n",
       " [new.compvision, 6, new.Module],\n",
       " [new.nlp, 6, owl.NamedIndividual],\n",
       " [new.nlp, 6, new.Module],\n",
       " [new.aiforhealth, 6, owl.NamedIndividual],\n",
       " [new.aiforhealth, 6, new.Module],\n",
       " [new.machinelearning, 6, owl.NamedIndividual],\n",
       " [new.machinelearning, 6, new.Module],\n",
       " [new.mscaift, 6, owl.NamedIndividual],\n",
       " [new.mscaift, 6, new.Program],\n",
       " [new.mscaipt, 6, owl.NamedIndividual],\n",
       " [new.mscaipt, 6, new.Program],\n",
       " [new.lb, 6, owl.NamedIndividual],\n",
       " [new.lb, 6, new.QUBStaff],\n",
       " [new.hw, 6, owl.NamedIndividual],\n",
       " [new.hw, 6, new.QUBStaff],\n",
       " [new.ibs, 6, owl.NamedIndividual],\n",
       " [new.ibs, 6, new.QUBStaff],\n",
       " [new.yh, 6, owl.NamedIndividual],\n",
       " [new.yh, 6, new.QUBStaff],\n",
       " [new.bd, 6, owl.NamedIndividual],\n",
       " [new.bd, 6, new.QUBStaff],\n",
       " [new.rr, 6, owl.NamedIndividual],\n",
       " [new.rr, 6, new.QUBStaff],\n",
       " [new.ec, 6, owl.NamedIndividual],\n",
       " [new.ec, 6, new.QUBStaff],\n",
       " [new.sk, 6, owl.NamedIndividual],\n",
       " [new.sk, 6, new.QUBStaff],\n",
       " [new.at, 6, owl.NamedIndividual],\n",
       " [new.at, 6, new.QUBStudent],\n",
       " [new.gh, 6, owl.NamedIndividual],\n",
       " [new.gh, 6, new.QUBStudent],\n",
       " [new.al, 6, owl.NamedIndividual],\n",
       " [new.al, 6, new.QUBStudent],\n",
       " [new.mm, 6, owl.NamedIndividual],\n",
       " [new.mm, 6, new.QUBStudent],\n",
       " [new.jm, 6, owl.NamedIndividual],\n",
       " [new.jm, 6, new.QUBStudent],\n",
       " [new.mscaift, new.includes_module, new.machinelearning],\n",
       " [new.mscaift, new.includes_module, new.introtoai],\n",
       " [new.mscaift, new.includes_module, new.compvision],\n",
       " [new.at, new.enrolled_on, new.mscaift],\n",
       " [new.gh, new.enrolled_on, new.mscaipt],\n",
       " [new.al, new.enrolled_on, new.mscaift],\n",
       " [new.mm, new.enrolled_on, new.mscaipt],\n",
       " [new.jm, new.enrolled_on, new.mscaift],\n",
       " [new.at, new.takes, new.machinelearning],\n",
       " [new.at, new.takes, new.introtoai],\n",
       " [new.at, new.takes, new.compvision],\n",
       " [new.at, new.takes, new.nlp],\n",
       " [new.at, new.takes, new.knowledgeengineering],\n",
       " [new.at, new.takes, new.aiforhealth],\n",
       " [new.gh, new.takes, new.knowledgeengineering],\n",
       " [new.gh, new.takes, new.introtoai],\n",
       " [new.gh, new.takes, new.machinelearning],\n",
       " [new.al, new.takes, new.machinelearning],\n",
       " [new.al, new.takes, new.introtoai],\n",
       " [new.al, new.takes, new.compvision],\n",
       " [new.al, new.takes, new.nlp],\n",
       " [new.al, new.takes, new.knowledgeengineering],\n",
       " [new.al, new.takes, new.aiforhealth],\n",
       " [new.mm, new.takes, new.knowledgeengineering],\n",
       " [new.mm, new.takes, new.introtoai],\n",
       " [new.mm, new.takes, new.machinelearning],\n",
       " [new.jm, new.takes, new.aiforhealth],\n",
       " [new.lb, new.teaches, new.introtoai],\n",
       " [new.hw, new.teaches, new.machinelearning],\n",
       " [new.ibs, new.teaches, new.knowledgeengineering],\n",
       " [new.yh, new.teaches, new.compvision],\n",
       " [new.bd, new.teaches, new.nlp],\n",
       " [new.rr, new.teaches, new.aiforhealth],\n",
       " [new.knowledgeengineering, new.ModuleTitle, 'Knowledge Engineering'],\n",
       " [new.knowledgeengineering, new.ModuleID, 8052],\n",
       " [new.introtoai, new.ModuleTitle, 'Introduction to AI'],\n",
       " [new.introtoai, new.ModuleID, 8050],\n",
       " [new.compvision, new.ModuleTitle, 'Computer Vision'],\n",
       " [new.compvision, new.ModuleID, 8053],\n",
       " [new.nlp, new.ModuleTitle, 'Natural Language Processing'],\n",
       " [new.nlp, new.ModuleID, 8054],\n",
       " [new.aiforhealth, new.ModuleTitle, 'AI for Health'],\n",
       " [new.aiforhealth, new.ModuleID, 8055],\n",
       " [new.machinelearning, new.ModuleTitle, 'MachineLearning'],\n",
       " [new.machinelearning, new.ModuleID, 8051],\n",
       " [new.mscaift, new.ProgramTitle, 'MSc AI Full-time'],\n",
       " [new.mscaift, new.ProgramID, 12345],\n",
       " [new.mscaift, new.ProgramLength, '1 year'],\n",
       " [new.mscaipt, new.ProgramTitle, 'MSc AI Part-time'],\n",
       " [new.mscaipt, new.ProgramID, 52345],\n",
       " [new.mscaipt, new.ProgramLength, '2 years'],\n",
       " [new.lb, new.person_name, 'Lu Bai'],\n",
       " [new.lb, new.staff_id, 456789],\n",
       " [new.lb, new.staff_title, 'Dr'],\n",
       " [new.hw, new.person_name, 'Hui Wang'],\n",
       " [new.hw, new.staff_id, 945678],\n",
       " [new.hw, new.staff_title, 'Professor'],\n",
       " [new.ibs, new.person_name, 'Iain Styles'],\n",
       " [new.ibs, new.staff_id, 894567],\n",
       " [new.ibs, new.staff_title, 'Professor'],\n",
       " [new.yh, new.person_name, 'Yang Hua'],\n",
       " [new.yh, new.staff_id, 789456],\n",
       " [new.yh, new.staff_title, 'Dr'],\n",
       " [new.bd, new.person_name, 'Barry Devereux'],\n",
       " [new.bd, new.staff_id, 678945],\n",
       " [new.bd, new.staff_title, 'Dr'],\n",
       " [new.rr, new.person_name, 'Reza Rafiee'],\n",
       " [new.rr, new.staff_id, 567894],\n",
       " [new.rr, new.staff_title, 'Dr'],\n",
       " [new.ec, new.person_name, 'Elaine Cranston'],\n",
       " [new.ec, new.staff_id, 345678],\n",
       " [new.ec, new.staff_title, 'Mrs'],\n",
       " [new.sk, new.person_name, 'Sonia Katic'],\n",
       " [new.sk, new.staff_id, 456783],\n",
       " [new.sk, new.staff_title, 'Ms'],\n",
       " [new.at, new.person_name, 'Alan Turing'],\n",
       " [new.at, new.student_id, 234567],\n",
       " [new.gh, new.person_name, 'Grace Hopper'],\n",
       " [new.gh, new.student_id, 723456],\n",
       " [new.al, new.person_name, 'Ada Lovelace'],\n",
       " [new.al, new.student_id, 672345],\n",
       " [new.mm, new.person_name, 'Marvin Minsky'],\n",
       " [new.mm, new.student_id, 567234],\n",
       " [new.jm, new.person_name, 'John McCarthy'],\n",
       " [new.jm, new.student_id, 456723]]"
      ]
     },
     "execution_count": 17,
     "metadata": {},
     "output_type": "execute_result"
    }
   ],
   "source": [
    "list(default_world.sparql(\n",
    "    \"\"\"\n",
    "    PREFIX RDF: <http://www.dummy.info/new.owl#>\n",
    "    \n",
    "    SELECT ?subject ?predicate ?object\n",
    "    WHERE{\n",
    "        ?subject ?predicate ?object\n",
    "    }\n",
    "    \"\"\"))"
   ]
  },
  {
   "cell_type": "markdown",
   "metadata": {},
   "source": [
    "\n",
    "We can refine this query by, for example, restricting the predicate and the object to get specific object for which the predicate with variable object is true.\n",
    "\n",
    "For example, to get all members of staff, we want to get all objects of type `QUBStaff`:"
   ]
  },
  {
   "cell_type": "code",
   "execution_count": 18,
   "metadata": {},
   "outputs": [
    {
     "data": {
      "text/plain": [
       "[[new.lb],\n",
       " [new.hw],\n",
       " [new.ibs],\n",
       " [new.yh],\n",
       " [new.bd],\n",
       " [new.rr],\n",
       " [new.ec],\n",
       " [new.sk]]"
      ]
     },
     "execution_count": 18,
     "metadata": {},
     "output_type": "execute_result"
    }
   ],
   "source": [
    "list(default_world.sparql(\n",
    "    \"\"\"\n",
    "    PREFIX RDF: <http://www.dummy.info/new.owl#>\n",
    "    \n",
    "    SELECT ?x\n",
    "    WHERE{\n",
    "        ?x rdf:type RDF:QUBStaff\n",
    "    }\n",
    "    \"\"\"))"
   ]
  },
  {
   "cell_type": "markdown",
   "metadata": {},
   "source": [
    "Get all students"
   ]
  },
  {
   "cell_type": "code",
   "execution_count": 19,
   "metadata": {},
   "outputs": [
    {
     "data": {
      "text/plain": [
       "[[new.at], [new.gh], [new.al], [new.mm], [new.jm]]"
      ]
     },
     "execution_count": 19,
     "metadata": {},
     "output_type": "execute_result"
    }
   ],
   "source": [
    "list(default_world.sparql(\n",
    "    \"\"\"\n",
    "    PREFIX RDF: <http://www.dummy.info/new.owl#>\n",
    "    \n",
    "    SELECT ?student\n",
    "    WHERE{\n",
    "        ?student rdf:type RDF:QUBStudent\n",
    "    }\n",
    "    \"\"\"))"
   ]
  },
  {
   "cell_type": "markdown",
   "metadata": {},
   "source": [
    "Get all modules and the staff who teach them"
   ]
  },
  {
   "cell_type": "code",
   "execution_count": 20,
   "metadata": {},
   "outputs": [
    {
     "data": {
      "text/plain": [
       "[[new.lb, new.introtoai],\n",
       " [new.hw, new.machinelearning],\n",
       " [new.ibs, new.knowledgeengineering],\n",
       " [new.yh, new.compvision],\n",
       " [new.bd, new.nlp],\n",
       " [new.rr, new.aiforhealth]]"
      ]
     },
     "execution_count": 20,
     "metadata": {},
     "output_type": "execute_result"
    }
   ],
   "source": [
    "list(default_world.sparql(\n",
    "    \"\"\"\n",
    "    PREFIX ONTO: <http://www.dummy.info/new.owl#>\n",
    "    \n",
    "    SELECT ?staff ?module\n",
    "    WHERE{\n",
    "        ?staff rdf:type ONTO:QUBStaff\n",
    "        ?module rdf:type ONTO:Module\n",
    "        ?staff ONTO:teaches ?module\n",
    "\n",
    "    }\n",
    "    \"\"\"))"
   ]
  },
  {
   "cell_type": "markdown",
   "metadata": {},
   "source": [
    "Our earlier query: all staff taught by an individual"
   ]
  },
  {
   "cell_type": "code",
   "execution_count": 21,
   "metadata": {},
   "outputs": [
    {
     "data": {
      "text/plain": [
       "[[new.ibs, new.knowledgeengineering]]"
      ]
     },
     "execution_count": 21,
     "metadata": {},
     "output_type": "execute_result"
    }
   ],
   "source": [
    "list(default_world.sparql(\n",
    "    \"\"\"\n",
    "    PREFIX RDF: <http://www.dummy.info/new.owl#>\n",
    "    \n",
    "    SELECT ?staff ?module\n",
    "    WHERE{\n",
    "        ?staff rdf:type RDF:QUBStaff\n",
    "        ?module rdf:type RDF:Module\n",
    "        ?staff RDF:teaches ?module\n",
    "        ?staff RDF:person_name \"Iain Styles\"\n",
    "    }\n",
    "    \"\"\"))"
   ]
  },
  {
   "cell_type": "markdown",
   "metadata": {},
   "source": [
    "Get all students taught by each member of staff"
   ]
  },
  {
   "cell_type": "code",
   "execution_count": 22,
   "metadata": {},
   "outputs": [
    {
     "data": {
      "text/plain": [
       "[[new.lb, new.at],\n",
       " [new.lb, new.gh],\n",
       " [new.lb, new.al],\n",
       " [new.lb, new.mm],\n",
       " [new.hw, new.at],\n",
       " [new.hw, new.gh],\n",
       " [new.hw, new.al],\n",
       " [new.hw, new.mm],\n",
       " [new.ibs, new.at],\n",
       " [new.ibs, new.gh],\n",
       " [new.ibs, new.al],\n",
       " [new.ibs, new.mm],\n",
       " [new.yh, new.at],\n",
       " [new.yh, new.al],\n",
       " [new.bd, new.at],\n",
       " [new.bd, new.al],\n",
       " [new.rr, new.at],\n",
       " [new.rr, new.al],\n",
       " [new.rr, new.jm]]"
      ]
     },
     "execution_count": 22,
     "metadata": {},
     "output_type": "execute_result"
    }
   ],
   "source": [
    "list(default_world.sparql(\n",
    "    \"\"\"\n",
    "    PREFIX RDF: <http://www.dummy.info/new.owl#>\n",
    "    \n",
    "    SELECT ?staff ?student\n",
    "    WHERE{\n",
    "        ?staff rdf:type RDF:QUBStaff\n",
    "        ?student rdf:type RDF:QUBStudent\n",
    "        ?module rdf:type RDF:Module\n",
    "        ?staff RDF:teaches ?module\n",
    "        ?student RDF:takes ?module\n",
    "    }\n",
    "    \"\"\"))"
   ]
  }
 ],
 "metadata": {
  "kernelspec": {
   "display_name": "Python 3",
   "language": "python",
   "name": "python3"
  },
  "language_info": {
   "codemirror_mode": {
    "name": "ipython",
    "version": 3
   },
   "file_extension": ".py",
   "mimetype": "text/x-python",
   "name": "python",
   "nbconvert_exporter": "python",
   "pygments_lexer": "ipython3",
   "version": "3.9.6"
  }
 },
 "nbformat": 4,
 "nbformat_minor": 2
}