{
 "cells": [
  {
   "cell_type": "markdown",
   "metadata": {},
   "source": []
  },
  {
   "cell_type": "markdown",
   "metadata": {},
   "source": [
    "# Exercise 11: Solution Extending a Knowledge Graph"
   ]
  },
  {
   "cell_type": "code",
   "execution_count": 1,
   "metadata": {},
   "outputs": [
    {
     "name": "stdout",
     "output_type": "stream",
     "text": [
      "Defaulting to user installation because normal site-packages is not writeable\n",
      "Requirement already satisfied: owlready2 in /Users/s3057867/Library/Python/3.9/lib/python/site-packages (0.47)\n"
     ]
    }
   ],
   "source": [
    "!pip install owlready2\n",
    "from owlready2 import *\n",
    "# owlready2.JAVA_EXE = \"C:\\\\path\\\\to\\\\java.exe\" #windows users\n"
   ]
  },
  {
   "cell_type": "markdown",
   "metadata": {},
   "source": [
    "We begin by importing an ontology. If we are extending an existing ontology then we would import this here. However, here we are creating an ontology from scratch, so we import a blank ontology."
   ]
  },
  {
   "cell_type": "code",
   "execution_count": 2,
   "metadata": {},
   "outputs": [],
   "source": [
    "onto = get_ontology(\"http://www.dummy.info/new.owl\")"
   ]
  },
  {
   "cell_type": "markdown",
   "metadata": {},
   "source": [
    "We will now create some *classes* (types) of entity and attach these to the ontology. One way of doing this is use `with` which \"opens\" the ontology object we have just created and creates our new entities within it. Each entity is created by creating a new class of type `onto.Thing`."
   ]
  },
  {
   "cell_type": "code",
   "execution_count": 3,
   "metadata": {},
   "outputs": [],
   "source": [
    "with onto:\n",
    "    class QUBStaff(Thing):\n",
    "        pass\n",
    "\n",
    "    class QUBStudent(Thing):\n",
    "        pass\n",
    "\n",
    "    class Module(Thing):\n",
    "        pass\n",
    "\n",
    "    class Program(Thing):\n",
    "        pass"
   ]
  },
  {
   "cell_type": "markdown",
   "metadata": {},
   "source": [
    "Now we can attach some attributes (properties to each of the entities). For each attribute, we will need to specify which type of entity the property should be attached to, and what the type of the allowable values is:"
   ]
  },
  {
   "cell_type": "code",
   "execution_count": 4,
   "metadata": {},
   "outputs": [],
   "source": [
    "with onto:\n",
    "    class staff_id(DataProperty):\n",
    "        domain = [QUBStaff]\n",
    "        range = [int]\n",
    "\n",
    "    class student_id(DataProperty):\n",
    "        domain = [QUBStudent]\n",
    "        range = [int]\n",
    "\n",
    "    class person_name(DataProperty):\n",
    "        domain = [QUBStaff,QUBStudent]\n",
    "        range = [str]\n",
    "\n",
    "    ## Alternative syntax\n",
    "    class module_title(Module >> str):\n",
    "        pass\n",
    "\n",
    "    class module_id(Module >> int):\n",
    "        pass\n",
    "\n",
    "    class program_title(Program >> str):\n",
    "        pass\n",
    "\n",
    "    class program_id(Program >> int):\n",
    "        pass\n"
   ]
  },
  {
   "cell_type": "markdown",
   "metadata": {},
   "source": [
    "Now we specify some relations. These are specified as `ObjectProperty` and must tell us what type of `Thing` they can be between:"
   ]
  },
  {
   "cell_type": "code",
   "execution_count": 5,
   "metadata": {},
   "outputs": [],
   "source": [
    "with onto:\n",
    "    class teaches(ObjectProperty):\n",
    "        domain = [QUBStaff]\n",
    "        range = [Module]\n",
    "\n",
    "    class enrolled_in(ObjectProperty):\n",
    "        domain = [QUBStudent]\n",
    "        range = [Program]\n",
    "\n",
    "    class is_directed_by(ObjectProperty):\n",
    "        domain = [Program]\n",
    "        range = [QUBStaff]\n",
    "\n",
    "    class includes(ObjectProperty):\n",
    "        domain = [Program]\n",
    "        range = [Module]"
   ]
  },
  {
   "cell_type": "markdown",
   "metadata": {},
   "source": [
    "Let's save the ontology here"
   ]
  },
  {
   "cell_type": "code",
   "execution_count": 6,
   "metadata": {},
   "outputs": [],
   "source": [
    "onto.save('onto.rdf')"
   ]
  },
  {
   "cell_type": "markdown",
   "metadata": {},
   "source": [
    "## Populating the Graph\n",
    "\n",
    "Now we populate the graph. We'll include:\n",
    "* Six modules\n",
    "* Two programs\n",
    "* Six members of academic staff\n",
    "* Two members of administrative staff\n",
    "* Five students"
   ]
  },
  {
   "cell_type": "markdown",
   "metadata": {},
   "source": [
    "Create the modules"
   ]
  },
  {
   "cell_type": "code",
   "execution_count": 7,
   "metadata": {},
   "outputs": [],
   "source": [
    "ke = Module(name='knowledgeengineering', module_title=['Knowledge Engineering'], module_id=[12345])\n",
    "iai = Module(name='introai', module_title=['Intro to AI'], module_id=[23451])\n",
    "ml = Module(name='ml', module_title=['Machine Learning'], module_id=[34512])\n",
    "cv = Module(name='cv', module_title=['Computer Vision'], module_id=[45123])\n",
    "net = Module(name='networks', module_title=['Networks'], module_id=[51234])\n",
    "crypto = Module(name='crypto', module_title=['Cryptography'], module_id=[12340])"
   ]
  },
  {
   "cell_type": "markdown",
   "metadata": {},
   "source": [
    "Two programs"
   ]
  },
  {
   "cell_type": "code",
   "execution_count": 8,
   "metadata": {},
   "outputs": [],
   "source": [
    "cyber = Program(name='cyber', program_title=['CyberSecurity'], program_id=[98765])\n",
    "ai = Program(name='ai', program_title=['Artificial Intelligence'], program_id=[67895])"
   ]
  },
  {
   "cell_type": "code",
   "execution_count": 9,
   "metadata": {},
   "outputs": [
    {
     "ename": "NameError",
     "evalue": "name 'lb' is not defined",
     "output_type": "error",
     "traceback": [
      "\u001b[0;31m---------------------------------------------------------------------------\u001b[0m",
      "\u001b[0;31mNameError\u001b[0m                                 Traceback (most recent call last)",
      "Cell \u001b[0;32mIn[9], line 1\u001b[0m\n\u001b[0;32m----> 1\u001b[0m \u001b[43mlb\u001b[49m\u001b[38;5;241m.\u001b[39mteaches \u001b[38;5;241m=\u001b[39m [iai,net]\n\u001b[1;32m      2\u001b[0m hw\u001b[38;5;241m.\u001b[39mteaches \u001b[38;5;241m=\u001b[39m [ml,crypto]\n\u001b[1;32m      3\u001b[0m ibs\u001b[38;5;241m.\u001b[39mteaches \u001b[38;5;241m=\u001b[39m [ke]\n",
      "\u001b[0;31mNameError\u001b[0m: name 'lb' is not defined"
     ]
    }
   ],
   "source": [
    "lb.teaches = [iai,net]\n",
    "hw.teaches = [ml,crypto]\n",
    "ibs.teaches = [ke]\n",
    "yh.teaches = [cv]"
   ]
  },
  {
   "cell_type": "markdown",
   "metadata": {},
   "source": [
    "Four academic staff "
   ]
  },
  {
   "cell_type": "code",
   "execution_count": null,
   "metadata": {},
   "outputs": [],
   "source": [
    "lb = QUBStaff(name='lb', person_name=['Lu Bai'], staff_id=[23456])\n",
    "hw = QUBStaff(name='hw', person_name=['Hui Wang'], staff_id=[34562])\n",
    "ibs = QUBStaff(name='ibs', person_name=['Iain Styles'], staff_id=[45623])\n",
    "yh = QUBStaff(name='yh', person_name=['Yang Hua'], staff_id=[56234])\n"
   ]
  },
  {
   "cell_type": "markdown",
   "metadata": {},
   "source": [
    "Finally, some students"
   ]
  },
  {
   "cell_type": "code",
   "execution_count": null,
   "metadata": {},
   "outputs": [],
   "source": [
    "at = QUBStudent(name='at', person_name=['Alan Turing'], student_id=[34567])\n",
    "gh = QUBStudent(name='gh', person_name=['Grace Hopper'], student_id=[45673])\n",
    "jm = QUBStudent(name='jm', person_name=['John McCarthy'], student_id=[56734])\n",
    "al = QUBStudent(name='al', person_name=['Ada Lovelace'], student_id=[67345])"
   ]
  },
  {
   "cell_type": "markdown",
   "metadata": {},
   "source": [
    "Add students to programs"
   ]
  },
  {
   "cell_type": "code",
   "execution_count": null,
   "metadata": {},
   "outputs": [],
   "source": [
    "at.enrolled_in = [cyber]\n",
    "gh.enrolled_in = [ai]\n",
    "jm.enrolled_in = [cyber]\n",
    "al.enrolled_in = [ai]"
   ]
  },
  {
   "cell_type": "code",
   "execution_count": null,
   "metadata": {},
   "outputs": [],
   "source": [
    "cyber.includes = [net, crypto, ml]\n",
    "ai.includes = [iai,ml,ke,cv]"
   ]
  },
  {
   "cell_type": "markdown",
   "metadata": {},
   "source": [
    "## Querying the graph\n"
   ]
  },
  {
   "cell_type": "markdown",
   "metadata": {},
   "source": [
    "\n",
    "All students on a module"
   ]
  },
  {
   "cell_type": "code",
   "execution_count": null,
   "metadata": {},
   "outputs": [],
   "source": [
    "list(default_world.sparql(\n",
    "    \"\"\"\n",
    "    PREFIX ONTO: <http://www.dummy.info/new.owl#>\n",
    "    SELECT ?module ?student\n",
    "    WHERE{\n",
    "        ?student ONTO:enrolled_in ?program\n",
    "        ?program ONTO:includes ?module\n",
    "    }\n",
    "    \"\"\"\n",
    "))"
   ]
  }
 ],
 "metadata": {
  "kernelspec": {
   "display_name": "Python 3",
   "language": "python",
   "name": "python3"
  },
  "language_info": {
   "codemirror_mode": {
    "name": "ipython",
    "version": 3
   },
   "file_extension": ".py",
   "mimetype": "text/x-python",
   "name": "python",
   "nbconvert_exporter": "python",
   "pygments_lexer": "ipython3",
   "version": "3.9.6"
  }
 },
 "nbformat": 4,
 "nbformat_minor": 4
}