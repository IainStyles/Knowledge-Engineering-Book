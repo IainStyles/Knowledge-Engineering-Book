{
 "cells": [
  {
   "cell_type": "markdown",
   "metadata": {},
   "source": [
    "# Practical: The HALD Knowledge Graph\n",
    "This section has been inspired by the work of Robert Haas on Biomedical Knowledge Graphs which can be found at \n",
    "https://github.com/robert-haas/awesome-biomedical-knowledge-graphs/tree/main"
   ]
  },
  {
   "cell_type": "markdown",
   "metadata": {},
   "source": [
    "The source of the data is the webpage on [Figshare](https://figshare.com/articles/dataset/HALD_a_human_aging_and_longevity_knowledge_graph_for_precision_gerontology_and_geroscience_analyses/22828196). This include versions in JSON and CSV. The CSV versions are structured for a particular package which we will not be using, so we will use the json packages which are more general.\n",
    "\n",
    "First we'll create a data directory."
   ]
  },
  {
   "cell_type": "code",
   "execution_count": null,
   "metadata": {},
   "outputs": [],
   "source": [
    "import os\n",
    "Download = False\n",
    "datadir = \"HALD_Dataset\"\n",
    "if not os.path.exists(datadir):\n",
    "    os.mkdir(datadir)"
   ]
  },
  {
   "cell_type": "markdown",
   "metadata": {},
   "source": [
    "Now we define the list of the files that we want to download. We'll define a *list* of *tuples*, with each tuple representing one of the files that we want to fetch, specifying three things:\n",
    "\n",
    "* The name that we want the file to be called.\n",
    "* The URL from where it will be downloaded.\n",
    "* The MD5 checksum which will allow us to verify the downloaded file's integrity."
   ]
  },
  {
   "cell_type": "code",
   "execution_count": null,
   "metadata": {},
   "outputs": [],
   "source": [
    "# List of files to download\n",
    "filelist = [\n",
    "    (\"Entity_info.json\", \"https://figshare.com/ndownloader/files/43612509\", '1746cde24a1bac0460f1ccf646608cc9'),\n",
    "    (\"Literature_Info.json\", \"https://figshare.com/ndownloader/files/43612512\", \"10b78e8ec30f5b85f2a58d8fe24f056b\"),\n",
    "    (\"Longevity_Biomarkers.json\", \"https://figshare.com/ndownloader/files/43612497\", \"0dbd9c3f8474dc3cd744ed38af460d75\"),\n",
    "    (\"Relation_Info.json\", \"https://figshare.com/ndownloader/files/43612506\", \"0c1fa199269adc58f64ad4d5b9fd87b9\"),\n",
    "    (\"Aging_Biomarkers.json\", \"https://figshare.com/ndownloader/files/43612503\", \"abd0eb6cb7295ae500c5d676b7797324\")\n",
    "]"
   ]
  },
  {
   "cell_type": "markdown",
   "metadata": {},
   "source": [
    "Now we can download the files. For each file in `filelist` we will:\n",
    "\n",
    "* Download the file from the URL.\n",
    "* If the download request indicates that the download is unsuccessful, print an error.\n",
    "* If the download is successfull, verify the checksum and if that is correct, write the file to disk in `datadir`"
   ]
  },
  {
   "cell_type": "code",
   "execution_count": null,
   "metadata": {},
   "outputs": [],
   "source": [
    "import requests\n",
    "import hashlib\n",
    "\n",
    "if Download:\n",
    "    for f in filelist:\n",
    "        response = requests.get(f[1])\n",
    "        file_Path = datadir + \"/\" + f[0]\n",
    "        if response.status_code != 200:\n",
    "            print('Failed to download file {f[0]} from {f[1]}')\n",
    "        else:\n",
    "            m = hashlib.md5()\n",
    "            m.update(response.content)\n",
    "            if m.hexdigest() == f[2]:\n",
    "                print(f\"SUCCESS: File {f[0]} downloaded from {f[1]} with correct checksum {f[2]}\")\n",
    "                with open(file_Path, 'wb') as file:\n",
    "                    file.write(response.content)\n",
    "            else:\n",
    "                print(f\"ERROR: File {f[0]} downloaded from {f[1]} with incorrect checksum {m.hexdigest()} (should be {f[2]})\")            \n"
   ]
  },
  {
   "cell_type": "markdown",
   "metadata": {},
   "source": [
    "## What does the data look like?\n",
    "\n",
    "Let us inspect these files. The two key files here are those containing the *entities* (nodes) and the *edges* (relations)."
   ]
  },
  {
   "cell_type": "code",
   "execution_count": null,
   "metadata": {},
   "outputs": [],
   "source": [
    "import json\n",
    "\n",
    "def load_json(fname):\n",
    "    with open(fname, 'rb') as file:\n",
    "        return json.load(file)\n",
    "\n",
    "nodes = load_json(f\"{datadir}/{filelist[0][0]}\")\n",
    "edges = load_json(f\"{datadir}/{filelist[3][0]}\")"
   ]
  },
  {
   "cell_type": "markdown",
   "metadata": {},
   "source": [
    "What are these new data structures?"
   ]
  },
  {
   "cell_type": "code",
   "execution_count": null,
   "metadata": {},
   "outputs": [],
   "source": [
    "# Placeholder"
   ]
  },
  {
   "cell_type": "markdown",
   "metadata": {},
   "source": [
    "How big are they?"
   ]
  },
  {
   "cell_type": "code",
   "execution_count": null,
   "metadata": {},
   "outputs": [],
   "source": [
    "# Placeholder"
   ]
  },
  {
   "cell_type": "markdown",
   "metadata": {},
   "source": [
    "There are several nodes in the dataset which seem somehow upsetting to OWLReady2. We need to remove the nodes and their edges."
   ]
  },
  {
   "cell_type": "code",
   "execution_count": null,
   "metadata": {},
   "outputs": [],
   "source": [
    "# Placeholder"
   ]
  },
  {
   "cell_type": "code",
   "execution_count": null,
   "metadata": {},
   "outputs": [],
   "source": [
    "# Placeholder"
   ]
  },
  {
   "cell_type": "markdown",
   "metadata": {},
   "source": [
    "Let's look at each of these in more detail. First, let's pick one of the nodes. Let's print the keys and choose one:"
   ]
  },
  {
   "cell_type": "code",
   "execution_count": null,
   "metadata": {
    "scrolled": true
   },
   "outputs": [],
   "source": [
    "# Placeholder"
   ]
  },
  {
   "cell_type": "markdown",
   "metadata": {},
   "source": [
    "Pick a random node key, say `AHR`:"
   ]
  },
  {
   "cell_type": "code",
   "execution_count": null,
   "metadata": {},
   "outputs": [],
   "source": [
    "# Placeholder"
   ]
  },
  {
   "cell_type": "markdown",
   "metadata": {},
   "source": [
    "So each node is a list of length 1. What's in that?"
   ]
  },
  {
   "cell_type": "code",
   "execution_count": null,
   "metadata": {},
   "outputs": [],
   "source": [
    "# Placeholder"
   ]
  },
  {
   "cell_type": "markdown",
   "metadata": {},
   "source": [
    "Another dictionary. Let's get the keys:"
   ]
  },
  {
   "cell_type": "code",
   "execution_count": null,
   "metadata": {},
   "outputs": [],
   "source": [
    "# Placeholder"
   ]
  },
  {
   "cell_type": "code",
   "execution_count": null,
   "metadata": {
    "scrolled": true
   },
   "outputs": [],
   "source": [
    "# Placeholder"
   ]
  },
  {
   "cell_type": "markdown",
   "metadata": {},
   "source": [
    "So what does this tell us? These are *annotations* of the node that tell us:\n",
    "* The name of the **entity** (node)\n",
    "* What the **type** of the node is (a gene, in this case)\n",
    "* The **official full name** and **alias names** of the entity.\n",
    "* A **URL** to the official record of the entity.\n",
    "* A **description** of the entity.\n",
    "\n",
    "Some entries tell us about the research papers that include information about the entity:\n",
    "\n",
    "* The **number of articles** that mention this entity\n",
    "* The **PMID** (pubmed identity) of the article that were used to get information about the entity. You can enter these numbers at [https://pubmed.ncbi.nlm.nih.gov](https://pubmed.ncbi.nlm.nih.gov) to get the papers themselves.\n",
    "* A **sentence** containing the entity name from each of the articles.\n",
    "* The **JT** (journal title) **TA** (journal title abbreviation) of each article.\n",
    "* The **IF** (impact factor) and **IF5** (five year impact factor) of each of the journals.\n",
    "* The **year** and **date** each of the articles was published.\n",
    "* Information about mutations: **mutuation position** and **mutation alleles**.\n",
    "* Some **external links** and the **MeSH ID** for the Medical Subject Headings database.\n",
    "* Whether the entity is an **aging biomarker** or a **longenvity** biomarker."
   ]
  },
  {
   "cell_type": "markdown",
   "metadata": {},
   "source": [
    "Let's now look at one of the edges:"
   ]
  },
  {
   "cell_type": "code",
   "execution_count": null,
   "metadata": {},
   "outputs": [],
   "source": [
    "# Placeholder"
   ]
  },
  {
   "cell_type": "markdown",
   "metadata": {},
   "source": [
    "Perhaps the two key properties of the edge are the\n",
    "\n",
    "* **source entity** and **target entity** which specify the *entity* property of the nodes that the edge connects. Let us check that these exist and see what they are:"
   ]
  },
  {
   "cell_type": "code",
   "execution_count": null,
   "metadata": {
    "scrolled": true
   },
   "outputs": [],
   "source": [
    "# Placeholder"
   ]
  },
  {
   "cell_type": "code",
   "execution_count": null,
   "metadata": {
    "scrolled": true
   },
   "outputs": [],
   "source": [
    "# Placeholder"
   ]
  },
  {
   "cell_type": "markdown",
   "metadata": {},
   "source": [
    "The edge also has a\n",
    "\n",
    "* **relationship**, which specifies how the two nodes are related.\n",
    "* **source** and **target** attributes, which are alternative names for the entities and which we will not use.\n",
    "* **source type** and **target type** which refer to the *type* atribute of the source and target nodes.\n",
    "* A range of attributes related to the publications in which the relationship modelled by the edge is described (**PMID**, **DP**, **TI**,**TA**, **IF**, **IF5**).\n",
    "* A list of **method**s, which we will not use."
   ]
  },
  {
   "cell_type": "markdown",
   "metadata": {},
   "source": [
    "## A deeper dive into the data\n",
    "\n",
    "Let's do a deeper dive into the data now. We should easily be able to find out what the type of entity, the type of relation, and how many of each there are. This will require us to do a full pass through the data. The edges contain all of the information we need here so we can just iterate through those.\n",
    "\n"
   ]
  },
  {
   "cell_type": "code",
   "execution_count": null,
   "metadata": {},
   "outputs": [],
   "source": [
    "# Placeholder"
   ]
  },
  {
   "cell_type": "markdown",
   "metadata": {},
   "source": [
    "How many of each type are there?"
   ]
  },
  {
   "cell_type": "code",
   "execution_count": null,
   "metadata": {},
   "outputs": [],
   "source": [
    "# Placeholder"
   ]
  },
  {
   "cell_type": "markdown",
   "metadata": {},
   "source": [
    "Let's now repeat for the edges:"
   ]
  },
  {
   "cell_type": "code",
   "execution_count": null,
   "metadata": {
    "scrolled": true
   },
   "outputs": [],
   "source": [
    "# Placeholder"
   ]
  },
  {
   "cell_type": "markdown",
   "metadata": {},
   "source": [
    "How many of each type of relation?"
   ]
  },
  {
   "cell_type": "code",
   "execution_count": null,
   "metadata": {
    "scrolled": true
   },
   "outputs": [],
   "source": [
    "# Placeholder"
   ]
  },
  {
   "cell_type": "markdown",
   "metadata": {},
   "source": [
    "Plot some graphs of these"
   ]
  },
  {
   "cell_type": "code",
   "execution_count": null,
   "metadata": {},
   "outputs": [],
   "source": [
    "# Placeholder"
   ]
  },
  {
   "cell_type": "code",
   "execution_count": null,
   "metadata": {},
   "outputs": [],
   "source": [
    "# Placeholder"
   ]
  },
  {
   "cell_type": "markdown",
   "metadata": {},
   "source": [
    "Also interesting to look at the number of times each type of node is connected to each other type of node."
   ]
  },
  {
   "cell_type": "code",
   "execution_count": null,
   "metadata": {},
   "outputs": [],
   "source": [
    "# Placeholder"
   ]
  },
  {
   "cell_type": "markdown",
   "metadata": {},
   "source": [
    "## Creating the Ontology\n",
    "\n",
    "Now we are in a position to create the ontology. A major challenge here is that we need to do this dynamically. Our approach will be to store the classes in a `dictionary` from where they can still be called.\n",
    "\n",
    "We will first create the entities."
   ]
  },
  {
   "cell_type": "code",
   "execution_count": null,
   "metadata": {},
   "outputs": [],
   "source": [
    "# Placeholder"
   ]
  },
  {
   "cell_type": "markdown",
   "metadata": {},
   "source": [
    "Now we create the relationships. For this, we need to determine the domain and range for each type of relation"
   ]
  },
  {
   "cell_type": "code",
   "execution_count": null,
   "metadata": {
    "scrolled": true
   },
   "outputs": [],
   "source": [
    "# Placeholder"
   ]
  },
  {
   "cell_type": "markdown",
   "metadata": {},
   "source": [
    "Now we have this, we can create the relations"
   ]
  },
  {
   "cell_type": "code",
   "execution_count": null,
   "metadata": {},
   "outputs": [],
   "source": [
    "# Placeholder"
   ]
  },
  {
   "cell_type": "markdown",
   "metadata": {},
   "source": [
    "Check this this looks sensible against the ones printed out above"
   ]
  },
  {
   "cell_type": "code",
   "execution_count": null,
   "metadata": {},
   "outputs": [],
   "source": [
    "# Placeholder"
   ]
  },
  {
   "cell_type": "markdown",
   "metadata": {},
   "source": [
    "Let's now populate the graph. Start by adding the Entities"
   ]
  },
  {
   "cell_type": "code",
   "execution_count": null,
   "metadata": {
    "scrolled": true
   },
   "outputs": [],
   "source": [
    "# Placeholder"
   ]
  },
  {
   "cell_type": "markdown",
   "metadata": {},
   "source": [
    "Now the edges"
   ]
  },
  {
   "cell_type": "code",
   "execution_count": null,
   "metadata": {},
   "outputs": [],
   "source": [
    "# Placeholder"
   ]
  },
  {
   "cell_type": "markdown",
   "metadata": {},
   "source": [
    "Get the edges for one node."
   ]
  },
  {
   "cell_type": "code",
   "execution_count": null,
   "metadata": {},
   "outputs": [],
   "source": [
    "# Placeholder"
   ]
  },
  {
   "cell_type": "markdown",
   "metadata": {},
   "source": [
    "Which nodes has the most connections from it?\n",
    "Which node has the most connections to it?"
   ]
  },
  {
   "cell_type": "code",
   "execution_count": null,
   "metadata": {},
   "outputs": [],
   "source": [
    "# Placeholder"
   ]
  },
  {
   "cell_type": "code",
   "execution_count": null,
   "metadata": {},
   "outputs": [],
   "source": [
    "# Placeholder"
   ]
  }
 ],
 "metadata": {
  "kernelspec": {
   "display_name": "Python 3",
   "language": "python",
   "name": "python3"
  },
  "language_info": {
   "codemirror_mode": {
    "name": "ipython",
    "version": 3
   },
   "file_extension": ".py",
   "mimetype": "text/x-python",
   "name": "python",
   "nbconvert_exporter": "python",
   "pygments_lexer": "ipython3",
   "version": "3.9.6"
  }
 },
 "nbformat": 4,
 "nbformat_minor": 4
}