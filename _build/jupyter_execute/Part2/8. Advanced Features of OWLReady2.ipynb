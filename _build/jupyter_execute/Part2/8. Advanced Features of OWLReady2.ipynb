{
 "cells": [
  {
   "cell_type": "markdown",
   "metadata": {},
   "source": [
    "# Advanced Features of OWLReady2"
   ]
  },
  {
   "cell_type": "markdown",
   "metadata": {},
   "source": [
    "Add in the following:\n",
    "\n",
    "* Inverse relations\n",
    "* Disjoint classes\n",
    "* The reasoner\n",
    "* Restriction (one-of)\n",
    "* Indirect relations"
   ]
  }
 ],
 "metadata": {
  "language_info": {
   "name": "python"
  }
 },
 "nbformat": 4,
 "nbformat_minor": 2
}