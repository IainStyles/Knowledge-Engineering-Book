{
 "cells": [
  {
   "cell_type": "markdown",
   "metadata": {},
   "source": [
    "# Exercises 5: Using Kanren to Solve Logic Problems\n",
    "\n",
    "## \n",
    "\n",
    "Use Kanren to solve the following logic puzzle:\n",
    "\n",
    "Anjali, Brian, and Chen graduated from QUB on different days this summer. One of them studied French, one studied Geography, one read History. One scored a good 60%, one acheived a very good 65%, and the other an excellent 70%. \n",
    "\n",
    "We have acquired some knowledge about who studied what and what their marks were. However, our knowledge is incomplete. Here is what we know:\n",
    "\n",
    "1. The person who studied French scored 65%.\n",
    "2. Anjali studied Geography.\n",
    "3. Brian's mark was 60%.\n",
    "\n",
    "Who studied what, and what were their marks?"
   ]
  },
  {
   "cell_type": "code",
   "execution_count": 51,
   "metadata": {},
   "outputs": [
    {
     "data": {
      "text/plain": [
       "((('Chen', 'French', '65%'),\n",
       "  ('Anjali', 'Geography', '70'),\n",
       "  ('Brian', 'History', '60')),\n",
       " (('Anjali', 'Geography', '70'),\n",
       "  ('Chen', 'French', '65%'),\n",
       "  ('Brian', 'History', '60')),\n",
       " (('Anjali', 'Geography', '70'),\n",
       "  ('Brian', 'History', '60'),\n",
       "  ('Chen', 'French', '65%')),\n",
       " (('Chen', 'French', '65%'),\n",
       "  ('Brian', 'History', '60'),\n",
       "  ('Anjali', 'Geography', '70')),\n",
       " (('Brian', 'History', '60'),\n",
       "  ('Chen', 'French', '65%'),\n",
       "  ('Anjali', 'Geography', '70')),\n",
       " (('Brian', 'History', '60'),\n",
       "  ('Anjali', 'Geography', '70'),\n",
       "  ('Chen', 'French', '65%')))"
      ]
     },
     "execution_count": 51,
     "metadata": {},
     "output_type": "execute_result"
    }
   ],
   "source": [
    "from kanren import run, var, membero, eq, lall, lany\n",
    "\n",
    "graduations = var()\n",
    "\n",
    "rules = lall(\n",
    "    (eq, (var(), var(), var()), graduations),\n",
    "    (membero, (var(), \"French\", \"65%\"), graduations),\n",
    "    (membero, (\"Anjali\", \"Geography\", var()), graduations),\n",
    "    (membero, (\"Brian\", var(), \"60\"), graduations),\n",
    "    (membero, (var(), var(), \"70\"), graduations),\n",
    "    (membero, (\"Chen\", var(), var()), graduations),\n",
    "    (membero, (var(), \"History\", var()), graduations),\n",
    ")\n",
    "\n",
    "run(0, graduations, rules)"
   ]
  },
  {
   "cell_type": "markdown",
   "metadata": {},
   "source": [
    "## A Royal Flush\n",
    "\n",
    "Given the following extract from a family tree, write functions that uses Kanren to\n",
    "\n",
    "1. Find all siblings (brothers and sisters) of a given individual.\n",
    "1. Find all cousins of a given individual (cousins have the same grandparents).\n",
    "1. Find all ancestors of a given individual.\n"
   ]
  },
  {
   "cell_type": "code",
   "execution_count": 1,
   "metadata": {},
   "outputs": [],
   "source": [
    "from kanren import Relation, facts\n",
    "Parent = Relation()\n",
    "facts(Parent, (\"Elizabeth\", \"Charles\"), (\"Phillip\", \"Charles\"), (\"Charles\", \"William\"), (\"Charles\", \"Harry\"), (\"Diana\", \"William\"), (\"Diana\", \"Harry\"), (\"William\",\"George\"), (\"Kate\",\"George\"), (\"William\",\"Charlotte\"), (\"Kate\",\"Charlotte\"), (\"William\",\"Louis\"), (\"Kate\",\"Louis\"), (\"Harry\",\"Archie\"), (\"Megan\",\"Archie\"), (\"Harry\",\"Lillibet\"), (\"Megan\",\"Lillibet\"), (\"Elizabeth\", \"Anne\"), (\"Phillip\", \"Anne\"), (\"Anne\",\"Peter\"), (\"Mark\",\"Peter\"), (\"Anne\",\"Zara\"), (\"Mark\",\"Zara\"), (\"Peter\",\"Savannah\"), (\"Autumn\",\"Savannah\"), (\"Peter\",\"Isla\"), (\"Autumn\",\"Isla\"), (\"Zara\",\"Mia\"), (\"Mike\",\"Mia\"), (\"Zara\",\"Lena\"), (\"Mike\",\"Lena\"), (\"Zara\",\"Lucas\"), (\"Mike\",\"Lucas\"), (\"Elizabeth\", \"Andrew\"), (\"Phillip\", \"Andrew\"), (\"Andrew\",\"Eugenie\"), (\"Sarah\",\"Eugenie\"), (\"Andrew\",\"Beatrice\"), (\"Sarah\",\"Beatrice\"), (\"Beatrice\",\"Sienna\"), (\"Edoardo\",\"Sienna\"), (\"Eugenie\",\"August\"), (\"Jack\",\"August\"), (\"Eugenie\",\"Ernest\"), (\"Jack\",\"Ernest\"), (\"Elizabeth\", \"Edward\"), (\"Phillip\", \"Edward\"), (\"Edward\",\"James\"), (\"Sophie\",\"James\"), (\"Edward\",\"Louise\"), (\"Sophie\",\"Louise\"))"
   ]
  },
  {
   "cell_type": "code",
   "execution_count": 14,
   "metadata": {},
   "outputs": [
    {
     "data": {
      "text/plain": [
       "{'Lillibet'}"
      ]
     },
     "execution_count": 14,
     "metadata": {},
     "output_type": "execute_result"
    }
   ],
   "source": [
    "from kanren import vars, run\n",
    "def siblings(person):\n",
    "    x, y = vars(2)\n",
    "    siblings = set(run(0, x, Parent(y,x), Parent(y,person)))\n",
    "    siblings.remove(person)\n",
    "    return set(siblings)\n",
    "\n",
    "siblings(\"Archie\")"
   ]
  },
  {
   "cell_type": "code",
   "execution_count": 17,
   "metadata": {},
   "outputs": [
    {
     "data": {
      "text/plain": [
       "{'Archie', 'Lillibet'}"
      ]
     },
     "execution_count": 17,
     "metadata": {},
     "output_type": "execute_result"
    }
   ],
   "source": [
    "def cousins(person):\n",
    "    w,x,y,z = vars(4)\n",
    "    generation = set(run(0, w, Parent(x,w), Parent(z,x), Parent(z,y), Parent(y,person)))\n",
    "    return set(generation) - set(siblings(person)) - set((person,))\n",
    "\n",
    "cousins(\"Louis\")"
   ]
  },
  {
   "cell_type": "code",
   "execution_count": 13,
   "metadata": {},
   "outputs": [
    {
     "name": "stdout",
     "output_type": "stream",
     "text": [
      "['Lillibet', 'Harry', 'Diana', 'Charles', 'Elizabeth', 'Phillip', 'Megan']\n"
     ]
    }
   ],
   "source": [
    "from kanren import var\n",
    "def ancestors(person, lst = []):\n",
    "    x = var()\n",
    "    lst.append(person)\n",
    "    parents = run(0, x, Parent(x,person))\n",
    "    if len(parents) == 0:\n",
    "        return None\n",
    "    else:\n",
    "        for p in parents:\n",
    "            ancestors(p)\n",
    "        return lst\n",
    "\n",
    "print(ancestors(\"Lillibet\"))"
   ]
  },
  {
   "cell_type": "markdown",
   "metadata": {},
   "source": [
    "## Einstein's Riddle\n",
    "\n",
    "Write a Kanren program to solve Einsteins riddle. There are five houses in a row. Each house is a different colour and is owned by a person of a different nationality. Each person keeps a different animal as a pet, prefers a different drink, and smokes a different brand of cigarette. Fifteen facts are known about the people and their houses:\n",
    "\n",
    "1. There are five houses.\n",
    "1. The Englishman lives in the red house.\n",
    "1. The Spaniard owns the dog.\n",
    "1. Coffee is drunk in the green house.\n",
    "1. The Ukrainian drinks tea.\n",
    "1. The green house is immediately to the right of the ivory house.\n",
    "1. The Old Gold smoker owns snails.\n",
    "1. Kools are smoked in the yellow house.\n",
    "1. Milk is drunk in the middle house.\n",
    "1. The Norwegian lives in the first house.\n",
    "1. The man who smokes Chesterfields lives in the house next to the man with the fox.\n",
    "1. Kools are smoked in the house next to the house where the horse is kept.\n",
    "1. The Lucky Strike smoker drinks orange juice.\n",
    "1. The Japanese smokes Parliaments.\n",
    "1. The Norwegian lives next to the blue house.\n",
    " \n",
    "Who drinks water? Who owns the zebra?\n",
    "\n",
    "### Hints\n",
    "* You will need to write \"helper\" functions to construct the goals corresponding to left/next to/right. You may find the `zip` function helpful.\n",
    "* You can use the ordering of the solutions to represent the order of the houses."
   ]
  },
  {
   "cell_type": "code",
   "execution_count": 25,
   "metadata": {},
   "outputs": [
    {
     "name": "stdout",
     "output_type": "stream",
     "text": [
      "Help on class zip in module builtins:\n",
      "\n",
      "class zip(object)\n",
      " |  zip(*iterables) --> A zip object yielding tuples until an input is exhausted.\n",
      " |  \n",
      " |     >>> list(zip('abcdefg', range(3), range(4)))\n",
      " |     [('a', 0, 0), ('b', 1, 1), ('c', 2, 2)]\n",
      " |  \n",
      " |  The zip object yields n-length tuples, where n is the number of iterables\n",
      " |  passed as positional arguments to zip().  The i-th element in every tuple\n",
      " |  comes from the i-th iterable argument to zip().  This continues until the\n",
      " |  shortest argument is exhausted.\n",
      " |  \n",
      " |  Methods defined here:\n",
      " |  \n",
      " |  __getattribute__(self, name, /)\n",
      " |      Return getattr(self, name).\n",
      " |  \n",
      " |  __iter__(self, /)\n",
      " |      Implement iter(self).\n",
      " |  \n",
      " |  __next__(self, /)\n",
      " |      Implement next(self).\n",
      " |  \n",
      " |  __reduce__(...)\n",
      " |      Return state information for pickling.\n",
      " |  \n",
      " |  ----------------------------------------------------------------------\n",
      " |  Static methods defined here:\n",
      " |  \n",
      " |  __new__(*args, **kwargs) from builtins.type\n",
      " |      Create and return a new object.  See help(type) for accurate signature.\n",
      "\n"
     ]
    }
   ],
   "source": [
    "help(zip)"
   ]
  },
  {
   "cell_type": "code",
   "execution_count": null,
   "metadata": {},
   "outputs": [
    {
     "name": "stdout",
     "output_type": "stream",
     "text": [
      "('Norwegian', 'Fox', 'Water', 'Kools', 'Yellow')\n",
      "('Ukrainian', 'Horse', 'Tea', 'Chesterfields', 'Blue')\n",
      "('Englishman', 'Snails', 'Milk', 'Old Gold', 'Red')\n",
      "('Spaniard', 'Dog', 'Orange Juice', 'Lucky Strike', 'Ivory')\n",
      "('Japanese', 'Zebra', 'Coffee', 'Parliaments', 'Green')\n"
     ]
    }
   ],
   "source": [
    "from kanren import var, lall, lany, membero, eq, run\n",
    "\n",
    "def leftof(x, y, lst):\n",
    "    return membero((x, y), zip(lst, lst[1:]))\n",
    "\n",
    "def nextto(x,y,lst):\n",
    "    return lany(leftof(x,y,lst),leftof(y,x,lst))\n",
    "\n",
    "houses = var()\n",
    "\n",
    "rules = lall(\n",
    "    (eq, (var(), var(), var(), var(), var()), houses),\n",
    "    (membero, (\"Englishman\", var(), var(), var(), \"Red\"), houses),\n",
    "    (membero, (\"Spaniard\", \"Dog\", var(), var(), var()), houses),\n",
    "    (membero, (var(), var(), \"Coffee\", var(), \"Green\"), houses),\n",
    "    (membero, (\"Ukrainian\", var(), \"Tea\", var(), var()), houses),\n",
    "    (leftof, (var(),var(),var(),var(),\"Ivory\"), (var(),var(),var(),var(),\"Green\"), houses),\n",
    "    (membero, (var(), \"Snails\", var(), \"Old Gold\", var()), houses),\n",
    "    (membero, (var(), var(), var(), \"Kools\", \"Yellow\"), houses),\n",
    "    (eq, (var(),var(),(var(),var(),\"Milk\",var(),var()),var(),var()), houses),\n",
    "    (eq, ((\"Norwegian\",var(),var(),var(),var()),var(),var(),var(),var()), houses),\n",
    "    (nextto, (var(),var(),var(),\"Chesterfields\",var()), (var(),\"Fox\",var(),var(),var()), houses),\n",
    "    (nextto, (var(),var(),var(),\"Kools\",var()), (var(),\"Horse\",var(),var(),var()), houses),\n",
    "    (membero, (var(), var(), var(), \"Kools\", \"Yellow\"), houses),\n",
    "    (membero, (\"Japanese\", var(), var(), \"Parliaments\", var()), houses),\n",
    "    (membero, (var(), var(), \"Orange Juice\", \"Lucky Strike\", var()), houses),\n",
    "    (nextto, (\"Norwegian\",var(),var(),var(),var()), (var(),var(),var(),var(),\"Blue\"), houses),\n",
    "    (membero, (var(), var(), \"Water\", var(), var()), houses),\n",
    "    (membero, (var(), \"Zebra\", var(), var(), var()), houses)\n",
    ")\n",
    "\n",
    "solution = run(0, houses, rules)\n",
    "for s in solution:\n",
    "    for i in s:\n",
    "        print(i)"
   ]
  }
 ],
 "metadata": {
  "kernelspec": {
   "display_name": "Python 3",
   "language": "python",
   "name": "python3"
  },
  "language_info": {
   "codemirror_mode": {
    "name": "ipython",
    "version": 3
   },
   "file_extension": ".py",
   "mimetype": "text/x-python",
   "name": "python",
   "nbconvert_exporter": "python",
   "pygments_lexer": "ipython3",
   "version": "3.9.6"
  }
 },
 "nbformat": 4,
 "nbformat_minor": 2
}
