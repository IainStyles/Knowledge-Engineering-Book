{
 "cells": [
  {
   "cell_type": "markdown",
   "metadata": {},
   "source": [
    "# Exercises 5: Using Kanren to Solve Logic Problems\n",
    "\n",
    "## \n",
    "\n",
    "Use Kanren to solve the following logic puzzle:\n",
    "\n",
    "Anjali, Brian, and Chen graduated from QUB on different days this summer. One of them studied French, one studied Geography, one read History. One scored a good 60%, one acheived a very good 65%, and the other an excellent 70%. \n",
    "\n",
    "We have acquired some knowledge about who studied what and what their marks were. However, our knowledge is incomplete. Here is what we know:\n",
    "\n",
    "1. The person who studied French scored 65%.\n",
    "2. Anjali studied Geography.\n",
    "3. Brian's mark was 60%.\n",
    "\n",
    "Who studied what, and what were their marks?"
   ]
  },
  {
   "cell_type": "code",
   "execution_count": null,
   "metadata": {},
   "outputs": [],
   "source": [
    "# Placeholder for code"
   ]
  },
  {
   "cell_type": "markdown",
   "metadata": {},
   "source": [
    "## A Royal Flush\n",
    "\n",
    "Given the following extract from a family tree, write functions that uses Kanren to\n",
    "\n",
    "1. Find all siblings (brothers and sisters) of a given individual.\n",
    "1. Find all cousins of a given individual (cousins have the same grandparents).\n",
    "1. Find all ancestors of a given individual.\n"
   ]
  },
  {
   "cell_type": "code",
   "execution_count": null,
   "metadata": {},
   "outputs": [],
   "source": [
    "# Placeholder for code"
   ]
  },
  {
   "cell_type": "code",
   "execution_count": null,
   "metadata": {},
   "outputs": [],
   "source": [
    "# Placeholder for code"
   ]
  },
  {
   "cell_type": "code",
   "execution_count": null,
   "metadata": {},
   "outputs": [],
   "source": [
    "# Placeholder for code"
   ]
  },
  {
   "cell_type": "markdown",
   "metadata": {},
   "source": [
    "## Einstein's Riddle\n",
    "\n",
    "Write a Kanren program to solve Einsteins riddle. There are five houses in a row. Each house is a different colour and is owned by a person of a different nationality. Each person keeps a different animal as a pet, prefers a different drink, and smokes a different brand of cigarette. Fifteen facts are known about the people and their houses:\n",
    "\n",
    "1. There are five houses.\n",
    "1. The Englishman lives in the red house.\n",
    "1. The Spaniard owns the dog.\n",
    "1. Coffee is drunk in the green house.\n",
    "1. The Ukrainian drinks tea.\n",
    "1. The green house is immediately to the right of the ivory house.\n",
    "1. The Old Gold smoker owns snails.\n",
    "1. Kools are smoked in the yellow house.\n",
    "1. Milk is drunk in the middle house.\n",
    "1. The Norwegian lives in the first house.\n",
    "1. The man who smokes Chesterfields lives in the house next to the man with the fox.\n",
    "1. Kools are smoked in the house next to the house where the horse is kept.\n",
    "1. The Lucky Strike smoker drinks orange juice.\n",
    "1. The Japanese smokes Parliaments.\n",
    "1. The Norwegian lives next to the blue house.\n",
    " \n",
    "Who drinks water? Who owns the zebra?\n",
    "\n",
    "### Hints\n",
    "* You will need to write \"helper\" functions to construct the goals corresponding to left/next to/right. You may find the `zip` function helpful.\n",
    "* You can use the ordering of the solutions to represent the order of the houses."
   ]
  },
  {
   "cell_type": "code",
   "execution_count": null,
   "metadata": {},
   "outputs": [],
   "source": [
    "help(zip)"
   ]
  },
  {
   "cell_type": "code",
   "execution_count": null,
   "metadata": {},
   "outputs": [],
   "source": [
    "# Placeholder for code"
   ]
  }
 ],
 "metadata": {
  "kernelspec": {
   "display_name": "Python 3",
   "language": "python",
   "name": "python3"
  },
  "language_info": {
   "codemirror_mode": {
    "name": "ipython",
    "version": 3
   },
   "file_extension": ".py",
   "mimetype": "text/x-python",
   "name": "python",
   "nbconvert_exporter": "python",
   "pygments_lexer": "ipython3",
   "version": "3.9.6"
  }
 },
 "nbformat": 4,
 "nbformat_minor": 2
}
