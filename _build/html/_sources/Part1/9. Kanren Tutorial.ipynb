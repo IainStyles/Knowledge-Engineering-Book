{
 "cells": [
  {
   "cell_type": "markdown",
   "id": "89720d78-1197-433a-87fe-e074d2738c65",
   "metadata": {},
   "source": [
    "# Logic Programming in Python\n",
    "\n",
    "We have been working through a number of examples of logic problems by hand. Such exercises can be fun and rewarding, and are certainly useful for developing our understanding. However, it is clearly not an approach that scales well and we would like to use the computer to solve logic problems.\n",
    "\n",
    "The history of solving logic problems with the computer has a long and rich history. Noting that the earliest attempts to create AI systems were rooted in logic, and especially in **symbol manipulation**, we can look back on the history of computing and see major advances that were motivated by this problem. For example, the LISP programming language was specifically designed for symbol manipulation and introduced many innovations in programming languages including garbage collection, support for recursion, first-class functions, and proper conditional expressions not requiring a `goto`. It has had major influence on both AI and on programming language design. Prolog embodies the notions and concepts that we are studying here even more explicitly.\n",
    "\n",
    "But we are not using LISP or Prolog; we are using Python, and Python does not have any in-built symbolic manipulation or logical inference capabilities (it does include simple logical operators but these are of limited utility for our purposes. We must therefore use a library.\n",
    "\n",
    "I have not found a library that I am particularly satisfied with. The best I have found is `kanren`, and that is what we shall use. It is not the most intuitive of packages, and the documentation has room for improvement though, so we shall have to develop our understanding slowly.\n",
    "\n",
    "Our first task is to install kanren. The version of kanren we shall use here is 0.2.3 and this can be found on [PyPI](https://pypi.org/project/kanren/). Kanren does not seem to be available in the Anaconda distribution, unfortunately but it is available via Pip. A possible alternative is `minikanren` which is available in Anaconda; however, I was not able to get this to work.\n",
    "\n",
    "Let's first install the package. Before beginning, you may wish to create a virtual environment for this module which will create a separate environment to keep it cleanly separated from other modules and thus avoid potential library version conflicts.\n",
    "\n",
    "* Create a folder for the course\n",
    "* Open a terminal, navigate to the folder, and enter the command\n",
    "```\n",
    "python3 -m venv ./myenv\n",
    "```\n",
    "This creates a new folder `myenv` (you can call it what you want) that will store a local python installation.\n",
    "* Activate the local installation with `myenv\\bin/activate.bat` (Windows) or `source myenv/bin/activate` (Mac/Linux).\n",
    "* Any libraries that you install whilst an environment is activated will be installed into the environment only, and not into the global environment.\n",
    "* When you are finished, you can deactivate the environment with `deactivate`.\n",
    "\n",
    "Now you have an environment for the module, we can install libraries into it. For now, we only need the `kanren` module"
   ]
  },
  {
   "cell_type": "code",
   "execution_count": 2,
   "id": "fc35b452-853c-4841-9870-49c446e16f80",
   "metadata": {},
   "outputs": [
    {
     "name": "stdout",
     "output_type": "stream",
     "text": [
      "Defaulting to user installation because normal site-packages is not writeable\n",
      "Requirement already satisfied: kanren in /Users/s3057867/Library/Python/3.9/lib/python/site-packages (0.2.3)\n",
      "Requirement already satisfied: toolz in /Users/s3057867/Library/Python/3.9/lib/python/site-packages (from kanren) (0.12.1)\n",
      "Requirement already satisfied: multipledispatch in /Users/s3057867/Library/Python/3.9/lib/python/site-packages (from kanren) (1.0.0)\n",
      "Requirement already satisfied: unification in /Users/s3057867/Library/Python/3.9/lib/python/site-packages (from kanren) (0.2.2)\n",
      "\n",
      "\u001b[1m[\u001b[0m\u001b[34;49mnotice\u001b[0m\u001b[1;39;49m]\u001b[0m\u001b[39;49m A new release of pip is available: \u001b[0m\u001b[31;49m24.1.2\u001b[0m\u001b[39;49m -> \u001b[0m\u001b[32;49m24.3.1\u001b[0m\n",
      "\u001b[1m[\u001b[0m\u001b[34;49mnotice\u001b[0m\u001b[1;39;49m]\u001b[0m\u001b[39;49m To update, run: \u001b[0m\u001b[32;49m/Library/Developer/CommandLineTools/usr/bin/python3 -m pip install --upgrade pip\u001b[0m\n"
     ]
    }
   ],
   "source": [
    "!pip3 install kanren"
   ]
  },
  {
   "cell_type": "markdown",
   "id": "2f4d1da3-1182-44dc-8ecd-a17baf4f0fd7",
   "metadata": {},
   "source": [
    "## Solving basic logic problems in Kanren\n",
    "\n",
    "One of the most basic notions in kanren is the **logic variable**. These can be created very easily. The following cell imports the command for creating a logic variable and create a new logic variable called `x`."
   ]
  },
  {
   "cell_type": "code",
   "execution_count": 3,
   "id": "ffb125e6-e14d-4334-8570-41b9d26a0643",
   "metadata": {},
   "outputs": [],
   "source": [
    "from kanren import var\n",
    "x = var()"
   ]
  },
  {
   "cell_type": "markdown",
   "id": "fb915b85-d6d4-4f96-9d29-0e68475977c6",
   "metadata": {},
   "source": [
    "This code doesn't do anything tangible, but it does set up the machinery that we need to solve problems. Here is one of the very simplest problems we can solve using logic programming:\n",
    "* Find one number $x$ such that $x==5$."
   ]
  },
  {
   "cell_type": "code",
   "execution_count": 4,
   "id": "0cef5bc1-9315-4df3-ac3c-47b1c08f5656",
   "metadata": {},
   "outputs": [
    {
     "data": {
      "text/plain": [
       "(5,)"
      ]
     },
     "execution_count": 4,
     "metadata": {},
     "output_type": "execute_result"
    }
   ],
   "source": [
    "from kanren import eq, run\n",
    "run(1, x, eq(x,5))"
   ]
  },
  {
   "cell_type": "markdown",
   "id": "7a8a3be4-4c82-43d4-a438-386b44dde245",
   "metadata": {},
   "source": [
    "In Kanren, no computations are done until the `run` function is called. `run` takes three or more arguments:\n",
    "* The number of results to return (0: all of them), in this example there is only one result.\n",
    "* The logic variable for which we are trying to solve (`x` in this case)\n",
    "* One or more **goals**. `eq` is an example of a *goal constructor*.\n",
    "\n",
    "Here is a more complex example that uses two logic variables and two goals. Can you understand what this code does and how it does it?"
   ]
  },
  {
   "cell_type": "code",
   "execution_count": 5,
   "id": "9d077278-a135-4f44-8f00-c0f16d1cef11",
   "metadata": {},
   "outputs": [
    {
     "data": {
      "text/plain": [
       "(7,)"
      ]
     },
     "execution_count": 5,
     "metadata": {},
     "output_type": "execute_result"
    }
   ],
   "source": [
    "from kanren import vars\n",
    "y, z = vars(2)\n",
    "run(1, x, eq(x,z), eq(z,7))"
   ]
  },
  {
   "cell_type": "markdown",
   "id": "073b7b92-66aa-44c7-b102-576414f5a6ff",
   "metadata": {},
   "source": [
    "Another common goal constructor is `membero` which looks to see whether an item belongs to some collection. For example, the following example returns one (1) member `x` from the collection `mylist`:"
   ]
  },
  {
   "cell_type": "code",
   "execution_count": 6,
   "id": "5db6191b-3dcd-419a-b708-62f3308646d1",
   "metadata": {},
   "outputs": [
    {
     "data": {
      "text/plain": [
       "(1,)"
      ]
     },
     "execution_count": 6,
     "metadata": {},
     "output_type": "execute_result"
    }
   ],
   "source": [
    "from kanren import membero\n",
    "mylist = [1,2,3,2,4,2,5]\n",
    "run(1,x,membero(x,mylist))\n"
   ]
  },
  {
   "cell_type": "markdown",
   "id": "8d70429b-21e0-4255-bc70-a148b694df0b",
   "metadata": {},
   "source": [
    "We can modify this easily to return two members of the collection:"
   ]
  },
  {
   "cell_type": "code",
   "execution_count": 7,
   "id": "dfb5fa30-b003-4906-97b0-2de1671bbcb0",
   "metadata": {},
   "outputs": [
    {
     "data": {
      "text/plain": [
       "(1, 2)"
      ]
     },
     "execution_count": 7,
     "metadata": {},
     "output_type": "execute_result"
    }
   ],
   "source": [
    "run(2,x,membero(x,mylist))"
   ]
  },
  {
   "cell_type": "markdown",
   "id": "af8b1764-c3d3-4f28-a78f-b4fcb993f7d1",
   "metadata": {},
   "source": [
    "or three members of the collection:"
   ]
  },
  {
   "cell_type": "code",
   "execution_count": 8,
   "id": "63fc4a10-d939-4e4b-99b6-028471059d62",
   "metadata": {},
   "outputs": [
    {
     "data": {
      "text/plain": [
       "(1, 2, 3)"
      ]
     },
     "execution_count": 8,
     "metadata": {},
     "output_type": "execute_result"
    }
   ],
   "source": [
    "run(3,x,membero(x,mylist))"
   ]
  },
  {
   "cell_type": "markdown",
   "id": "e3b8411c-b069-4cf7-bffd-0d00ebb345ed",
   "metadata": {},
   "source": [
    "or **all** members of the collection"
   ]
  },
  {
   "cell_type": "code",
   "execution_count": 9,
   "id": "f028af67-031d-4b1d-910a-2e87a5cffd42",
   "metadata": {},
   "outputs": [
    {
     "data": {
      "text/plain": [
       "(1, 2, 3, 4, 5)"
      ]
     },
     "execution_count": 9,
     "metadata": {},
     "output_type": "execute_result"
    }
   ],
   "source": [
    "run(0,x,membero(x,mylist))"
   ]
  },
  {
   "cell_type": "markdown",
   "id": "4a33f508-0f6f-4f7e-8a17-3fab30a1cbfd",
   "metadata": {},
   "source": [
    "## Relationships in Kanren\n",
    "\n",
    "Kanren supports the definition of *relations* between things, and inference over those relations. "
   ]
  },
  {
   "cell_type": "code",
   "execution_count": 10,
   "id": "e42b8488-bbd0-45a1-8d1c-dd579fb68c63",
   "metadata": {},
   "outputs": [],
   "source": [
    "from kanren import Relation, facts\n",
    "bigger = Relation()\n",
    "facts(bigger, (\"Elephant\", \"Hippopotamus\"),\n",
    "      (\"Hippopotamus\", \"Horse\"),\n",
    "      (\"Elephant\", \"Horse\"),\n",
    "      (\"Horse\", \"Dog\"))"
   ]
  },
  {
   "cell_type": "markdown",
   "id": "263a9c80-262d-4529-95cd-9cfbdf4b6dbe",
   "metadata": {},
   "source": [
    "In terms of the logic operators we have been studying, a `Relation` in Kanren is essentially a material implication. A Kanren relation `bigger(\"Elephant\", \"Horse\")` is roughly equivalent to \n",
    "`if Elephant(x) then x is bigger than Horse` and `if Horse(x) then Elephant is bigger than x`"
   ]
  },
  {
   "cell_type": "code",
   "execution_count": 11,
   "id": "288766a2-6a2b-4ea6-8687-adaa73fb30e1",
   "metadata": {},
   "outputs": [
    {
     "data": {
      "text/plain": [
       "('Elephant',)"
      ]
     },
     "execution_count": 11,
     "metadata": {},
     "output_type": "execute_result"
    }
   ],
   "source": [
    "run(1, x, bigger(x,\"Hippopotamus\"))"
   ]
  },
  {
   "cell_type": "code",
   "execution_count": 12,
   "id": "df615e3c-5350-4b36-b08e-ffc83704166c",
   "metadata": {},
   "outputs": [
    {
     "data": {
      "text/plain": [
       "('Hippopotamus', 'Elephant')"
      ]
     },
     "execution_count": 12,
     "metadata": {},
     "output_type": "execute_result"
    }
   ],
   "source": [
    "run(2, x, bigger(x,\"Horse\"))"
   ]
  },
  {
   "cell_type": "markdown",
   "id": "718346fc-6781-43b1-a61f-f289c9b83888",
   "metadata": {},
   "source": [
    "However, the rules aren't chained together so when we ask for animals bigger than a dog:"
   ]
  },
  {
   "cell_type": "code",
   "execution_count": 13,
   "id": "24632d2f-a075-4899-acd3-9170dcb7d413",
   "metadata": {},
   "outputs": [
    {
     "data": {
      "text/plain": [
       "('Horse',)"
      ]
     },
     "execution_count": 13,
     "metadata": {},
     "output_type": "execute_result"
    }
   ],
   "source": [
    "run(0, x, bigger(x,\"Dog\"))"
   ]
  },
  {
   "cell_type": "markdown",
   "id": "796a97a4-250a-4b15-85a8-770c82b1b38a",
   "metadata": {},
   "source": [
    "we only get \"Horse\". However, as with the earlier examples, we can build compound queries:"
   ]
  },
  {
   "cell_type": "code",
   "execution_count": null,
   "id": "f31ea522-ab65-4e26-bf4e-e80d382b142d",
   "metadata": {},
   "outputs": [],
   "source": []
  },
  {
   "cell_type": "code",
   "execution_count": 14,
   "id": "91033577-8030-4efd-ae40-3365e90e8744",
   "metadata": {},
   "outputs": [
    {
     "data": {
      "text/plain": [
       "('Hippopotamus', 'Elephant')"
      ]
     },
     "execution_count": 14,
     "metadata": {},
     "output_type": "execute_result"
    }
   ],
   "source": [
    "run(0, x, bigger(y,\"Dog\"), bigger(x,y))"
   ]
  },
  {
   "cell_type": "markdown",
   "id": "0aa8ef78-918e-4255-b0fc-f6ad8ef2f5f4",
   "metadata": {},
   "source": [
    "This would allow us to write a recursive query that found all animals bigger than a dog:"
   ]
  },
  {
   "cell_type": "markdown",
   "id": "2d1c448f-4835-4ac6-8f5d-6e72d895906c",
   "metadata": {},
   "source": [
    "## Other types of Goal Constructor\n",
    "There are several other type of goal constructor available\n",
    "* `lall` means that all specified goals have to be True (logical AND)\n",
    "* `lany` means that any of the specified goals have to be True (logical OR)\n",
    "\n",
    "So to get an animal that is bigger that a Hipppotamus or bigger than a Horse:"
   ]
  },
  {
   "cell_type": "code",
   "execution_count": 15,
   "id": "8f0d323c-1ab9-4788-b66e-d8536f92223a",
   "metadata": {},
   "outputs": [
    {
     "data": {
      "text/plain": [
       "('Elephant', 'Hippopotamus')"
      ]
     },
     "execution_count": 15,
     "metadata": {},
     "output_type": "execute_result"
    }
   ],
   "source": [
    "from kanren import lany, lall\n",
    "run(0, x, lany(bigger(x,\"Hippopotamus\"), bigger(x,\"Horse\")))"
   ]
  },
  {
   "cell_type": "markdown",
   "id": "5515e7ef-20f4-4749-95cd-43f5cd262b28",
   "metadata": {},
   "source": [
    "An animal that is bigger than an Horse and bigger than a Hippopotamus:"
   ]
  },
  {
   "cell_type": "code",
   "execution_count": 16,
   "id": "78f89767-787d-40f7-9ab2-0c41c4f54ec1",
   "metadata": {},
   "outputs": [
    {
     "data": {
      "text/plain": [
       "('Elephant',)"
      ]
     },
     "execution_count": 16,
     "metadata": {},
     "output_type": "execute_result"
    }
   ],
   "source": [
    "run(0, x, lall(bigger(x,\"Hippopotamus\"), bigger(x,\"Horse\")))"
   ]
  },
  {
   "cell_type": "markdown",
   "id": "c5af9830-3e38-410c-acbd-59803afb2807",
   "metadata": {},
   "source": [
    "Finally, if we wanted to find and animal that is bigger than a horse and smaller than elephant, or smaller than a horse we can use `conde`, which provides logical `AND-OR`."
   ]
  },
  {
   "cell_type": "code",
   "execution_count": 17,
   "id": "184fee52-7c26-4e23-a283-2642081e41d0",
   "metadata": {},
   "outputs": [
    {
     "data": {
      "text/plain": [
       "('Hippopotamus', 'Dog')"
      ]
     },
     "execution_count": 17,
     "metadata": {},
     "output_type": "execute_result"
    }
   ],
   "source": [
    "from kanren import conde\n",
    "run(0, x, conde(\n",
    "    (bigger(x,\"Horse\"), bigger(\"Elephant\",x)),\n",
    "    (bigger(\"Horse\",x),))\n",
    "   )"
   ]
  },
  {
   "cell_type": "markdown",
   "id": "b900be13-0909-4442-b2df-bb3d99ee67b0",
   "metadata": {},
   "source": [
    "The `help` for `conde` is quite useful here:"
   ]
  },
  {
   "cell_type": "code",
   "execution_count": 18,
   "id": "25798dbd-4b08-4bb0-a0ec-2218e57a8285",
   "metadata": {},
   "outputs": [
    {
     "name": "stdout",
     "output_type": "stream",
     "text": [
      "Help on function conde in module kanren.core:\n",
      "\n",
      "conde(*goalseqs)\n",
      "    Logical cond\n",
      "    \n",
      "    Goal constructor to provides logical AND and OR\n",
      "    \n",
      "    conde((A, B, C), (D, E)) means (A and B and C) or (D and E)\n",
      "    Equivalent to the (A, B, C); (D, E) syntax in Prolog.\n",
      "    \n",
      "    See Also:\n",
      "        lall - logical all\n",
      "        lany - logical any\n",
      "\n"
     ]
    }
   ],
   "source": [
    "help(conde)"
   ]
  },
  {
   "cell_type": "markdown",
   "id": "4df9c1bc",
   "metadata": {},
   "source": [
    "## Worked Example\n",
    "\n",
    "Let us now try to use Kanren to solve a Logic problem. We will use one that we have seen before.\n",
    "\n",
    "Ahmed, Chen, and Niamh are three friends. They went for dinner together one evening. They decided that they wanted to try all of the items on the menu so they all chose a different main course and a different dessert. The menu options for the main course were Pizza, Daal, and Falafel. For dessert, the choices were Apple Pie, Cheesecake, and Ice Cream. Given the five statements below, can you work out who ordered what?\n",
    "\n",
    "1. The person who had the Pizza did not have the Apple Pie.\n",
    "1. Niamh had the Daal.\n",
    "1. Ahmed did not have Cheesecake.\n",
    "1. Chen had the Apple Pie.\n",
    "1. The person who had the Ice Cream did not have the Falafel.\n",
    "\n",
    "It isn't immediately obvious how to formulate this so let's begin by making some observations.\n",
    "* We need all of these to be True so it seems likely that our goal will be constructed using `lall`.\n",
    "* We have to be able to deal with negations, but **Kanren does not support direct negation** (there are good technical reasons for this). We may need to reformulate the problem to account for this.\n",
    "\n",
    "Where do we even start? It isn't obvious, so let's define a skeleton that we can work with. We'll create a logical variable called `diners` that we will solve for, and a set of `rules`, all of which must be True"
   ]
  },
  {
   "cell_type": "code",
   "execution_count": 48,
   "id": "33dfb03c",
   "metadata": {},
   "outputs": [
    {
     "name": "stdout",
     "output_type": "stream",
     "text": [
      "(~_372,)\n"
     ]
    }
   ],
   "source": [
    "diners = var()\n",
    "\n",
    "rules = lall()\n",
    "\n",
    "solution = run(0, diners, rules)\n",
    "\n",
    "print(solution)\n"
   ]
  },
  {
   "cell_type": "markdown",
   "id": "00a2167f",
   "metadata": {},
   "source": [
    "This will turn out to be all that we need - except for the actual rules themselves. The rules need to define all of our knowledge of the solution. The logic solver will find sets of statements for which all of our rules hold.\n",
    "\n",
    "First, we know that each solution needs to contain logic three variables (name, dinner, dessert). We need to tell the solver this."
   ]
  },
  {
   "cell_type": "code",
   "execution_count": 52,
   "id": "995fe482",
   "metadata": {},
   "outputs": [
    {
     "name": "stdout",
     "output_type": "stream",
     "text": [
      "((~_458, ~_459, ~_460),)\n"
     ]
    }
   ],
   "source": [
    "diners = var()\n",
    "\n",
    "rules = lall(\n",
    "    (eq, (var(), var(), var()), diners)\n",
    ")\n",
    "\n",
    "solution = run(0, diners, rules)\n",
    "\n",
    "print(solution)"
   ]
  },
  {
   "cell_type": "markdown",
   "id": "488dbb33",
   "metadata": {},
   "source": [
    "Notice how this is formatted: the function and its arguments are passed separately. This is because we do not want the `eq` function to be evaluated at the point at which it is defined, Kanren's internals will combine them at the appropriate time.\n",
    "\n",
    "Let's now add one of the easier clues: \"Niamh had the Daal\"."
   ]
  },
  {
   "cell_type": "code",
   "execution_count": 53,
   "id": "df3589b6",
   "metadata": {},
   "outputs": [
    {
     "name": "stdout",
     "output_type": "stream",
     "text": [
      "((('Niamh', 'Daal', ~_465), ~_463, ~_464), (~_462, ('Niamh', 'Daal', ~_465), ~_464), (~_462, ~_463, ('Niamh', 'Daal', ~_465)))\n"
     ]
    }
   ],
   "source": [
    "diners = var()\n",
    "\n",
    "rules = lall(\n",
    "    (eq, (var(), var(), var()), diners),\n",
    "    (membero, (\"Niamh\", \"Daal\", var()), diners)\n",
    ")\n",
    "\n",
    "solution = run(0, diners, rules)\n",
    "\n",
    "print(solution)"
   ]
  },
  {
   "cell_type": "markdown",
   "id": "69f5f376",
   "metadata": {},
   "source": [
    "This line states that an entry in which Niamh had the Daal must be present in the solution. We see that this is indeed the case, but note that kanren has not yet been able to properly construct a solution because we have not yet specified the problem adequately.\n",
    "\n",
    "Another easy clue is \"Chen had the Apple Pie\"."
   ]
  },
  {
   "cell_type": "code",
   "execution_count": 55,
   "id": "835bee8f",
   "metadata": {},
   "outputs": [
    {
     "name": "stdout",
     "output_type": "stream",
     "text": [
      "(('Niamh', 'Daal', ~_476), ('Chen', ~_477, 'Apple Pie'), ~_475)\n",
      "(('Chen', ~_477, 'Apple Pie'), ('Niamh', 'Daal', ~_476), ~_475)\n",
      "(('Chen', ~_477, 'Apple Pie'), ~_474, ('Niamh', 'Daal', ~_476))\n",
      "(('Niamh', 'Daal', ~_476), ~_474, ('Chen', ~_477, 'Apple Pie'))\n",
      "(~_473, ('Niamh', 'Daal', ~_476), ('Chen', ~_477, 'Apple Pie'))\n",
      "(~_473, ('Chen', ~_477, 'Apple Pie'), ('Niamh', 'Daal', ~_476))\n"
     ]
    }
   ],
   "source": [
    "diners = var()\n",
    "\n",
    "rules = lall(\n",
    "    (eq, (var(), var(), var()), diners),\n",
    "    (membero, (\"Niamh\", \"Daal\", var()), diners),\n",
    "    (membero, (\"Chen\", var(), \"Apple Pie\"), diners)\n",
    ")\n",
    "\n",
    "solution = run(0, diners, rules)\n",
    "\n",
    "for s in solution:\n",
    "    print(s)"
   ]
  },
  {
   "cell_type": "markdown",
   "id": "c394811d",
   "metadata": {},
   "source": [
    "Let's look now at one of the more complex clues which we cannot express quite so easily: \"Ahmed did not have Cheesecake\". Kanren does not have a `not` operator/goal constructor and so we need to formulate this differently. We can do this by noticing that this rule means that Ahmed must have had a dessert that was not Cheesecake, which means it must have been either Apple Pie or Ice Cream. We can express this using the `lany` goal constructor:"
   ]
  },
  {
   "cell_type": "code",
   "execution_count": null,
   "id": "315c3ff9",
   "metadata": {},
   "outputs": [
    {
     "name": "stdout",
     "output_type": "stream",
     "text": [
      "(('Ahmed', ~_484, 'Apple Pie'), ('Niamh', 'Daal', ~_482), ('Chen', ~_483, 'Apple Pie'))\n",
      "(('Ahmed', ~_485, 'Ice Cream'), ('Niamh', 'Daal', ~_482), ('Chen', ~_483, 'Apple Pie'))\n",
      "(('Niamh', 'Daal', ~_482), ('Ahmed', ~_484, 'Apple Pie'), ('Chen', ~_483, 'Apple Pie'))\n",
      "(('Niamh', 'Daal', ~_482), ('Ahmed', ~_485, 'Ice Cream'), ('Chen', ~_483, 'Apple Pie'))\n",
      "(('Niamh', 'Daal', ~_482), ('Chen', ~_483, 'Apple Pie'), ('Ahmed', ~_484, 'Apple Pie'))\n",
      "(('Niamh', 'Daal', ~_482), ('Chen', ~_483, 'Apple Pie'), ('Ahmed', ~_485, 'Ice Cream'))\n",
      "(('Ahmed', ~_484, 'Apple Pie'), ('Chen', ~_483, 'Apple Pie'), ('Niamh', 'Daal', ~_482))\n",
      "(('Ahmed', ~_485, 'Ice Cream'), ('Chen', ~_483, 'Apple Pie'), ('Niamh', 'Daal', ~_482))\n",
      "(('Chen', ~_483, 'Apple Pie'), ('Ahmed', ~_484, 'Apple Pie'), ('Niamh', 'Daal', ~_482))\n",
      "(('Chen', ~_483, 'Apple Pie'), ('Ahmed', ~_485, 'Ice Cream'), ('Niamh', 'Daal', ~_482))\n",
      "(('Chen', ~_483, 'Apple Pie'), ('Niamh', 'Daal', ~_482), ('Ahmed', ~_484, 'Apple Pie'))\n",
      "(('Chen', ~_483, 'Apple Pie'), ('Niamh', 'Daal', ~_482), ('Ahmed', ~_485, 'Ice Cream'))\n"
     ]
    }
   ],
   "source": [
    "diners = var()\n",
    "\n",
    "rules = lall(\n",
    "    (eq, (var(), var(), var()), diners),\n",
    "    (membero, (\"Niamh\", \"Daal\", var()), diners),\n",
    "    (membero, (\"Chen\", var(), \"Apple Pie\"), diners),\n",
    "    lany(\n",
    "        (membero,(\"Ahmed\",var(),\"Apple Pie\"),diners),\n",
    "        (membero,(\"Ahmed\",var(),\"Ice Cream\"),diners)\n",
    "    )\n",
    ")\n",
    "\n",
    "solution = run(0, diners, rules)\n",
    "\n",
    "for s in solution:\n",
    "    print(s)"
   ]
  },
  {
   "cell_type": "markdown",
   "id": "244e7a3e",
   "metadata": {},
   "source": [
    "We see now that we have a solution of the correct form but with some repetitions because we still have not completely specified the problem.\n",
    "\n",
    "The other two clues can be expressed in the same way following reframing:\n",
    "* \"The person who had the Pizza did not have the Apple Pie\" becomes \"The person who had Pizza had Ice Cream or Cheesecake\".\n",
    "* \"The person who had the Ice Cream did not have the Falafel\" becomes \" The person who had Ice Cream had Daal or Pizza\".\n"
   ]
  },
  {
   "cell_type": "code",
   "execution_count": 57,
   "id": "c396428c",
   "metadata": {},
   "outputs": [
    {
     "name": "stdout",
     "output_type": "stream",
     "text": [
      "(('Ahmed', 'Pizza', 'Ice Cream'), ('Chen', 'Falafel', 'Apple Pie'), ('Niamh', 'Daal', ~_490))\n",
      "(('Chen', 'Falafel', 'Apple Pie'), ('Ahmed', 'Pizza', 'Ice Cream'), ('Niamh', 'Daal', ~_490))\n",
      "(('Chen', 'Falafel', 'Apple Pie'), ('Niamh', 'Daal', ~_490), ('Ahmed', 'Pizza', 'Ice Cream'))\n",
      "(('Ahmed', 'Pizza', 'Ice Cream'), ('Niamh', 'Daal', ~_490), ('Chen', 'Falafel', 'Apple Pie'))\n",
      "(('Niamh', 'Daal', ~_490), ('Ahmed', 'Pizza', 'Ice Cream'), ('Chen', 'Falafel', 'Apple Pie'))\n",
      "(('Niamh', 'Daal', ~_490), ('Chen', 'Falafel', 'Apple Pie'), ('Ahmed', 'Pizza', 'Ice Cream'))\n"
     ]
    }
   ],
   "source": [
    "diners = var()\n",
    "\n",
    "rules = lall(\n",
    "    (eq, (var(), var(), var()), diners),\n",
    "    (membero, (\"Niamh\", \"Daal\", var()), diners),\n",
    "    (membero, (\"Chen\", var(), \"Apple Pie\"),diners),\n",
    "    lany(\n",
    "        (membero, (var(), \"Pizza\", \"Cheesecake\"), diners),\n",
    "        (membero, (var(), \"Pizza\", \"Ice Cream\"), diners)\n",
    "    ),\n",
    "    lany(\n",
    "        (membero,(\"Ahmed\",var(),\"Apple Pie\"),diners),\n",
    "        (membero,(\"Ahmed\",var(),\"Ice Cream\"),diners)\n",
    "    ),\n",
    "    lany(\n",
    "        (membero,(var(),\"Falafel\",\"Apple Pie\"),diners),\n",
    "        (membero,(var(),\"Falafel\",\"Cheesecake\"),diners)\n",
    "    )\n",
    ")\n",
    "\n",
    "solution = run(0, diners, rules)\n",
    "for s in solution:\n",
    "    print(s)"
   ]
  },
  {
   "cell_type": "markdown",
   "id": "b58ff1d6",
   "metadata": {},
   "source": [
    "We now have an almost complete (albeit repetitive solution), but there is still a gap: what did Niamh have for dessert? Look back at how you solved this problem by hand. How did you deduce that Niamh had the Cheesecake for dessert? We used the constraint that everyone had to have ordered something, and having eliminated all of the other possibilities we deduced that this was the only remaining possibility.\n",
    "\n",
    "We have not yet encoded that constraint into the rules. Let us do so now. The way we will do this is by adding constaints that every person, main course, and dessert must appear."
   ]
  },
  {
   "cell_type": "code",
   "execution_count": null,
   "id": "fa73fb6a",
   "metadata": {},
   "outputs": [
    {
     "name": "stdout",
     "output_type": "stream",
     "text": [
      "(('Ahmed', 'Pizza', 'Ice Cream'), ('Chen', 'Falafel', 'Apple Pie'), ('Niamh', 'Daal', 'Cheesecake'))\n",
      "(('Chen', 'Falafel', 'Apple Pie'), ('Ahmed', 'Pizza', 'Ice Cream'), ('Niamh', 'Daal', 'Cheesecake'))\n",
      "(('Chen', 'Falafel', 'Apple Pie'), ('Niamh', 'Daal', 'Cheesecake'), ('Ahmed', 'Pizza', 'Ice Cream'))\n",
      "(('Ahmed', 'Pizza', 'Ice Cream'), ('Niamh', 'Daal', 'Cheesecake'), ('Chen', 'Falafel', 'Apple Pie'))\n",
      "(('Niamh', 'Daal', 'Cheesecake'), ('Ahmed', 'Pizza', 'Ice Cream'), ('Chen', 'Falafel', 'Apple Pie'))\n",
      "(('Niamh', 'Daal', 'Cheesecake'), ('Chen', 'Falafel', 'Apple Pie'), ('Ahmed', 'Pizza', 'Ice Cream'))\n"
     ]
    }
   ],
   "source": [
    "diners = var()\n",
    "\n",
    "rules = lall(\n",
    "    (eq, (var(), var(), var()), diners),\n",
    "    lany(\n",
    "        (membero, (var(), \"Pizza\", \"Cheesecake\"), diners),\n",
    "        (membero, (var(), \"Pizza\", \"Ice Cream\"), diners)\n",
    "    ),\n",
    "    (membero, (\"Niamh\", \"Daal\", var()), diners),\n",
    "    lany(\n",
    "        (membero,(\"Ahmed\",var(),\"Apple Pie\"),diners),\n",
    "        (membero,(\"Ahmed\",var(),\"Ice Cream\"),diners)\n",
    "    ),\n",
    "    (membero, (\"Chen\", var(), \"Apple Pie\"),diners),\n",
    "    lany(\n",
    "        (membero,(var(),\"Falafel\",\"Apple Pie\"),diners),\n",
    "        (membero,(var(),\"Falafel\",\"Cheesecake\"),diners)\n",
    "    ),\n",
    "    (membero, (\"Ahmed\",var(),var()),diners),\n",
    "    (membero, (\"Niamh\",var(),var()),diners),\n",
    "    (membero, (\"Chen\",var(),var()),diners),\n",
    "    (membero, (var(),\"Falafel\",var()),diners),\n",
    "    (membero, (var(),\"Pizza\",var()),diners),\n",
    "    (membero, (var(),\"Daal\",var()),diners),\n",
    "    (membero, (var(),var(),\"Cheesecake\"),diners),\n",
    "    (membero, (var(),var(),\"Apple Pie\"),diners),\n",
    "    (membero, (var(),var(),\"Ice Cream\"),diners)\n",
    ")\n",
    "\n",
    "solution = run(0, diners, rules)\n",
    "for s in solution:\n",
    "    print(s)"
   ]
  },
  {
   "cell_type": "markdown",
   "id": "e4819ce1",
   "metadata": {},
   "source": [
    "This now uniquely solves the problem: the solutions are identical but just permuted.\n",
    "\n",
    "Kanren can be used for solving any general logic problem, but one often has to put considerable thought into how to formulate the problem appropriately. Let's practice this."
   ]
  }
 ],
 "metadata": {
  "kernelspec": {
   "display_name": "Python 3",
   "language": "python",
   "name": "python3"
  },
  "language_info": {
   "codemirror_mode": {
    "name": "ipython",
    "version": 3
   },
   "file_extension": ".py",
   "mimetype": "text/x-python",
   "name": "python",
   "nbconvert_exporter": "python",
   "pygments_lexer": "ipython3",
   "version": "3.9.6"
  }
 },
 "nbformat": 4,
 "nbformat_minor": 5
}
