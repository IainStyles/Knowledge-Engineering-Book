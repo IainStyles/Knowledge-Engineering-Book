{
 "cells": [
  {
   "cell_type": "markdown",
   "metadata": {},
   "source": [
    "# Exercise 17 - Exact Inference\n",
    "\n",
    "Given the factorised distribution, compute the following distributions. Verify your calculations against the joint distribution.\n",
    "\n",
    "1. $P(F)$\n",
    "2. $P(F,M)$\n",
    "3. $P(M\\vert F)$"
   ]
  },
  {
   "cell_type": "code",
   "execution_count": 1,
   "metadata": {},
   "outputs": [],
   "source": [
    "import numpy as np\n",
    "JointPDF = np.zeros([2,2,2,2])\n",
    "JointPDF[0][0][:][:] = np.array([[.066,0.054],[0.0165,0.0135]])\n",
    "JointPDF[0][1][:][:] = np.array([[.081,.099],[.1215,.1485]])\n",
    "JointPDF[1][0][:][:] = np.array([[.044,.036],[.011,.009]])\n",
    "JointPDF[1][1][:][:] = np.array([[.054,.066],[.081,.099]])\n",
    "P_G = JointPDF.sum(axis=(1,2,3))\n",
    "P_M = JointPDF.sum(axis=(0,2,3))\n",
    "P_F_M = np.array([JointPDF.sum(axis=(0,3))[0]/P_M[0],JointPDF.sum(axis=(0,3))[1]/P_M[1]])\n",
    "P_P_M = np.array([JointPDF.sum(axis=(0,2))[0]/P_M[0],JointPDF.sum(axis=(0,2))[1]/P_M[1]])"
   ]
  }
 ],
 "metadata": {
  "kernelspec": {
   "display_name": "Python 3",
   "language": "python",
   "name": "python3"
  },
  "language_info": {
   "codemirror_mode": {
    "name": "ipython",
    "version": 3
   },
   "file_extension": ".py",
   "mimetype": "text/x-python",
   "name": "python",
   "nbconvert_exporter": "python",
   "pygments_lexer": "ipython3",
   "version": "3.9.6"
  }
 },
 "nbformat": 4,
 "nbformat_minor": 2
}
