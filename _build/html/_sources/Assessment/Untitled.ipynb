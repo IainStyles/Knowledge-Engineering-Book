{
 "cells": [
  {
   "cell_type": "code",
   "execution_count": 1,
   "id": "9e131ce2-b978-48b8-8549-5724735ab2c3",
   "metadata": {},
   "outputs": [],
   "source": [
    "from kanren import Relation, facts, run, var\n",
    "parent = Relation()\n",
    "facts(parent, (\"Homer\", \"Bart\"),\n",
    "      (\"Homer\", \"Lisa\"),\n",
    "      (\"Abe\",  \"Homer\")\n",
    "     )\n",
    "\n",
    "x = var()\n",
    "\n",
    "\n"
   ]
  },
  {
   "cell_type": "code",
   "execution_count": 2,
   "id": "e7c4a475-d190-4e94-8418-f288482dc7f6",
   "metadata": {},
   "outputs": [
    {
     "data": {
      "text/plain": [
       "('Homer',)"
      ]
     },
     "execution_count": 2,
     "metadata": {},
     "output_type": "execute_result"
    }
   ],
   "source": [
    "run(1, x, parent(x, \"Bart\"))"
   ]
  },
  {
   "cell_type": "code",
   "execution_count": 3,
   "id": "dfdf0a52-b229-4cbd-aab9-9a18459e7c75",
   "metadata": {},
   "outputs": [
    {
     "data": {
      "text/plain": [
       "('Lisa', 'Bart')"
      ]
     },
     "execution_count": 3,
     "metadata": {},
     "output_type": "execute_result"
    }
   ],
   "source": [
    "run(2, x, parent(\"Homer\", x))"
   ]
  },
  {
   "cell_type": "code",
   "execution_count": 13,
   "id": "d8bf121b-4acb-4ea4-8158-4bf58d90008c",
   "metadata": {},
   "outputs": [],
   "source": [
    "from kanren import *\n",
    "from kanren.core import lall\n",
    "import time"
   ]
  },
  {
   "cell_type": "code",
   "execution_count": 14,
   "id": "a2f20ab3-e025-407e-8738-bf1c3000c0c1",
   "metadata": {},
   "outputs": [
    {
     "name": "stdout",
     "output_type": "stream",
     "text": [
      "[(1, 2), (2, 3), (3, 4), (4, 5), (5, 6), (6, 7), (7, 8)]\n"
     ]
    }
   ],
   "source": [
    "mylist=[1,2,3,4,5,6,7,8]\n",
    "zlist = zip(mylist, mylist[1:])\n",
    "print(list(zlist))"
   ]
  },
  {
   "cell_type": "code",
   "execution_count": null,
   "id": "f5578c23-ba65-4216-98d8-b34d0176e4e6",
   "metadata": {},
   "outputs": [],
   "source": []
  },
  {
   "cell_type": "code",
   "execution_count": 15,
   "id": "928d865a-b5bf-441c-9b76-b9cacd20c538",
   "metadata": {},
   "outputs": [],
   "source": [
    "def left(q, p, list):\n",
    "# Is the sequence q,p in list\n",
    "    return membero((q,p), zip(list, list[1:]))\n",
    "\n",
    "def next(q, p, list):\n",
    "   return conde([left(q, p, list)], [left(p, q, list)])"
   ]
  },
  {
   "cell_type": "code",
   "execution_count": 19,
   "id": "8c5a0f72-9c74-410c-a612-f19993d92720",
   "metadata": {},
   "outputs": [
    {
     "data": {
      "text/plain": [
       "(4,)"
      ]
     },
     "execution_count": 19,
     "metadata": {},
     "output_type": "execute_result"
    }
   ],
   "source": [
    "x=var()\n",
    "run(0,x,left(x,5,mylist))"
   ]
  },
  {
   "cell_type": "code",
   "execution_count": 24,
   "id": "fc4ecdd3-ab35-4616-871f-119c7d2b85df",
   "metadata": {},
   "outputs": [
    {
     "data": {
      "text/plain": [
       "(4, 6)"
      ]
     },
     "execution_count": 24,
     "metadata": {},
     "output_type": "execute_result"
    }
   ],
   "source": [
    "run(0,x,next(x,5,mylist))"
   ]
  },
  {
   "cell_type": "code",
   "execution_count": 44,
   "id": "7704a545-bf8f-44bf-aeab-7dbec9d33b76",
   "metadata": {},
   "outputs": [],
   "source": [
    "houses = var()\n",
    "rules_zebraproblem = lall(\n",
    "   (eq, (var(), var(), var(), var(), var()), houses),\n",
    "\n",
    "   (membero,('Englishman', var(), var(), var(), 'red'), houses),\n",
    "   (membero,('Swede', var(), var(), 'dog', var()), houses),\n",
    "   (membero,('Dane', var(), 'tea', var(), var()), houses),\n",
    "   (left,(var(), var(), var(), var(), 'green'),\n",
    "   (var(), var(), var(), var(), 'white'), houses),\n",
    "   (membero,(var(), var(), 'coffee', var(), 'green'), houses),\n",
    "   (membero,(var(), 'Pall Mall', var(), 'birds', var()), houses),\n",
    "   (membero,(var(), 'Dunhill', var(), var(), 'yellow'), houses),\n",
    "   (eq,(var(), var(), (var(), var(), 'milk', var(), var()), var(), var()), houses),\n",
    "   (eq,(('Norwegian', var(), var(), var(), var()), var(), var(), var(), var()), houses),\n",
    "   (next,(var(), 'Blend', var(), var(), var()),\n",
    "   (var(), var(), var(), 'cats', var()), houses),\n",
    "   (next,(var(), 'Dunhill', var(), var(), var()),\n",
    "   (var(), var(), var(), 'horse', var()), houses),\n",
    "   (membero,(var(), 'Blue Master', 'beer', var(), var()), houses),\n",
    "   (membero,('German', 'Prince', var(), var(), var()), houses),\n",
    "   (next,('Norwegian', var(), var(), var(), var()),\n",
    "   (var(), var(), var(), var(), 'blue'), houses),\n",
    "   (next,(var(), 'Blend', var(), var(), var()),\n",
    "   (var(), var(), 'water', var(), var()), houses),\n",
    "   (membero,(var(), var(), var(), 'zebra', var()), houses)\n",
    ")"
   ]
  },
  {
   "cell_type": "code",
   "execution_count": 45,
   "id": "e3d7d474-5803-404b-837b-feef1388fbeb",
   "metadata": {},
   "outputs": [
    {
     "name": "stdout",
     "output_type": "stream",
     "text": [
      "((('Norwegian', 'Dunhill', 'water', 'cats', 'yellow'), ('Dane', 'Blend', 'tea', 'horse', 'blue'), ('Englishman', 'Pall Mall', 'milk', 'birds', 'red'), ('German', 'Prince', 'coffee', 'zebra', 'green'), ('Swede', 'Blue Master', 'beer', 'dog', 'white')),)\n",
      "\n",
      "German owns zebra.\n"
     ]
    }
   ],
   "source": [
    "solutions = run(0, houses, rules_zebraproblem)\n",
    "print(solutions)\n",
    "output_zebra = [house for house in solutions[0] if 'zebra' in house][0][0]\n",
    "print ('\\n'+ output_zebra + ' owns zebra.')\n"
   ]
  },
  {
   "cell_type": "code",
   "execution_count": 47,
   "id": "9e2694f4-962a-4fb0-993a-15446051a24c",
   "metadata": {},
   "outputs": [
    {
     "name": "stdout",
     "output_type": "stream",
     "text": [
      "((('Norwegian', 'Dunhills', 'water', 'cats', 'yellow'), ('Dane', 'Blends', 'tea', 'horse', 'blue'), ('Englishman', 'Pall Mall', 'milk', 'birds', 'red'), ('German', 'Princes', 'coffee', 'zebra', 'green'), ('Swede', 'Blue Masters', 'beer', 'dog', 'white')),)\n"
     ]
    }
   ],
   "source": [
    "# The Englishman lives in the red house\n",
    "# The Swede owns the dog\n",
    "# The Dane drinks tea\n",
    "# The green house is to the left of the white house\n",
    "# The person who lives in the green house drinks coffee\n",
    "# The person who smokes Pall Malls owns the Birds\n",
    "# The person who smokes Dunhills lives in the yellow house\n",
    "# The Norwegian does not drink Milk\n",
    "# The person who smokes Blends lives next to the house with the cats\n",
    "# The person who smokes Dunhills lives nect to the house with the horse\n",
    "# The person who smokes Blue Masters drinks beer\n",
    "# The German smokes Princes\n",
    "# The Norwegian lives next to the blue house\n",
    "# The person who smokes Blends lives next to the person who drinks water\n",
    "# [implicit] someone owns a Zebra\n",
    "\n",
    "# English, Swede, Dane, Norwegian, German\n",
    "# Green, White, Yellow, Blue, Red,\n",
    "# Tea, Coffee, Beer, Milk, Water\n",
    "# Blends, Princes, Pall Mall, Dunhills, Blue Masters\n",
    "# Dog, Birds, Cats, Horse, [Zebra (from the question)]\n",
    "\n",
    "# Create a var for the whole problem\n",
    "houses = var()\n",
    "# create the rules - must all be true\n",
    "rulebase = lall(\n",
    "    # Everyone must have five attribute\n",
    "    (eq, (var(), var(), var(), var(), var()), houses),\n",
    "    # The Englishman lives in the red house\n",
    "    # The Swede owns the dog\n",
    "    # The Dane drinks tea\n",
    "    (membero,('Englishman', var(), var(), var(), 'red'), houses),\n",
    "    (membero,('Swede', var(), var(), 'dog', var()), houses),\n",
    "    (membero,('Dane', var(), 'tea', var(), var()), houses),\n",
    "    # The green house is to the left of the white house\n",
    "    (left, (var(),var(),var(),var(),'green') , (var(),var(),var(),var(),'white') ,houses),\n",
    "    # The person who lives in the green house drinks coffee\n",
    "    (membero,(var(), var(), 'coffee', var(), 'green'), houses),\n",
    "    # The person who smokes Pall Malls owns the Birds\n",
    "    (membero,(var(), 'Pall Mall', var(), 'birds', var()), houses),\n",
    "    # The person who smokes Dunhills lives in the yellow house\n",
    "    (membero,(var(), 'Dunhills', var(), var(), 'yellow'), houses),\n",
    "    # The Norwegian does not drink Milk\n",
    "    (eq,(var(), var(), (var(), var(), 'milk', var(), var()), var(), var()), houses),\n",
    "    (eq,(('Norwegian', var(), var(), var(), var()), var(), var(), var(), var()), houses),\n",
    "    # The person who smokes Blends lives next to the house with the cats\n",
    "    (next, (var(), 'Blends', var(), var(), var()), (var(), var(), var(), 'cats', var()), houses),\n",
    "    # The person who smokes Dunhills lives nect to the house with the horse\n",
    "    (next, (var(), 'Dunhills', var(), var(), var()), (var(), var(), var(), 'horse', var()), houses),\n",
    "    # The person who smokes Blue Masters drinks beer\n",
    "    (membero,(var(), 'Blue Masters', 'beer', var(), var()), houses),\n",
    "    # The German smokes Princes\n",
    "    (membero,('German', 'Princes', var(), var(), var()), houses),\n",
    "    # The Norwegian lives next to the blue house\n",
    "    (next, ('Norwegian',var(),var(),var(),var()), (var(),var(),var(),var(),'blue'), houses),\n",
    "    # The person who smokes Blends lives next to the person who drinks water\n",
    "    (next, (var(), 'Blends', var(), var(), var()), (var(), var(), 'water', var(), var()), houses),\n",
    "    # Someone must own a zebra\n",
    "    (membero,(var(), var(), var(), 'zebra', var()), houses)\n",
    ")\n",
    "solutions = run(0, houses, rulebase)\n",
    "print(solutions)"
   ]
  },
  {
   "cell_type": "markdown",
   "id": "92a33d0f-b680-4c00-aa8d-8d6fc4e1a5b6",
   "metadata": {},
   "source": []
  }
 ],
 "metadata": {
  "kernelspec": {
   "display_name": "Python 3 (ipykernel)",
   "language": "python",
   "name": "python3"
  },
  "language_info": {
   "codemirror_mode": {
    "name": "ipython",
    "version": 3
   },
   "file_extension": ".py",
   "mimetype": "text/x-python",
   "name": "python",
   "nbconvert_exporter": "python",
   "pygments_lexer": "ipython3",
   "version": "3.9.6"
  }
 },
 "nbformat": 4,
 "nbformat_minor": 5
}
